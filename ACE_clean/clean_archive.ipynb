{
 "cells": [
  {
   "cell_type": "code",
   "execution_count": 75,
   "id": "12b1731e",
   "metadata": {},
   "outputs": [],
   "source": [
    "import sys\n",
    "import os\n",
    "from astropy.io import ascii\n",
    "from astropy.table import unique, Table\n",
    "import re"
   ]
  },
  {
   "cell_type": "code",
   "execution_count": 76,
   "id": "871d96b7",
   "metadata": {},
   "outputs": [],
   "source": [
    "ACE_DATA = \"/data/mta4/Space_Weather/ACE/Data\""
   ]
  },
  {
   "cell_type": "code",
   "execution_count": 77,
   "id": "c504b310",
   "metadata": {},
   "outputs": [],
   "source": [
    "#Doesnt' function very well. not a good use case\n",
    "def remove_repeats(ifile, start = 0, formatting = None, delim_neg = True):\n",
    "    \"\"\"\n",
    "    removes repeats from a data archive text file and resaves with same delimination\n",
    "    input: ifile --- data archive text file to clean\n",
    "           start --- predetermined starting line of data past possible file header\n",
    "           formatting -- predetermined formatting for use in rewriting text file following astropy convention\n",
    "           delim_neg --- If there are negative values, allow the negative sign to \n",
    "                         enter into the delimination space\n",
    "    output: cleaned file lines\n",
    "    \"\"\"\n",
    "    #Note that this function assumes we can read the full file into memory.\n",
    "    header_lines = []\n",
    "    f = open(ifile)\n",
    "    for i in range(start):\n",
    "        header_lines.append(f.readline())\n",
    "    first_data_line = f.readline()\n",
    "    f.close()\n",
    "    first_data_list = first_data_line.strip().split()\n",
    "    \n",
    "    #uses to first data line to detemrine the custom string spacing delimination in use\n",
    "    delimiters = re.split('[^\\s]',first_data_line)\n",
    "    delimiters = [j for j in delimiters if j != '']\n",
    "\n",
    "    #check the frist data line for negative values to adjust delimiters if necessary\n",
    "    for i in range(1,len(first_data_list)):\n",
    "        if (first_data_list[i][0]) == \"-\" and delim_neg:\n",
    "            delimiters[i-1] = delimiters[i-1] + \" \"\n",
    "    \n",
    "    #uses astropy to clean the data\n",
    "    data = ascii.read(ifile, data_start = start)\n",
    "    data = unique(data)\n",
    "    if formatting:\n",
    "        for i, col in enumerate(data.colnames):\n",
    "            data[col].format = formatting[i]\n",
    "    \n",
    "    #Because we need to retain our custom delimination but need to make use of format specification\n",
    "    #We will write the astropy table to a temporary file, then reading the data lines as strings\n",
    "    ascii.write(data, 'tmp.dat', overwrite = True, format = 'no_header', comment = False)\n",
    "    \n",
    "    with open('tmp.dat') as f:\n",
    "        data_lines = [x.strip().split() for x in f.readlines()]\n",
    "    os.remove('tmp.dat')\n",
    "    \n",
    "    #records a clean version of the text file in cwd\n",
    "    file_name = f\"clean_{os.path.basename(ifile)}\"\n",
    "    #write the stored header\n",
    "    f = open(file_name,'w')\n",
    "    for line in header_lines:\n",
    "        f.write(line)\n",
    "\n",
    "    for i in range(len(data_lines)):\n",
    "        line_list = data_lines[i]\n",
    "        append_line = ''\n",
    "        for j in range(len(line_list)):\n",
    "            if (line_list[j][0]) == \"-\" and delim_neg:\n",
    "                append_line = append_line[:-1]\n",
    "            append_line += str(line_list[j]) + delimiters[j]\n",
    "        f.write(append_line)\n",
    "    f.close()"
   ]
  },
  {
   "cell_type": "code",
   "execution_count": 78,
   "id": "58e17544",
   "metadata": {},
   "outputs": [],
   "source": [
    "formatting = [\"%04d\", \"%02d\", \"%02d\", \"%04d\", \"%05d\", \"%05d\", \"%01d\", \"%.2e\", \"%.2e\", \"%01d\", \"%.2e\", \"%.2e\", \"%.2e\", \"%.2e\", \"%.2e\", \"%.2f\"]\n",
    "remove_repeats('/data/mta4/Space_Weather/ACE/Data/ace_12h_archive', 0, formatting)"
   ]
  },
  {
   "cell_type": "code",
   "execution_count": 79,
   "id": "5350fa6b",
   "metadata": {},
   "outputs": [],
   "source": [
    "formatting = [\"%04d\", \"%02d\", \"%02d\", \"%04d\", \"%05d\", \"%05d\", \"%01d\", \"%.2e\", \"%.2e\", \"%01d\", \"%.2e\", \"%.2e\", \"%.2e\", \"%.2e\", \"%.2e\", \"%.2f\"]\n",
    "remove_repeats('/data/mta4/Space_Weather/ACE/Data/ace_7day_archive', 0, formatting)"
   ]
  },
  {
   "cell_type": "code",
   "execution_count": null,
   "id": "e05efdfe",
   "metadata": {},
   "outputs": [],
   "source": [
    "#For the ace_12h_archive and ace_7day_archive, the archiving script assumes that there \n",
    "#are no repeated lines in the text files. Once the archive files are cleaned, the script functions normally.\n",
    "#Changes to these secondary archive functions to include a check for repeated lines can be handled in a subsequent PR."
   ]
  },
  {
   "cell_type": "code",
   "execution_count": 80,
   "id": "33d4ec9b",
   "metadata": {},
   "outputs": [],
   "source": [
    "#make use of header and new formatting functionality for the ace.archive file as well.\n",
    "#From demonstrations below, the ace.archive file does not have repeated entries, \n",
    "#therefore cleaning the script is not required, but possible nonetheless\n",
    "#formatting = [\"%04d\", \"%02d\", \"%02d\", \"%04d\", \"%05d\", \"%5d\", \"%01d\", \"%.2e\", \"%.2e\", \"%01d\", \"%.2e\", \"%.2e\", \"%.2e\", \"%.2e\", \"%.2e\", \"%.2f\", \"%.2e\", \"%.2e\"]\n",
    "#remove_repeats(\"/data/mta4/Space_Weather/ACE/Data/ace.archive\", 17, formatting)"
   ]
  },
  {
   "cell_type": "code",
   "execution_count": 81,
   "id": "94226de6",
   "metadata": {},
   "outputs": [],
   "source": [
    "archive_table = ascii.read(f\"{ACE_DATA}/ace.archive\")"
   ]
  },
  {
   "cell_type": "code",
   "execution_count": 82,
   "id": "41e85803",
   "metadata": {},
   "outputs": [
    {
     "data": {
      "text/html": [
       "<div><i>Table length=405172</i>\n",
       "<table id=\"table140589036043280\" class=\"table-striped table-bordered table-condensed\">\n",
       "<thead><tr><th>col1</th><th>col2</th><th>col3</th><th>col4</th><th>col5</th><th>col6</th><th>col7</th><th>col8</th><th>col9</th><th>col10</th><th>col11</th><th>col12</th><th>col13</th><th>col14</th><th>col15</th><th>col16</th><th>col17</th><th>col18</th></tr></thead>\n",
       "<thead><tr><th>int64</th><th>int64</th><th>int64</th><th>int64</th><th>int64</th><th>int64</th><th>int64</th><th>float64</th><th>float64</th><th>int64</th><th>float64</th><th>float64</th><th>float64</th><th>float64</th><th>float64</th><th>float64</th><th>float64</th><th>float64</th></tr></thead>\n",
       "<tr><td>2024</td><td>2</td><td>16</td><td>1745</td><td>60356</td><td>63900</td><td>-1</td><td>-100000.0</td><td>-100000.0</td><td>-1</td><td>-100000.0</td><td>-100000.0</td><td>-100000.0</td><td>-100000.0</td><td>-100000.0</td><td>-1.0</td><td>360.0</td><td>131000000.0</td></tr>\n",
       "<tr><td>2024</td><td>2</td><td>16</td><td>1740</td><td>60356</td><td>63600</td><td>0</td><td>14600.0</td><td>489.0</td><td>0</td><td>7170.0</td><td>360.0</td><td>58.1</td><td>24.3</td><td>8.74</td><td>-1.0</td><td>360.0</td><td>131000000.0</td></tr>\n",
       "<tr><td>2024</td><td>2</td><td>16</td><td>1735</td><td>60356</td><td>63300</td><td>0</td><td>14500.0</td><td>472.0</td><td>0</td><td>7070.0</td><td>347.0</td><td>56.9</td><td>22.5</td><td>8.83</td><td>-1.0</td><td>347.0</td><td>131000000.0</td></tr>\n",
       "<tr><td>2024</td><td>2</td><td>16</td><td>1730</td><td>60356</td><td>63000</td><td>0</td><td>13400.0</td><td>459.0</td><td>0</td><td>6690.0</td><td>338.0</td><td>56.9</td><td>23.4</td><td>9.12</td><td>-1.0</td><td>338.0</td><td>131000000.0</td></tr>\n",
       "<tr><td>2024</td><td>2</td><td>16</td><td>1725</td><td>60356</td><td>62700</td><td>0</td><td>13600.0</td><td>471.0</td><td>0</td><td>6850.0</td><td>355.0</td><td>55.4</td><td>22.9</td><td>8.58</td><td>-1.0</td><td>355.0</td><td>131000000.0</td></tr>\n",
       "<tr><td>2024</td><td>2</td><td>16</td><td>1720</td><td>60356</td><td>62400</td><td>0</td><td>14000.0</td><td>450.0</td><td>0</td><td>6970.0</td><td>368.0</td><td>59.2</td><td>23.6</td><td>8.02</td><td>-1.0</td><td>368.0</td><td>131000000.0</td></tr>\n",
       "<tr><td>2024</td><td>2</td><td>16</td><td>1715</td><td>60356</td><td>62100</td><td>0</td><td>13600.0</td><td>444.0</td><td>0</td><td>6910.0</td><td>362.0</td><td>58.1</td><td>22.6</td><td>8.22</td><td>-1.0</td><td>362.0</td><td>131000000.0</td></tr>\n",
       "<tr><td>2024</td><td>2</td><td>16</td><td>1710</td><td>60356</td><td>61800</td><td>0</td><td>13100.0</td><td>451.0</td><td>0</td><td>6770.0</td><td>361.0</td><td>57.4</td><td>22.8</td><td>8.95</td><td>-1.0</td><td>361.0</td><td>131000000.0</td></tr>\n",
       "<tr><td>2024</td><td>2</td><td>16</td><td>1705</td><td>60356</td><td>61500</td><td>0</td><td>12700.0</td><td>464.0</td><td>0</td><td>7040.0</td><td>345.0</td><td>57.3</td><td>23.1</td><td>9.12</td><td>-1.0</td><td>345.0</td><td>130000000.0</td></tr>\n",
       "<tr><td>2024</td><td>2</td><td>16</td><td>1700</td><td>60356</td><td>61200</td><td>0</td><td>13300.0</td><td>459.0</td><td>0</td><td>6990.0</td><td>348.0</td><td>54.6</td><td>22.7</td><td>8.54</td><td>-1.0</td><td>348.0</td><td>130000000.0</td></tr>\n",
       "<tr><td>2024</td><td>2</td><td>16</td><td>1655</td><td>60356</td><td>60900</td><td>0</td><td>14600.0</td><td>473.0</td><td>0</td><td>6600.0</td><td>352.0</td><td>55.1</td><td>23.2</td><td>8.55</td><td>-1.0</td><td>352.0</td><td>130000000.0</td></tr>\n",
       "<tr><td>2024</td><td>2</td><td>16</td><td>1650</td><td>60356</td><td>60600</td><td>0</td><td>14600.0</td><td>483.0</td><td>0</td><td>7100.0</td><td>366.0</td><td>60.3</td><td>23.2</td><td>9.24</td><td>-1.0</td><td>366.0</td><td>130000000.0</td></tr>\n",
       "<tr><td>2024</td><td>2</td><td>16</td><td>1645</td><td>60356</td><td>60300</td><td>0</td><td>15100.0</td><td>469.0</td><td>0</td><td>7090.0</td><td>388.0</td><td>61.0</td><td>25.2</td><td>9.28</td><td>-1.0</td><td>388.0</td><td>130000000.0</td></tr>\n",
       "<tr><td>2024</td><td>2</td><td>16</td><td>1640</td><td>60356</td><td>60000</td><td>0</td><td>15400.0</td><td>489.0</td><td>0</td><td>7040.0</td><td>375.0</td><td>58.2</td><td>23.1</td><td>8.36</td><td>-1.0</td><td>375.0</td><td>130000000.0</td></tr>\n",
       "<tr><td>2024</td><td>2</td><td>16</td><td>1635</td><td>60356</td><td>59700</td><td>0</td><td>14700.0</td><td>477.0</td><td>0</td><td>6780.0</td><td>357.0</td><td>55.2</td><td>23.5</td><td>8.91</td><td>-1.0</td><td>357.0</td><td>130000000.0</td></tr>\n",
       "<tr><td>2024</td><td>2</td><td>16</td><td>1630</td><td>60356</td><td>59400</td><td>0</td><td>15500.0</td><td>500.0</td><td>0</td><td>7070.0</td><td>371.0</td><td>60.0</td><td>24.8</td><td>8.71</td><td>-1.0</td><td>371.0</td><td>130000000.0</td></tr>\n",
       "<tr><td>2024</td><td>2</td><td>16</td><td>1625</td><td>60356</td><td>59100</td><td>0</td><td>15600.0</td><td>500.0</td><td>0</td><td>7140.0</td><td>394.0</td><td>62.5</td><td>23.0</td><td>8.5</td><td>-1.0</td><td>394.0</td><td>130000000.0</td></tr>\n",
       "<tr><td>2024</td><td>2</td><td>16</td><td>1620</td><td>60356</td><td>58800</td><td>0</td><td>15600.0</td><td>473.0</td><td>0</td><td>6870.0</td><td>405.0</td><td>63.5</td><td>26.0</td><td>8.74</td><td>-1.0</td><td>405.0</td><td>129000000.0</td></tr>\n",
       "<tr><td>2024</td><td>2</td><td>16</td><td>1615</td><td>60356</td><td>58500</td><td>0</td><td>15300.0</td><td>490.0</td><td>0</td><td>7260.0</td><td>402.0</td><td>65.1</td><td>26.3</td><td>9.25</td><td>-1.0</td><td>402.0</td><td>129000000.0</td></tr>\n",
       "<tr><td>2024</td><td>2</td><td>16</td><td>1610</td><td>60356</td><td>58200</td><td>0</td><td>15800.0</td><td>496.0</td><td>0</td><td>7360.0</td><td>390.0</td><td>59.5</td><td>26.5</td><td>8.78</td><td>-1.0</td><td>390.0</td><td>129000000.0</td></tr>\n",
       "<tr><td>2024</td><td>2</td><td>16</td><td>1605</td><td>60356</td><td>57900</td><td>0</td><td>15800.0</td><td>520.0</td><td>0</td><td>7010.0</td><td>393.0</td><td>65.3</td><td>25.8</td><td>8.81</td><td>-1.0</td><td>393.0</td><td>129000000.0</td></tr>\n",
       "<tr><td>2024</td><td>2</td><td>16</td><td>1600</td><td>60356</td><td>57600</td><td>0</td><td>16000.0</td><td>505.0</td><td>0</td><td>7200.0</td><td>417.0</td><td>66.8</td><td>27.5</td><td>9.19</td><td>-1.0</td><td>417.0</td><td>129000000.0</td></tr>\n",
       "<tr><td>...</td><td>...</td><td>...</td><td>...</td><td>...</td><td>...</td><td>...</td><td>...</td><td>...</td><td>...</td><td>...</td><td>...</td><td>...</td><td>...</td><td>...</td><td>...</td><td>...</td><td>...</td></tr>\n",
       "<tr><td>2020</td><td>3</td><td>9</td><td>1720</td><td>58917</td><td>62400</td><td>0</td><td>884.0</td><td>34.1</td><td>0</td><td>3220.0</td><td>20.8</td><td>2.19</td><td>0.714</td><td>0.238</td><td>-1.0</td><td>20.8</td><td>5670000.0</td></tr>\n",
       "<tr><td>2020</td><td>3</td><td>9</td><td>1715</td><td>58917</td><td>62100</td><td>0</td><td>1300.0</td><td>31.6</td><td>0</td><td>3220.0</td><td>20.9</td><td>2.7</td><td>0.671</td><td>0.23</td><td>-1.0</td><td>20.9</td><td>5660000.0</td></tr>\n",
       "<tr><td>2020</td><td>3</td><td>9</td><td>1710</td><td>58917</td><td>61800</td><td>0</td><td>961.0</td><td>32.8</td><td>0</td><td>3020.0</td><td>21.6</td><td>2.99</td><td>0.52</td><td>0.251</td><td>-1.0</td><td>21.6</td><td>5660000.0</td></tr>\n",
       "<tr><td>2020</td><td>3</td><td>9</td><td>1705</td><td>58917</td><td>61500</td><td>0</td><td>939.0</td><td>32.6</td><td>0</td><td>3200.0</td><td>20.7</td><td>2.42</td><td>0.702</td><td>0.16</td><td>-1.0</td><td>20.7</td><td>5650000.0</td></tr>\n",
       "<tr><td>2020</td><td>3</td><td>9</td><td>1700</td><td>58917</td><td>61200</td><td>0</td><td>869.0</td><td>30.8</td><td>0</td><td>3200.0</td><td>19.4</td><td>2.29</td><td>0.565</td><td>0.258</td><td>-1.0</td><td>19.4</td><td>5650000.0</td></tr>\n",
       "<tr><td>2020</td><td>3</td><td>9</td><td>1655</td><td>58917</td><td>60900</td><td>0</td><td>1000.0</td><td>26.9</td><td>0</td><td>3150.0</td><td>21.8</td><td>2.92</td><td>0.743</td><td>0.194</td><td>-1.0</td><td>21.8</td><td>5640000.0</td></tr>\n",
       "<tr><td>2020</td><td>3</td><td>9</td><td>1650</td><td>58917</td><td>60600</td><td>0</td><td>884.0</td><td>28.7</td><td>0</td><td>3190.0</td><td>20.0</td><td>2.88</td><td>0.554</td><td>0.197</td><td>-1.0</td><td>20.0</td><td>5630000.0</td></tr>\n",
       "<tr><td>2020</td><td>3</td><td>9</td><td>1645</td><td>58917</td><td>60300</td><td>0</td><td>847.0</td><td>34.5</td><td>0</td><td>3230.0</td><td>21.1</td><td>2.86</td><td>0.734</td><td>0.165</td><td>-1.0</td><td>21.1</td><td>5630000.0</td></tr>\n",
       "<tr><td>2020</td><td>3</td><td>9</td><td>1640</td><td>58917</td><td>60000</td><td>0</td><td>1010.0</td><td>33.4</td><td>0</td><td>3220.0</td><td>20.1</td><td>2.75</td><td>0.788</td><td>0.2</td><td>-1.0</td><td>20.1</td><td>5620000.0</td></tr>\n",
       "<tr><td>2020</td><td>3</td><td>9</td><td>1635</td><td>58917</td><td>59700</td><td>0</td><td>968.0</td><td>32.7</td><td>0</td><td>3140.0</td><td>21.8</td><td>3.04</td><td>0.958</td><td>0.143</td><td>-1.0</td><td>21.8</td><td>5620000.0</td></tr>\n",
       "<tr><td>2020</td><td>3</td><td>9</td><td>1630</td><td>58917</td><td>59400</td><td>0</td><td>892.0</td><td>30.9</td><td>0</td><td>3160.0</td><td>19.0</td><td>2.77</td><td>0.725</td><td>0.219</td><td>-1.0</td><td>19.0</td><td>5610000.0</td></tr>\n",
       "<tr><td>2020</td><td>3</td><td>9</td><td>1625</td><td>58917</td><td>59100</td><td>0</td><td>1100.0</td><td>31.9</td><td>0</td><td>3350.0</td><td>20.4</td><td>2.98</td><td>0.813</td><td>0.241</td><td>-1.0</td><td>20.4</td><td>5600000.0</td></tr>\n",
       "<tr><td>2020</td><td>3</td><td>9</td><td>1620</td><td>58917</td><td>58800</td><td>0</td><td>944.0</td><td>32.3</td><td>0</td><td>3080.0</td><td>22.0</td><td>2.13</td><td>0.598</td><td>0.186</td><td>-1.0</td><td>22.0</td><td>5600000.0</td></tr>\n",
       "<tr><td>2020</td><td>3</td><td>9</td><td>1615</td><td>58917</td><td>58500</td><td>0</td><td>916.0</td><td>36.7</td><td>0</td><td>3200.0</td><td>23.1</td><td>2.35</td><td>0.708</td><td>0.226</td><td>-1.0</td><td>23.1</td><td>5590000.0</td></tr>\n",
       "<tr><td>2020</td><td>3</td><td>9</td><td>1610</td><td>58917</td><td>58200</td><td>0</td><td>921.0</td><td>32.2</td><td>0</td><td>3200.0</td><td>19.0</td><td>2.54</td><td>0.463</td><td>0.223</td><td>-1.0</td><td>19.0</td><td>5580000.0</td></tr>\n",
       "<tr><td>2020</td><td>3</td><td>9</td><td>1605</td><td>58917</td><td>57900</td><td>0</td><td>1080.0</td><td>32.3</td><td>0</td><td>3250.0</td><td>23.7</td><td>2.6</td><td>0.756</td><td>0.238</td><td>-1.0</td><td>23.7</td><td>5580000.0</td></tr>\n",
       "<tr><td>2020</td><td>3</td><td>9</td><td>1600</td><td>58917</td><td>57600</td><td>0</td><td>1010.0</td><td>26.4</td><td>0</td><td>3040.0</td><td>20.2</td><td>2.86</td><td>0.515</td><td>0.21</td><td>-1.0</td><td>20.2</td><td>5570000.0</td></tr>\n",
       "<tr><td>2020</td><td>3</td><td>9</td><td>1555</td><td>58917</td><td>57300</td><td>0</td><td>968.0</td><td>34.8</td><td>0</td><td>3260.0</td><td>20.7</td><td>2.74</td><td>0.822</td><td>0.117</td><td>-1.0</td><td>20.7</td><td>5560000.0</td></tr>\n",
       "<tr><td>2020</td><td>3</td><td>9</td><td>1550</td><td>58917</td><td>57000</td><td>0</td><td>1170.0</td><td>31.4</td><td>0</td><td>3260.0</td><td>18.8</td><td>2.74</td><td>0.545</td><td>0.213</td><td>-1.0</td><td>18.8</td><td>5560000.0</td></tr>\n",
       "<tr><td>2020</td><td>3</td><td>9</td><td>1545</td><td>58917</td><td>56700</td><td>0</td><td>923.0</td><td>33.2</td><td>0</td><td>3040.0</td><td>22.4</td><td>2.5</td><td>0.696</td><td>0.139</td><td>-1.0</td><td>22.4</td><td>5550000.0</td></tr>\n",
       "<tr><td>2020</td><td>3</td><td>9</td><td>1540</td><td>58917</td><td>56400</td><td>0</td><td>954.0</td><td>31.8</td><td>0</td><td>3180.0</td><td>19.8</td><td>2.63</td><td>0.742</td><td>0.212</td><td>-1.0</td><td>19.8</td><td>5550000.0</td></tr>\n",
       "<tr><td>2020</td><td>3</td><td>9</td><td>1535</td><td>58917</td><td>56100</td><td>0</td><td>950.0</td><td>31.9</td><td>0</td><td>3200.0</td><td>20.9</td><td>2.45</td><td>0.89</td><td>0.0875</td><td>-1.0</td><td>20.9</td><td>5540000.0</td></tr>\n",
       "</table></div>"
      ],
      "text/plain": [
       "<Table length=405172>\n",
       " col1  col2  col3  col4  col5  col6  col7    col8      col9   col10   col11     col12     col13     col14     col15    col16   col17     col18   \n",
       "int64 int64 int64 int64 int64 int64 int64  float64   float64  int64  float64   float64   float64   float64   float64  float64 float64   float64  \n",
       "----- ----- ----- ----- ----- ----- ----- --------- --------- ----- --------- --------- --------- --------- --------- ------- ------- -----------\n",
       " 2024     2    16  1745 60356 63900    -1 -100000.0 -100000.0    -1 -100000.0 -100000.0 -100000.0 -100000.0 -100000.0    -1.0   360.0 131000000.0\n",
       " 2024     2    16  1740 60356 63600     0   14600.0     489.0     0    7170.0     360.0      58.1      24.3      8.74    -1.0   360.0 131000000.0\n",
       " 2024     2    16  1735 60356 63300     0   14500.0     472.0     0    7070.0     347.0      56.9      22.5      8.83    -1.0   347.0 131000000.0\n",
       " 2024     2    16  1730 60356 63000     0   13400.0     459.0     0    6690.0     338.0      56.9      23.4      9.12    -1.0   338.0 131000000.0\n",
       " 2024     2    16  1725 60356 62700     0   13600.0     471.0     0    6850.0     355.0      55.4      22.9      8.58    -1.0   355.0 131000000.0\n",
       " 2024     2    16  1720 60356 62400     0   14000.0     450.0     0    6970.0     368.0      59.2      23.6      8.02    -1.0   368.0 131000000.0\n",
       " 2024     2    16  1715 60356 62100     0   13600.0     444.0     0    6910.0     362.0      58.1      22.6      8.22    -1.0   362.0 131000000.0\n",
       " 2024     2    16  1710 60356 61800     0   13100.0     451.0     0    6770.0     361.0      57.4      22.8      8.95    -1.0   361.0 131000000.0\n",
       " 2024     2    16  1705 60356 61500     0   12700.0     464.0     0    7040.0     345.0      57.3      23.1      9.12    -1.0   345.0 130000000.0\n",
       " 2024     2    16  1700 60356 61200     0   13300.0     459.0     0    6990.0     348.0      54.6      22.7      8.54    -1.0   348.0 130000000.0\n",
       " 2024     2    16  1655 60356 60900     0   14600.0     473.0     0    6600.0     352.0      55.1      23.2      8.55    -1.0   352.0 130000000.0\n",
       " 2024     2    16  1650 60356 60600     0   14600.0     483.0     0    7100.0     366.0      60.3      23.2      9.24    -1.0   366.0 130000000.0\n",
       " 2024     2    16  1645 60356 60300     0   15100.0     469.0     0    7090.0     388.0      61.0      25.2      9.28    -1.0   388.0 130000000.0\n",
       " 2024     2    16  1640 60356 60000     0   15400.0     489.0     0    7040.0     375.0      58.2      23.1      8.36    -1.0   375.0 130000000.0\n",
       " 2024     2    16  1635 60356 59700     0   14700.0     477.0     0    6780.0     357.0      55.2      23.5      8.91    -1.0   357.0 130000000.0\n",
       " 2024     2    16  1630 60356 59400     0   15500.0     500.0     0    7070.0     371.0      60.0      24.8      8.71    -1.0   371.0 130000000.0\n",
       " 2024     2    16  1625 60356 59100     0   15600.0     500.0     0    7140.0     394.0      62.5      23.0       8.5    -1.0   394.0 130000000.0\n",
       " 2024     2    16  1620 60356 58800     0   15600.0     473.0     0    6870.0     405.0      63.5      26.0      8.74    -1.0   405.0 129000000.0\n",
       " 2024     2    16  1615 60356 58500     0   15300.0     490.0     0    7260.0     402.0      65.1      26.3      9.25    -1.0   402.0 129000000.0\n",
       " 2024     2    16  1610 60356 58200     0   15800.0     496.0     0    7360.0     390.0      59.5      26.5      8.78    -1.0   390.0 129000000.0\n",
       " 2024     2    16  1605 60356 57900     0   15800.0     520.0     0    7010.0     393.0      65.3      25.8      8.81    -1.0   393.0 129000000.0\n",
       " 2024     2    16  1600 60356 57600     0   16000.0     505.0     0    7200.0     417.0      66.8      27.5      9.19    -1.0   417.0 129000000.0\n",
       "  ...   ...   ...   ...   ...   ...   ...       ...       ...   ...       ...       ...       ...       ...       ...     ...     ...         ...\n",
       " 2020     3     9  1720 58917 62400     0     884.0      34.1     0    3220.0      20.8      2.19     0.714     0.238    -1.0    20.8   5670000.0\n",
       " 2020     3     9  1715 58917 62100     0    1300.0      31.6     0    3220.0      20.9       2.7     0.671      0.23    -1.0    20.9   5660000.0\n",
       " 2020     3     9  1710 58917 61800     0     961.0      32.8     0    3020.0      21.6      2.99      0.52     0.251    -1.0    21.6   5660000.0\n",
       " 2020     3     9  1705 58917 61500     0     939.0      32.6     0    3200.0      20.7      2.42     0.702      0.16    -1.0    20.7   5650000.0\n",
       " 2020     3     9  1700 58917 61200     0     869.0      30.8     0    3200.0      19.4      2.29     0.565     0.258    -1.0    19.4   5650000.0\n",
       " 2020     3     9  1655 58917 60900     0    1000.0      26.9     0    3150.0      21.8      2.92     0.743     0.194    -1.0    21.8   5640000.0\n",
       " 2020     3     9  1650 58917 60600     0     884.0      28.7     0    3190.0      20.0      2.88     0.554     0.197    -1.0    20.0   5630000.0\n",
       " 2020     3     9  1645 58917 60300     0     847.0      34.5     0    3230.0      21.1      2.86     0.734     0.165    -1.0    21.1   5630000.0\n",
       " 2020     3     9  1640 58917 60000     0    1010.0      33.4     0    3220.0      20.1      2.75     0.788       0.2    -1.0    20.1   5620000.0\n",
       " 2020     3     9  1635 58917 59700     0     968.0      32.7     0    3140.0      21.8      3.04     0.958     0.143    -1.0    21.8   5620000.0\n",
       " 2020     3     9  1630 58917 59400     0     892.0      30.9     0    3160.0      19.0      2.77     0.725     0.219    -1.0    19.0   5610000.0\n",
       " 2020     3     9  1625 58917 59100     0    1100.0      31.9     0    3350.0      20.4      2.98     0.813     0.241    -1.0    20.4   5600000.0\n",
       " 2020     3     9  1620 58917 58800     0     944.0      32.3     0    3080.0      22.0      2.13     0.598     0.186    -1.0    22.0   5600000.0\n",
       " 2020     3     9  1615 58917 58500     0     916.0      36.7     0    3200.0      23.1      2.35     0.708     0.226    -1.0    23.1   5590000.0\n",
       " 2020     3     9  1610 58917 58200     0     921.0      32.2     0    3200.0      19.0      2.54     0.463     0.223    -1.0    19.0   5580000.0\n",
       " 2020     3     9  1605 58917 57900     0    1080.0      32.3     0    3250.0      23.7       2.6     0.756     0.238    -1.0    23.7   5580000.0\n",
       " 2020     3     9  1600 58917 57600     0    1010.0      26.4     0    3040.0      20.2      2.86     0.515      0.21    -1.0    20.2   5570000.0\n",
       " 2020     3     9  1555 58917 57300     0     968.0      34.8     0    3260.0      20.7      2.74     0.822     0.117    -1.0    20.7   5560000.0\n",
       " 2020     3     9  1550 58917 57000     0    1170.0      31.4     0    3260.0      18.8      2.74     0.545     0.213    -1.0    18.8   5560000.0\n",
       " 2020     3     9  1545 58917 56700     0     923.0      33.2     0    3040.0      22.4       2.5     0.696     0.139    -1.0    22.4   5550000.0\n",
       " 2020     3     9  1540 58917 56400     0     954.0      31.8     0    3180.0      19.8      2.63     0.742     0.212    -1.0    19.8   5550000.0\n",
       " 2020     3     9  1535 58917 56100     0     950.0      31.9     0    3200.0      20.9      2.45      0.89    0.0875    -1.0    20.9   5540000.0"
      ]
     },
     "execution_count": 82,
     "metadata": {},
     "output_type": "execute_result"
    }
   ],
   "source": [
    "archive_table"
   ]
  },
  {
   "cell_type": "code",
   "execution_count": 83,
   "id": "9443f880",
   "metadata": {},
   "outputs": [],
   "source": [
    "unique_archive_table = unique(archive_table)"
   ]
  },
  {
   "cell_type": "code",
   "execution_count": 84,
   "id": "813def55",
   "metadata": {},
   "outputs": [
    {
     "data": {
      "text/html": [
       "<div><i>Table length=405172</i>\n",
       "<table id=\"table140589036036656\" class=\"table-striped table-bordered table-condensed\">\n",
       "<thead><tr><th>col1</th><th>col2</th><th>col3</th><th>col4</th><th>col5</th><th>col6</th><th>col7</th><th>col8</th><th>col9</th><th>col10</th><th>col11</th><th>col12</th><th>col13</th><th>col14</th><th>col15</th><th>col16</th><th>col17</th><th>col18</th></tr></thead>\n",
       "<thead><tr><th>int64</th><th>int64</th><th>int64</th><th>int64</th><th>int64</th><th>int64</th><th>int64</th><th>float64</th><th>float64</th><th>int64</th><th>float64</th><th>float64</th><th>float64</th><th>float64</th><th>float64</th><th>float64</th><th>float64</th><th>float64</th></tr></thead>\n",
       "<tr><td>2020</td><td>3</td><td>9</td><td>1535</td><td>58917</td><td>56100</td><td>0</td><td>950.0</td><td>31.9</td><td>0</td><td>3200.0</td><td>20.9</td><td>2.45</td><td>0.89</td><td>0.0875</td><td>-1.0</td><td>20.9</td><td>5540000.0</td></tr>\n",
       "<tr><td>2020</td><td>3</td><td>9</td><td>1540</td><td>58917</td><td>56400</td><td>0</td><td>954.0</td><td>31.8</td><td>0</td><td>3180.0</td><td>19.8</td><td>2.63</td><td>0.742</td><td>0.212</td><td>-1.0</td><td>19.8</td><td>5550000.0</td></tr>\n",
       "<tr><td>2020</td><td>3</td><td>9</td><td>1545</td><td>58917</td><td>56700</td><td>0</td><td>923.0</td><td>33.2</td><td>0</td><td>3040.0</td><td>22.4</td><td>2.5</td><td>0.696</td><td>0.139</td><td>-1.0</td><td>22.4</td><td>5550000.0</td></tr>\n",
       "<tr><td>2020</td><td>3</td><td>9</td><td>1550</td><td>58917</td><td>57000</td><td>0</td><td>1170.0</td><td>31.4</td><td>0</td><td>3260.0</td><td>18.8</td><td>2.74</td><td>0.545</td><td>0.213</td><td>-1.0</td><td>18.8</td><td>5560000.0</td></tr>\n",
       "<tr><td>2020</td><td>3</td><td>9</td><td>1555</td><td>58917</td><td>57300</td><td>0</td><td>968.0</td><td>34.8</td><td>0</td><td>3260.0</td><td>20.7</td><td>2.74</td><td>0.822</td><td>0.117</td><td>-1.0</td><td>20.7</td><td>5560000.0</td></tr>\n",
       "<tr><td>2020</td><td>3</td><td>9</td><td>1600</td><td>58917</td><td>57600</td><td>0</td><td>1010.0</td><td>26.4</td><td>0</td><td>3040.0</td><td>20.2</td><td>2.86</td><td>0.515</td><td>0.21</td><td>-1.0</td><td>20.2</td><td>5570000.0</td></tr>\n",
       "<tr><td>2020</td><td>3</td><td>9</td><td>1605</td><td>58917</td><td>57900</td><td>0</td><td>1080.0</td><td>32.3</td><td>0</td><td>3250.0</td><td>23.7</td><td>2.6</td><td>0.756</td><td>0.238</td><td>-1.0</td><td>23.7</td><td>5580000.0</td></tr>\n",
       "<tr><td>2020</td><td>3</td><td>9</td><td>1610</td><td>58917</td><td>58200</td><td>0</td><td>921.0</td><td>32.2</td><td>0</td><td>3200.0</td><td>19.0</td><td>2.54</td><td>0.463</td><td>0.223</td><td>-1.0</td><td>19.0</td><td>5580000.0</td></tr>\n",
       "<tr><td>2020</td><td>3</td><td>9</td><td>1615</td><td>58917</td><td>58500</td><td>0</td><td>916.0</td><td>36.7</td><td>0</td><td>3200.0</td><td>23.1</td><td>2.35</td><td>0.708</td><td>0.226</td><td>-1.0</td><td>23.1</td><td>5590000.0</td></tr>\n",
       "<tr><td>2020</td><td>3</td><td>9</td><td>1620</td><td>58917</td><td>58800</td><td>0</td><td>944.0</td><td>32.3</td><td>0</td><td>3080.0</td><td>22.0</td><td>2.13</td><td>0.598</td><td>0.186</td><td>-1.0</td><td>22.0</td><td>5600000.0</td></tr>\n",
       "<tr><td>2020</td><td>3</td><td>9</td><td>1625</td><td>58917</td><td>59100</td><td>0</td><td>1100.0</td><td>31.9</td><td>0</td><td>3350.0</td><td>20.4</td><td>2.98</td><td>0.813</td><td>0.241</td><td>-1.0</td><td>20.4</td><td>5600000.0</td></tr>\n",
       "<tr><td>2020</td><td>3</td><td>9</td><td>1630</td><td>58917</td><td>59400</td><td>0</td><td>892.0</td><td>30.9</td><td>0</td><td>3160.0</td><td>19.0</td><td>2.77</td><td>0.725</td><td>0.219</td><td>-1.0</td><td>19.0</td><td>5610000.0</td></tr>\n",
       "<tr><td>2020</td><td>3</td><td>9</td><td>1635</td><td>58917</td><td>59700</td><td>0</td><td>968.0</td><td>32.7</td><td>0</td><td>3140.0</td><td>21.8</td><td>3.04</td><td>0.958</td><td>0.143</td><td>-1.0</td><td>21.8</td><td>5620000.0</td></tr>\n",
       "<tr><td>2020</td><td>3</td><td>9</td><td>1640</td><td>58917</td><td>60000</td><td>0</td><td>1010.0</td><td>33.4</td><td>0</td><td>3220.0</td><td>20.1</td><td>2.75</td><td>0.788</td><td>0.2</td><td>-1.0</td><td>20.1</td><td>5620000.0</td></tr>\n",
       "<tr><td>2020</td><td>3</td><td>9</td><td>1645</td><td>58917</td><td>60300</td><td>0</td><td>847.0</td><td>34.5</td><td>0</td><td>3230.0</td><td>21.1</td><td>2.86</td><td>0.734</td><td>0.165</td><td>-1.0</td><td>21.1</td><td>5630000.0</td></tr>\n",
       "<tr><td>2020</td><td>3</td><td>9</td><td>1650</td><td>58917</td><td>60600</td><td>0</td><td>884.0</td><td>28.7</td><td>0</td><td>3190.0</td><td>20.0</td><td>2.88</td><td>0.554</td><td>0.197</td><td>-1.0</td><td>20.0</td><td>5630000.0</td></tr>\n",
       "<tr><td>2020</td><td>3</td><td>9</td><td>1655</td><td>58917</td><td>60900</td><td>0</td><td>1000.0</td><td>26.9</td><td>0</td><td>3150.0</td><td>21.8</td><td>2.92</td><td>0.743</td><td>0.194</td><td>-1.0</td><td>21.8</td><td>5640000.0</td></tr>\n",
       "<tr><td>2020</td><td>3</td><td>9</td><td>1700</td><td>58917</td><td>61200</td><td>0</td><td>869.0</td><td>30.8</td><td>0</td><td>3200.0</td><td>19.4</td><td>2.29</td><td>0.565</td><td>0.258</td><td>-1.0</td><td>19.4</td><td>5650000.0</td></tr>\n",
       "<tr><td>2020</td><td>3</td><td>9</td><td>1705</td><td>58917</td><td>61500</td><td>0</td><td>939.0</td><td>32.6</td><td>0</td><td>3200.0</td><td>20.7</td><td>2.42</td><td>0.702</td><td>0.16</td><td>-1.0</td><td>20.7</td><td>5650000.0</td></tr>\n",
       "<tr><td>2020</td><td>3</td><td>9</td><td>1710</td><td>58917</td><td>61800</td><td>0</td><td>961.0</td><td>32.8</td><td>0</td><td>3020.0</td><td>21.6</td><td>2.99</td><td>0.52</td><td>0.251</td><td>-1.0</td><td>21.6</td><td>5660000.0</td></tr>\n",
       "<tr><td>2020</td><td>3</td><td>9</td><td>1715</td><td>58917</td><td>62100</td><td>0</td><td>1300.0</td><td>31.6</td><td>0</td><td>3220.0</td><td>20.9</td><td>2.7</td><td>0.671</td><td>0.23</td><td>-1.0</td><td>20.9</td><td>5660000.0</td></tr>\n",
       "<tr><td>2020</td><td>3</td><td>9</td><td>1720</td><td>58917</td><td>62400</td><td>0</td><td>884.0</td><td>34.1</td><td>0</td><td>3220.0</td><td>20.8</td><td>2.19</td><td>0.714</td><td>0.238</td><td>-1.0</td><td>20.8</td><td>5670000.0</td></tr>\n",
       "<tr><td>...</td><td>...</td><td>...</td><td>...</td><td>...</td><td>...</td><td>...</td><td>...</td><td>...</td><td>...</td><td>...</td><td>...</td><td>...</td><td>...</td><td>...</td><td>...</td><td>...</td><td>...</td></tr>\n",
       "<tr><td>2024</td><td>2</td><td>16</td><td>1600</td><td>60356</td><td>57600</td><td>0</td><td>16000.0</td><td>505.0</td><td>0</td><td>7200.0</td><td>417.0</td><td>66.8</td><td>27.5</td><td>9.19</td><td>-1.0</td><td>417.0</td><td>129000000.0</td></tr>\n",
       "<tr><td>2024</td><td>2</td><td>16</td><td>1605</td><td>60356</td><td>57900</td><td>0</td><td>15800.0</td><td>520.0</td><td>0</td><td>7010.0</td><td>393.0</td><td>65.3</td><td>25.8</td><td>8.81</td><td>-1.0</td><td>393.0</td><td>129000000.0</td></tr>\n",
       "<tr><td>2024</td><td>2</td><td>16</td><td>1610</td><td>60356</td><td>58200</td><td>0</td><td>15800.0</td><td>496.0</td><td>0</td><td>7360.0</td><td>390.0</td><td>59.5</td><td>26.5</td><td>8.78</td><td>-1.0</td><td>390.0</td><td>129000000.0</td></tr>\n",
       "<tr><td>2024</td><td>2</td><td>16</td><td>1615</td><td>60356</td><td>58500</td><td>0</td><td>15300.0</td><td>490.0</td><td>0</td><td>7260.0</td><td>402.0</td><td>65.1</td><td>26.3</td><td>9.25</td><td>-1.0</td><td>402.0</td><td>129000000.0</td></tr>\n",
       "<tr><td>2024</td><td>2</td><td>16</td><td>1620</td><td>60356</td><td>58800</td><td>0</td><td>15600.0</td><td>473.0</td><td>0</td><td>6870.0</td><td>405.0</td><td>63.5</td><td>26.0</td><td>8.74</td><td>-1.0</td><td>405.0</td><td>129000000.0</td></tr>\n",
       "<tr><td>2024</td><td>2</td><td>16</td><td>1625</td><td>60356</td><td>59100</td><td>0</td><td>15600.0</td><td>500.0</td><td>0</td><td>7140.0</td><td>394.0</td><td>62.5</td><td>23.0</td><td>8.5</td><td>-1.0</td><td>394.0</td><td>130000000.0</td></tr>\n",
       "<tr><td>2024</td><td>2</td><td>16</td><td>1630</td><td>60356</td><td>59400</td><td>0</td><td>15500.0</td><td>500.0</td><td>0</td><td>7070.0</td><td>371.0</td><td>60.0</td><td>24.8</td><td>8.71</td><td>-1.0</td><td>371.0</td><td>130000000.0</td></tr>\n",
       "<tr><td>2024</td><td>2</td><td>16</td><td>1635</td><td>60356</td><td>59700</td><td>0</td><td>14700.0</td><td>477.0</td><td>0</td><td>6780.0</td><td>357.0</td><td>55.2</td><td>23.5</td><td>8.91</td><td>-1.0</td><td>357.0</td><td>130000000.0</td></tr>\n",
       "<tr><td>2024</td><td>2</td><td>16</td><td>1640</td><td>60356</td><td>60000</td><td>0</td><td>15400.0</td><td>489.0</td><td>0</td><td>7040.0</td><td>375.0</td><td>58.2</td><td>23.1</td><td>8.36</td><td>-1.0</td><td>375.0</td><td>130000000.0</td></tr>\n",
       "<tr><td>2024</td><td>2</td><td>16</td><td>1645</td><td>60356</td><td>60300</td><td>0</td><td>15100.0</td><td>469.0</td><td>0</td><td>7090.0</td><td>388.0</td><td>61.0</td><td>25.2</td><td>9.28</td><td>-1.0</td><td>388.0</td><td>130000000.0</td></tr>\n",
       "<tr><td>2024</td><td>2</td><td>16</td><td>1650</td><td>60356</td><td>60600</td><td>0</td><td>14600.0</td><td>483.0</td><td>0</td><td>7100.0</td><td>366.0</td><td>60.3</td><td>23.2</td><td>9.24</td><td>-1.0</td><td>366.0</td><td>130000000.0</td></tr>\n",
       "<tr><td>2024</td><td>2</td><td>16</td><td>1655</td><td>60356</td><td>60900</td><td>0</td><td>14600.0</td><td>473.0</td><td>0</td><td>6600.0</td><td>352.0</td><td>55.1</td><td>23.2</td><td>8.55</td><td>-1.0</td><td>352.0</td><td>130000000.0</td></tr>\n",
       "<tr><td>2024</td><td>2</td><td>16</td><td>1700</td><td>60356</td><td>61200</td><td>0</td><td>13300.0</td><td>459.0</td><td>0</td><td>6990.0</td><td>348.0</td><td>54.6</td><td>22.7</td><td>8.54</td><td>-1.0</td><td>348.0</td><td>130000000.0</td></tr>\n",
       "<tr><td>2024</td><td>2</td><td>16</td><td>1705</td><td>60356</td><td>61500</td><td>0</td><td>12700.0</td><td>464.0</td><td>0</td><td>7040.0</td><td>345.0</td><td>57.3</td><td>23.1</td><td>9.12</td><td>-1.0</td><td>345.0</td><td>130000000.0</td></tr>\n",
       "<tr><td>2024</td><td>2</td><td>16</td><td>1710</td><td>60356</td><td>61800</td><td>0</td><td>13100.0</td><td>451.0</td><td>0</td><td>6770.0</td><td>361.0</td><td>57.4</td><td>22.8</td><td>8.95</td><td>-1.0</td><td>361.0</td><td>131000000.0</td></tr>\n",
       "<tr><td>2024</td><td>2</td><td>16</td><td>1715</td><td>60356</td><td>62100</td><td>0</td><td>13600.0</td><td>444.0</td><td>0</td><td>6910.0</td><td>362.0</td><td>58.1</td><td>22.6</td><td>8.22</td><td>-1.0</td><td>362.0</td><td>131000000.0</td></tr>\n",
       "<tr><td>2024</td><td>2</td><td>16</td><td>1720</td><td>60356</td><td>62400</td><td>0</td><td>14000.0</td><td>450.0</td><td>0</td><td>6970.0</td><td>368.0</td><td>59.2</td><td>23.6</td><td>8.02</td><td>-1.0</td><td>368.0</td><td>131000000.0</td></tr>\n",
       "<tr><td>2024</td><td>2</td><td>16</td><td>1725</td><td>60356</td><td>62700</td><td>0</td><td>13600.0</td><td>471.0</td><td>0</td><td>6850.0</td><td>355.0</td><td>55.4</td><td>22.9</td><td>8.58</td><td>-1.0</td><td>355.0</td><td>131000000.0</td></tr>\n",
       "<tr><td>2024</td><td>2</td><td>16</td><td>1730</td><td>60356</td><td>63000</td><td>0</td><td>13400.0</td><td>459.0</td><td>0</td><td>6690.0</td><td>338.0</td><td>56.9</td><td>23.4</td><td>9.12</td><td>-1.0</td><td>338.0</td><td>131000000.0</td></tr>\n",
       "<tr><td>2024</td><td>2</td><td>16</td><td>1735</td><td>60356</td><td>63300</td><td>0</td><td>14500.0</td><td>472.0</td><td>0</td><td>7070.0</td><td>347.0</td><td>56.9</td><td>22.5</td><td>8.83</td><td>-1.0</td><td>347.0</td><td>131000000.0</td></tr>\n",
       "<tr><td>2024</td><td>2</td><td>16</td><td>1740</td><td>60356</td><td>63600</td><td>0</td><td>14600.0</td><td>489.0</td><td>0</td><td>7170.0</td><td>360.0</td><td>58.1</td><td>24.3</td><td>8.74</td><td>-1.0</td><td>360.0</td><td>131000000.0</td></tr>\n",
       "<tr><td>2024</td><td>2</td><td>16</td><td>1745</td><td>60356</td><td>63900</td><td>-1</td><td>-100000.0</td><td>-100000.0</td><td>-1</td><td>-100000.0</td><td>-100000.0</td><td>-100000.0</td><td>-100000.0</td><td>-100000.0</td><td>-1.0</td><td>360.0</td><td>131000000.0</td></tr>\n",
       "</table></div>"
      ],
      "text/plain": [
       "<Table length=405172>\n",
       " col1  col2  col3  col4  col5  col6  col7    col8      col9   col10   col11     col12     col13     col14     col15    col16   col17     col18   \n",
       "int64 int64 int64 int64 int64 int64 int64  float64   float64  int64  float64   float64   float64   float64   float64  float64 float64   float64  \n",
       "----- ----- ----- ----- ----- ----- ----- --------- --------- ----- --------- --------- --------- --------- --------- ------- ------- -----------\n",
       " 2020     3     9  1535 58917 56100     0     950.0      31.9     0    3200.0      20.9      2.45      0.89    0.0875    -1.0    20.9   5540000.0\n",
       " 2020     3     9  1540 58917 56400     0     954.0      31.8     0    3180.0      19.8      2.63     0.742     0.212    -1.0    19.8   5550000.0\n",
       " 2020     3     9  1545 58917 56700     0     923.0      33.2     0    3040.0      22.4       2.5     0.696     0.139    -1.0    22.4   5550000.0\n",
       " 2020     3     9  1550 58917 57000     0    1170.0      31.4     0    3260.0      18.8      2.74     0.545     0.213    -1.0    18.8   5560000.0\n",
       " 2020     3     9  1555 58917 57300     0     968.0      34.8     0    3260.0      20.7      2.74     0.822     0.117    -1.0    20.7   5560000.0\n",
       " 2020     3     9  1600 58917 57600     0    1010.0      26.4     0    3040.0      20.2      2.86     0.515      0.21    -1.0    20.2   5570000.0\n",
       " 2020     3     9  1605 58917 57900     0    1080.0      32.3     0    3250.0      23.7       2.6     0.756     0.238    -1.0    23.7   5580000.0\n",
       " 2020     3     9  1610 58917 58200     0     921.0      32.2     0    3200.0      19.0      2.54     0.463     0.223    -1.0    19.0   5580000.0\n",
       " 2020     3     9  1615 58917 58500     0     916.0      36.7     0    3200.0      23.1      2.35     0.708     0.226    -1.0    23.1   5590000.0\n",
       " 2020     3     9  1620 58917 58800     0     944.0      32.3     0    3080.0      22.0      2.13     0.598     0.186    -1.0    22.0   5600000.0\n",
       " 2020     3     9  1625 58917 59100     0    1100.0      31.9     0    3350.0      20.4      2.98     0.813     0.241    -1.0    20.4   5600000.0\n",
       " 2020     3     9  1630 58917 59400     0     892.0      30.9     0    3160.0      19.0      2.77     0.725     0.219    -1.0    19.0   5610000.0\n",
       " 2020     3     9  1635 58917 59700     0     968.0      32.7     0    3140.0      21.8      3.04     0.958     0.143    -1.0    21.8   5620000.0\n",
       " 2020     3     9  1640 58917 60000     0    1010.0      33.4     0    3220.0      20.1      2.75     0.788       0.2    -1.0    20.1   5620000.0\n",
       " 2020     3     9  1645 58917 60300     0     847.0      34.5     0    3230.0      21.1      2.86     0.734     0.165    -1.0    21.1   5630000.0\n",
       " 2020     3     9  1650 58917 60600     0     884.0      28.7     0    3190.0      20.0      2.88     0.554     0.197    -1.0    20.0   5630000.0\n",
       " 2020     3     9  1655 58917 60900     0    1000.0      26.9     0    3150.0      21.8      2.92     0.743     0.194    -1.0    21.8   5640000.0\n",
       " 2020     3     9  1700 58917 61200     0     869.0      30.8     0    3200.0      19.4      2.29     0.565     0.258    -1.0    19.4   5650000.0\n",
       " 2020     3     9  1705 58917 61500     0     939.0      32.6     0    3200.0      20.7      2.42     0.702      0.16    -1.0    20.7   5650000.0\n",
       " 2020     3     9  1710 58917 61800     0     961.0      32.8     0    3020.0      21.6      2.99      0.52     0.251    -1.0    21.6   5660000.0\n",
       " 2020     3     9  1715 58917 62100     0    1300.0      31.6     0    3220.0      20.9       2.7     0.671      0.23    -1.0    20.9   5660000.0\n",
       " 2020     3     9  1720 58917 62400     0     884.0      34.1     0    3220.0      20.8      2.19     0.714     0.238    -1.0    20.8   5670000.0\n",
       "  ...   ...   ...   ...   ...   ...   ...       ...       ...   ...       ...       ...       ...       ...       ...     ...     ...         ...\n",
       " 2024     2    16  1600 60356 57600     0   16000.0     505.0     0    7200.0     417.0      66.8      27.5      9.19    -1.0   417.0 129000000.0\n",
       " 2024     2    16  1605 60356 57900     0   15800.0     520.0     0    7010.0     393.0      65.3      25.8      8.81    -1.0   393.0 129000000.0\n",
       " 2024     2    16  1610 60356 58200     0   15800.0     496.0     0    7360.0     390.0      59.5      26.5      8.78    -1.0   390.0 129000000.0\n",
       " 2024     2    16  1615 60356 58500     0   15300.0     490.0     0    7260.0     402.0      65.1      26.3      9.25    -1.0   402.0 129000000.0\n",
       " 2024     2    16  1620 60356 58800     0   15600.0     473.0     0    6870.0     405.0      63.5      26.0      8.74    -1.0   405.0 129000000.0\n",
       " 2024     2    16  1625 60356 59100     0   15600.0     500.0     0    7140.0     394.0      62.5      23.0       8.5    -1.0   394.0 130000000.0\n",
       " 2024     2    16  1630 60356 59400     0   15500.0     500.0     0    7070.0     371.0      60.0      24.8      8.71    -1.0   371.0 130000000.0\n",
       " 2024     2    16  1635 60356 59700     0   14700.0     477.0     0    6780.0     357.0      55.2      23.5      8.91    -1.0   357.0 130000000.0\n",
       " 2024     2    16  1640 60356 60000     0   15400.0     489.0     0    7040.0     375.0      58.2      23.1      8.36    -1.0   375.0 130000000.0\n",
       " 2024     2    16  1645 60356 60300     0   15100.0     469.0     0    7090.0     388.0      61.0      25.2      9.28    -1.0   388.0 130000000.0\n",
       " 2024     2    16  1650 60356 60600     0   14600.0     483.0     0    7100.0     366.0      60.3      23.2      9.24    -1.0   366.0 130000000.0\n",
       " 2024     2    16  1655 60356 60900     0   14600.0     473.0     0    6600.0     352.0      55.1      23.2      8.55    -1.0   352.0 130000000.0\n",
       " 2024     2    16  1700 60356 61200     0   13300.0     459.0     0    6990.0     348.0      54.6      22.7      8.54    -1.0   348.0 130000000.0\n",
       " 2024     2    16  1705 60356 61500     0   12700.0     464.0     0    7040.0     345.0      57.3      23.1      9.12    -1.0   345.0 130000000.0\n",
       " 2024     2    16  1710 60356 61800     0   13100.0     451.0     0    6770.0     361.0      57.4      22.8      8.95    -1.0   361.0 131000000.0\n",
       " 2024     2    16  1715 60356 62100     0   13600.0     444.0     0    6910.0     362.0      58.1      22.6      8.22    -1.0   362.0 131000000.0\n",
       " 2024     2    16  1720 60356 62400     0   14000.0     450.0     0    6970.0     368.0      59.2      23.6      8.02    -1.0   368.0 131000000.0\n",
       " 2024     2    16  1725 60356 62700     0   13600.0     471.0     0    6850.0     355.0      55.4      22.9      8.58    -1.0   355.0 131000000.0\n",
       " 2024     2    16  1730 60356 63000     0   13400.0     459.0     0    6690.0     338.0      56.9      23.4      9.12    -1.0   338.0 131000000.0\n",
       " 2024     2    16  1735 60356 63300     0   14500.0     472.0     0    7070.0     347.0      56.9      22.5      8.83    -1.0   347.0 131000000.0\n",
       " 2024     2    16  1740 60356 63600     0   14600.0     489.0     0    7170.0     360.0      58.1      24.3      8.74    -1.0   360.0 131000000.0\n",
       " 2024     2    16  1745 60356 63900    -1 -100000.0 -100000.0    -1 -100000.0 -100000.0 -100000.0 -100000.0 -100000.0    -1.0   360.0 131000000.0"
      ]
     },
     "execution_count": 84,
     "metadata": {},
     "output_type": "execute_result"
    }
   ],
   "source": [
    "unique_archive_table"
   ]
  },
  {
   "cell_type": "code",
   "execution_count": 85,
   "id": "ca158dd7",
   "metadata": {},
   "outputs": [],
   "source": [
    "#Since the number data entires contained in the ace.archive file are equivalent \n",
    "#to the unique astropy table version, we know that there are now repeated data entries."
   ]
  },
  {
   "cell_type": "code",
   "execution_count": 31,
   "id": "1a53b071",
   "metadata": {},
   "outputs": [],
   "source": [
    "#Cleaning the longterm/ace_data.txt file line by line\n",
    "#Since opening the full file into memory isn't possbile/ideal\n",
    "import subprocess\n",
    "import Chandra.Time\n",
    "import time"
   ]
  },
  {
   "cell_type": "code",
   "execution_count": 19,
   "id": "08e2c8c6",
   "metadata": {},
   "outputs": [],
   "source": [
    "filename = f\"{os.getcwd()}/ace_data.txt\""
   ]
  },
  {
   "cell_type": "code",
   "execution_count": 24,
   "id": "1364a2f0",
   "metadata": {},
   "outputs": [],
   "source": [
    "#Find the last time entry more efficiently than reading the full file.\n",
    "cmd = f\"tail -n 1 {filename}\"\n",
    "output = subprocess.check_output(cmd, shell=True, executable='/bin/csh')"
   ]
  },
  {
   "cell_type": "code",
   "execution_count": 25,
   "id": "e47106a4",
   "metadata": {},
   "outputs": [
    {
     "data": {
      "text/plain": [
       "'2024 02 16  1600   60356   57600  0  1.60e+04  5.05e+02  0  7.20e+03  4.17e+02  6.68e+01  2.75e+01  9.19e+00  -1.00\\n'"
      ]
     },
     "execution_count": 25,
     "metadata": {},
     "output_type": "execute_result"
    }
   ],
   "source": [
    "output.decode()"
   ]
  },
  {
   "cell_type": "code",
   "execution_count": 34,
   "id": "3a21ece2",
   "metadata": {},
   "outputs": [],
   "source": [
    "dfile = ACE_DATA + '/longterm/ace_data.txt'\n",
    "last_line = subprocess.check_output(f\"tail -n 1 {dfile}\", shell=True, executable='/bin/csh').decode()\n",
    "atemp = re.split('\\s+', last_line)"
   ]
  },
  {
   "cell_type": "code",
   "execution_count": 35,
   "id": "f3b009fa",
   "metadata": {},
   "outputs": [
    {
     "data": {
      "text/plain": [
       "['2024',\n",
       " '02',\n",
       " '16',\n",
       " '1605',\n",
       " '60356',\n",
       " '57900',\n",
       " '0',\n",
       " '1.58e+04',\n",
       " '5.20e+02',\n",
       " '0',\n",
       " '7.01e+03',\n",
       " '3.93e+02',\n",
       " '6.53e+01',\n",
       " '2.58e+01',\n",
       " '8.81e+00',\n",
       " '-1.00',\n",
       " '']"
      ]
     },
     "execution_count": 35,
     "metadata": {},
     "output_type": "execute_result"
    }
   ],
   "source": [
    "atemp"
   ]
  },
  {
   "cell_type": "code",
   "execution_count": 36,
   "id": "a4415a59",
   "metadata": {},
   "outputs": [],
   "source": [
    "ltime = atemp[0] + ':' + atemp[1] + ':' + atemp[2] + ':' + atemp[3][0] + atemp[3][1] + ':'\n",
    "ltime = ltime    + atemp[3][2] + atemp[3][3] + ':00' \n",
    "ltime = time.strftime('%Y:%j:%H:%M:%S', time.strptime(ltime, '%Y:%m:%d:%H:%M:%S'))\n",
    "stime = int(Chandra.Time.DateTime(ltime).secs)"
   ]
  },
  {
   "cell_type": "code",
   "execution_count": 37,
   "id": "a21c795f",
   "metadata": {},
   "outputs": [
    {
     "data": {
      "text/plain": [
       "824486769"
      ]
     },
     "execution_count": 37,
     "metadata": {},
     "output_type": "execute_result"
    }
   ],
   "source": [
    "stime"
   ]
  },
  {
   "cell_type": "code",
   "execution_count": 39,
   "id": "066616e6",
   "metadata": {},
   "outputs": [],
   "source": [
    "#path append git branch.\n",
    "sys.path.append(\"/data/mta4/waaron/git/Space_Weather_New/ACE/Scripts\")"
   ]
  },
  {
   "cell_type": "code",
   "execution_count": 40,
   "id": "c508238e",
   "metadata": {},
   "outputs": [],
   "source": [
    "import update_ace_data_files as upd"
   ]
  },
  {
   "cell_type": "code",
   "execution_count": 48,
   "id": "62ee27ba",
   "metadata": {},
   "outputs": [],
   "source": [
    "[current_ace_data, chead] = upd.read_current_ace_data()"
   ]
  },
  {
   "cell_type": "code",
   "execution_count": 49,
   "id": "a728544a",
   "metadata": {},
   "outputs": [],
   "source": [
    "ndata = current_ace_data"
   ]
  },
  {
   "cell_type": "code",
   "execution_count": 50,
   "id": "c6cc3db3",
   "metadata": {},
   "outputs": [],
   "source": [
    "dlen  = len(ndata[0])"
   ]
  },
  {
   "cell_type": "code",
   "execution_count": 51,
   "id": "fba3038f",
   "metadata": {},
   "outputs": [
    {
     "data": {
      "text/plain": [
       "24"
      ]
     },
     "execution_count": 51,
     "metadata": {},
     "output_type": "execute_result"
    }
   ],
   "source": [
    "dlen"
   ]
  },
  {
   "cell_type": "code",
   "execution_count": 52,
   "id": "4a6284ad",
   "metadata": {},
   "outputs": [
    {
     "data": {
      "text/plain": [
       "[824481069,\n",
       " 824481369,\n",
       " 824481669,\n",
       " 824481969,\n",
       " 824482269,\n",
       " 824482569,\n",
       " 824482869,\n",
       " 824483169,\n",
       " 824483469,\n",
       " 824483769,\n",
       " 824484069,\n",
       " 824484369,\n",
       " 824484669,\n",
       " 824484969,\n",
       " 824485269,\n",
       " 824485569,\n",
       " 824485869,\n",
       " 824486169,\n",
       " 824486469,\n",
       " 824486769,\n",
       " 824487069,\n",
       " 824487369,\n",
       " 824487669,\n",
       " 824487969]"
      ]
     },
     "execution_count": 52,
     "metadata": {},
     "output_type": "execute_result"
    }
   ],
   "source": [
    "ndata[0]"
   ]
  },
  {
   "cell_type": "code",
   "execution_count": 54,
   "id": "a04f97c5",
   "metadata": {},
   "outputs": [],
   "source": [
    "#Current method of appending to the longterm archive\n",
    "line = ''\n",
    "for m in range(0, dlen):\n",
    "        if ndata[0][m] > stime:\n",
    "#\n",
    "#--- record only good data\n",
    "#\n",
    "            if ndata[2][m] != 0 or ndata[5][m] != 0:\n",
    "                continue\n",
    "\n",
    "        line = line + ndata[1][m]\n",
    "        line = line + '%3d'   % ndata[2][m]\n",
    "        line = line + upd.line_adjust(ndata[3][m])\n",
    "        line = line + upd.line_adjust(ndata[4][m])\n",
    "        line = line + '%3d'   % ndata[5][m]\n",
    "        line = line + upd.line_adjust(ndata[6][m])\n",
    "        line = line + upd.line_adjust(ndata[7][m])\n",
    "        line = line + upd.line_adjust(ndata[8][m])\n",
    "        line = line + upd.line_adjust(ndata[9][m])\n",
    "        line = line + upd.line_adjust(ndata[10][m])\n",
    "        line = line + '%7.2f' % ndata[11][m]\n",
    "        line = line + '\\n'"
   ]
  },
  {
   "cell_type": "code",
   "execution_count": 57,
   "id": "a67b78c7",
   "metadata": {},
   "outputs": [
    {
     "name": "stdout",
     "output_type": "stream",
     "text": [
      "last line entry of the file: 2024 02 16  1605   60356   57900  0  1.58e+04  5.20e+02  0  7.01e+03  3.93e+02  6.53e+01  2.58e+01  8.81e+00  -1.00\n",
      "\n",
      "2024 02 16  1430   60356   52200  02024 02 16  1430   60356   52200  0  1.63e+04  5.37e+02  0  7.18e+03  4.06e+02  6.78e+01  2.72e+01  9.57e+00  -1.00\n",
      "2024 02 16  1435   60356   52500  0  1.63e+04  5.27e+02  0  7.16e+03  4.02e+02  6.47e+01  2.76e+01  9.46e+00  -1.00\n",
      "2024 02 16  1440   60356   52800  0  1.64e+04  5.31e+02  0  7.07e+03  3.93e+02  6.57e+01  2.76e+01  9.07e+00  -1.00\n",
      "2024 02 16  1445   60356   53100  0  1.64e+04  5.06e+02  0  7.35e+03  4.03e+02  6.84e+01  2.72e+01  9.26e+00  -1.00\n",
      "2024 02 16  1450   60356   53400  0  1.66e+04  5.28e+02  0  7.14e+03  4.25e+02  7.02e+01  2.73e+01  9.64e+00  -1.00\n",
      "2024 02 16  1455   60356   53700  0  1.58e+04  5.01e+02  0  6.80e+03  4.09e+02  6.92e+01  2.82e+01  9.13e+00  -1.00\n",
      "2024 02 16  1500   60356   54000  0  1.63e+04  5.05e+02  0  7.25e+03  4.18e+02  6.76e+01  2.88e+01  9.79e+00  -1.00\n",
      "2024 02 16  1505   60356   54300  0  1.62e+04  5.06e+02  0  7.29e+03  4.26e+02  6.55e+01  2.69e+01  9.03e+00  -1.00\n",
      "2024 02 16  1510   60356   54600  0  1.58e+04  5.06e+02  0  7.18e+03  4.28e+02  6.52e+01  2.84e+01  9.58e+00  -1.00\n",
      "2024 02 16  1515   60356   54900  0  1.65e+04  5.22e+02  0  7.26e+03  4.12e+02  6.66e+01  2.63e+01  9.66e+00  -1.00\n",
      "2024 02 16  1520   60356   55200  0  1.59e+04  5.07e+02  0  7.24e+03  4.19e+02  6.60e+01  2.66e+01  9.39e+00  -1.00\n",
      "2024 02 16  1525   60356   55500  0  1.59e+04  4.96e+02  0  7.30e+03  4.09e+02  6.75e+01  2.95e+01  8.85e+00  -1.00\n",
      "2024 02 16  1530   60356   55800  0  1.65e+04  5.02e+02  0  7.08e+03  4.30e+02  6.85e+01  2.79e+01  9.18e+00  -1.00\n",
      "2024 02 16  1535   60356   56100  0  1.61e+04  5.00e+02  0  7.38e+03  4.30e+02  6.83e+01  2.76e+01  1.01e+01  -1.00\n",
      "2024 02 16  1540   60356   56400  0  1.58e+04  5.08e+02  0  7.45e+03  4.19e+02  6.79e+01  2.63e+01  9.37e+00  -1.00\n",
      "2024 02 16  1545   60356   56700  0  1.57e+04  4.79e+02  0  7.10e+03  4.33e+02  6.80e+01  2.85e+01  9.39e+00  -1.00\n",
      "2024 02 16  1550   60356   57000  0  1.61e+04  5.16e+02  0  7.27e+03  4.06e+02  6.73e+01  2.87e+01  9.26e+00  -1.00\n",
      "2024 02 16  1555   60356   57300  0  1.54e+04  4.89e+02  0  6.95e+03  4.34e+02  6.68e+01  2.80e+01  9.54e+00  -1.00\n",
      "2024 02 16  1600   60356   57600  0  1.60e+04  5.05e+02  0  7.20e+03  4.17e+02  6.68e+01  2.75e+01  9.19e+00  -1.00\n",
      "2024 02 16  1605   60356   57900  0  1.58e+04  5.20e+02  0  7.01e+03  3.93e+02  6.53e+01  2.58e+01  8.81e+00  -1.00\n",
      "2024 02 16  1610   60356   58200  0  1.58e+04  4.96e+02  0  7.36e+03  3.90e+02  5.95e+01  2.65e+01  8.78e+00  -1.00\n",
      "2024 02 16  1615   60356   58500  0  1.53e+04  4.90e+02  0  7.26e+03  4.02e+02  6.51e+01  2.63e+01  9.25e+00  -1.00\n",
      "2024 02 16  1620   60356   58800  0  1.56e+04  4.73e+02  0  6.87e+03  4.05e+02  6.35e+01  2.60e+01  8.74e+00  -1.00\n",
      "\n"
     ]
    }
   ],
   "source": [
    "print(f\"last line entry of the file: {last_line}\")\n",
    "print(line)"
   ]
  },
  {
   "cell_type": "code",
   "execution_count": 58,
   "id": "1534b37f",
   "metadata": {},
   "outputs": [],
   "source": [
    "#From the above data formatting, you can see that the text lines intended to be appended to the longterm file\n",
    "#will append regardless of whether or not the time of the data entry is last the lat time entry,\n",
    "#as detemined by stime.\n",
    "\n",
    "#By adjusting the indentation, we ensute that the data lines are only written if the time entry is past stime"
   ]
  },
  {
   "cell_type": "code",
   "execution_count": 59,
   "id": "8ca0961b",
   "metadata": {},
   "outputs": [],
   "source": [
    "line = ''\n",
    "for m in range(0, dlen):\n",
    "        if ndata[0][m] > stime:\n",
    "#\n",
    "#--- record only good data\n",
    "#\n",
    "            if ndata[2][m] != 0 or ndata[5][m] != 0:\n",
    "                continue\n",
    "\n",
    "            line = line + ndata[1][m]\n",
    "            line = line + '%3d'   % ndata[2][m]\n",
    "            line = line + upd.line_adjust(ndata[3][m])\n",
    "            line = line + upd.line_adjust(ndata[4][m])\n",
    "            line = line + '%3d'   % ndata[5][m]\n",
    "            line = line + upd.line_adjust(ndata[6][m])\n",
    "            line = line + upd.line_adjust(ndata[7][m])\n",
    "            line = line + upd.line_adjust(ndata[8][m])\n",
    "            line = line + upd.line_adjust(ndata[9][m])\n",
    "            line = line + upd.line_adjust(ndata[10][m])\n",
    "            line = line + '%7.2f' % ndata[11][m]\n",
    "            line = line + '\\n'"
   ]
  },
  {
   "cell_type": "code",
   "execution_count": 60,
   "id": "6af37f85",
   "metadata": {},
   "outputs": [
    {
     "name": "stdout",
     "output_type": "stream",
     "text": [
      "last line entry of the file: 2024 02 16  1605   60356   57900  0  1.58e+04  5.20e+02  0  7.01e+03  3.93e+02  6.53e+01  2.58e+01  8.81e+00  -1.00\n",
      "\n",
      "2024 02 16  1610   60356   58200  0  1.58e+04  4.96e+02  0  7.36e+03  3.90e+02  5.95e+01  2.65e+01  8.78e+00  -1.00\n",
      "2024 02 16  1615   60356   58500  0  1.53e+04  4.90e+02  0  7.26e+03  4.02e+02  6.51e+01  2.63e+01  9.25e+00  -1.00\n",
      "2024 02 16  1620   60356   58800  0  1.56e+04  4.73e+02  0  6.87e+03  4.05e+02  6.35e+01  2.60e+01  8.74e+00  -1.00\n",
      "\n"
     ]
    }
   ],
   "source": [
    "print(f\"last line entry of the file: {last_line}\")\n",
    "print(line)"
   ]
  },
  {
   "cell_type": "code",
   "execution_count": 67,
   "id": "fe5f155d",
   "metadata": {},
   "outputs": [],
   "source": [
    "#Use of a smaller ace_data.txt example to show that the following function operates correctly.\n",
    "filename = f\"{os.getcwd()}/ace_data.txt\""
   ]
  },
  {
   "cell_type": "code",
   "execution_count": 68,
   "id": "25d5d763",
   "metadata": {},
   "outputs": [],
   "source": [
    "#Simple function to clean the longterm ace data archive. Note that since the original\n",
    "#uncleaned archive file is aroun 1.2G, cleaning the full file donw to 200M will take some time.\n",
    "def longterm_clean(filename):\n",
    "    f = open(filename)\n",
    "    new_file = f\"clean_{os.path.basename(filename)}\"\n",
    "    g = open(new_file,'w')\n",
    "    last_time = 0\n",
    "    while True:\n",
    "        f_line = f.readline()\n",
    "        if f_line == '':\n",
    "            break\n",
    "        #break if we reach the end of the file.\n",
    "        atemp = re.split('\\s+', f_line)\n",
    "        ltime = atemp[0] + ':' + atemp[1] + ':' + atemp[2] + ':' + atemp[3][0] + atemp[3][1] + ':'\n",
    "        ltime = ltime    + atemp[3][2] + atemp[3][3] + ':00' \n",
    "        ltime = time.strftime('%Y:%j:%H:%M:%S', time.strptime(ltime, '%Y:%m:%d:%H:%M:%S'))\n",
    "        stime = int(Chandra.Time.DateTime(ltime).secs)\n",
    "        #defines the time of the data entry.\n",
    "        \n",
    "        #if the entry is past the time recored from the previous entry, then write the the clean file version.\n",
    "        if stime > last_time:\n",
    "            last_time = stime\n",
    "            g.write(f_line)\n",
    "    f.close()\n",
    "    g.close()"
   ]
  },
  {
   "cell_type": "code",
   "execution_count": 69,
   "id": "d6e5077b",
   "metadata": {},
   "outputs": [],
   "source": [
    "longterm_clean(filename)"
   ]
  },
  {
   "cell_type": "code",
   "execution_count": 72,
   "id": "a5ae6ed5",
   "metadata": {},
   "outputs": [],
   "source": [
    "live_file = \"/data/mta4/Space_Weather/ACE/Data/longterm/ace_data.txt\""
   ]
  },
  {
   "cell_type": "code",
   "execution_count": 73,
   "id": "aed54806",
   "metadata": {},
   "outputs": [],
   "source": [
    "longterm_clean(live_file)"
   ]
  },
  {
   "cell_type": "code",
   "execution_count": null,
   "id": "5158d066",
   "metadata": {},
   "outputs": [],
   "source": []
  }
 ],
 "metadata": {
  "kernelspec": {
   "display_name": "Python 3 (ipykernel)",
   "language": "python",
   "name": "python3"
  },
  "language_info": {
   "codemirror_mode": {
    "name": "ipython",
    "version": 3
   },
   "file_extension": ".py",
   "mimetype": "text/x-python",
   "name": "python",
   "nbconvert_exporter": "python",
   "pygments_lexer": "ipython3",
   "version": "3.10.8"
  }
 },
 "nbformat": 4,
 "nbformat_minor": 5
}
