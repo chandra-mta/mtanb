{
 "cells": [
  {
   "cell_type": "markdown",
   "id": "17563f23",
   "metadata": {},
   "source": [
    "This Notebook serves as a starting point for formatting and inputting data sets necessary for the ACE_RNN"
   ]
  },
  {
   "cell_type": "code",
   "execution_count": 1,
   "id": "0b552dc8",
   "metadata": {},
   "outputs": [],
   "source": [
    "import sys\n",
    "import os\n",
    "import numpy as np\n",
    "from astropy.table import Table, vstack\n",
    "from astropy.io import misc, ascii\n",
    "from pathlib import Path\n",
    "import h5py\n",
    "import requests\n",
    "import zipfile\n",
    "import io"
   ]
  },
  {
   "cell_type": "code",
   "execution_count": 2,
   "id": "ebffb1f3",
   "metadata": {},
   "outputs": [],
   "source": [
    "#Format data around h5py library and astropy table\n",
    "ARC_DIR = Path(\"/proj/sot/ska/data/arc3\")\n",
    "ACE_H5_FILE = h5py.File(ARC_DIR.joinpath(\"ACE.h5\"))\n",
    "GOES_H5_FILE = h5py.File(ARC_DIR.joinpath(\"GOES_X.h5\"))"
   ]
  },
  {
   "cell_type": "code",
   "execution_count": 3,
   "id": "356d0a13",
   "metadata": {},
   "outputs": [],
   "source": [
    "ACE_TABLE = misc.hdf5.read_table_hdf5(ACE_H5_FILE)\n",
    "GOES_TABLE = misc.hdf5.read_table_hdf5(GOES_H5_FILE)"
   ]
  },
  {
   "cell_type": "code",
   "execution_count": 4,
   "id": "3308c32f",
   "metadata": {},
   "outputs": [],
   "source": [
    "#Data Directories for set fetched online\n",
    "DATA_DIR = Path(\"/data/mta4/ACE_RNN/Data\")\n",
    "CELIAS_PATH = DATA_DIR.joinpath(\"CELIAS.h5\")"
   ]
  },
  {
   "cell_type": "code",
   "execution_count": 5,
   "id": "2ad7c8e4",
   "metadata": {},
   "outputs": [],
   "source": [
    "#Web Links for fetching Data\n",
    "#mtof = f\"https://l1.umd.edu/data/{this_year}_CELIAS_Proton_Monitor_5min.zip\"\n",
    "CELIAS_LINK = f\"https://l1.umd.edu/data\""
   ]
  },
  {
   "cell_type": "code",
   "execution_count": 6,
   "id": "30b5be76",
   "metadata": {},
   "outputs": [],
   "source": [
    "#\n",
    "#-- Function to fetch CELIAS Data\n",
    "#\n",
    "def pull_celias(start,stop):\n",
    "    for year in range(start,stop+1):\n",
    "        fetch_link = f\"{CELIAS_LINK}/{year}_CELIAS_Proton_Monitor_5min.zip\"\n",
    "        r = requests.get(fetch_link, stream=True)\n",
    "        z = zipfile.ZipFile(io.BytesIO(r.content))\n",
    "        z.extractall(DATA_DIR.joinpath(\"CELIAS_txt\"))"
   ]
  },
  {
   "cell_type": "markdown",
   "id": "28fb6993",
   "metadata": {},
   "source": [
    "Pulling only since 2013 even though 1996 is available, in order to match with current ACE and GOES timeframes. Can be adjusted. Note that this data fetch was already run and is here for reference"
   ]
  },
  {
   "cell_type": "code",
   "execution_count": 7,
   "id": "0e820d13",
   "metadata": {},
   "outputs": [],
   "source": [
    "#pull_celias(2013,2024)"
   ]
  },
  {
   "cell_type": "code",
   "execution_count": 8,
   "id": "d998e9c7",
   "metadata": {},
   "outputs": [],
   "source": [
    "CELIAS_UNITS = [None, None, None, None, 'km/s', 'cm-3', 'km/s', 'deg',\n",
    "                'km/s', 'Re', 'Re', 'Re', 'Mkm', 'deg','deg','#']\n",
    "\n",
    "CELIAS_COLNAMES = ['YY',\n",
    " 'MON',\n",
    " 'DY',\n",
    " 'DOY:HH:MM:SS',\n",
    " 'SPEED',\n",
    " 'Np',\n",
    " 'Vth',\n",
    " 'N/S',\n",
    " 'V_He',\n",
    " 'GSE_X',\n",
    " 'GSE_Y',\n",
    " 'GSE_Z',\n",
    " 'RANGE',\n",
    " 'HGLAT',\n",
    " 'HGLONG',\n",
    " 'CRN(E)']\n",
    "\n",
    "CELIAS_DTYPE = [np.dtype('int64'),\n",
    " np.dtype('<U3'),\n",
    " np.dtype('int64'),\n",
    " np.dtype('<U12'),\n",
    " np.dtype('int64'),\n",
    " np.dtype('float64'),\n",
    " np.dtype('int64'),\n",
    " np.dtype('float64'),\n",
    " np.dtype('int64'),\n",
    " np.dtype('float64'),\n",
    " np.dtype('float64'),\n",
    " np.dtype('float64'),\n",
    " np.dtype('float64'),\n",
    " np.dtype('float64'),\n",
    " np.dtype('float64'),\n",
    " np.dtype('int64')]"
   ]
  },
  {
   "cell_type": "code",
   "execution_count": 9,
   "id": "e703fa14",
   "metadata": {},
   "outputs": [],
   "source": [
    "#\n",
    "# -- Function converting CELIAS textfiles to Astropy fits tables\n",
    "#\n",
    "def convert_celias(start,stop):\n",
    "    celias_table = Table(names = CELIAS_COLNAMES, units = CELIAS_UNITS, dtype = CELIAS_DTYPE)\n",
    "    for year in range(start,stop+1):\n",
    "        subtable = ascii.read(DATA_DIR.joinpath(\"CELIAS_txt\", f\"{year}_CELIAS_Proton_Monitor_5min.txt\"),\n",
    "                         header_start=20)\n",
    "        celias_table = vstack([celias_table, subtable])\n",
    "    return celias_table"
   ]
  },
  {
   "cell_type": "markdown",
   "id": "3802aadd",
   "metadata": {},
   "source": [
    "Using all text formatting. Note that this data fetch was already run and is here for reference."
   ]
  },
  {
   "cell_type": "code",
   "execution_count": 10,
   "id": "8b642882",
   "metadata": {},
   "outputs": [],
   "source": [
    "#CELIAS_TABLE = convert_celias(2013,2024)"
   ]
  },
  {
   "cell_type": "markdown",
   "id": "5d863ce2",
   "metadata": {},
   "source": [
    "Saving astropy table to a .h5 file for better storage methods."
   ]
  },
  {
   "cell_type": "code",
   "execution_count": 11,
   "id": "8243416b",
   "metadata": {},
   "outputs": [],
   "source": [
    "#misc.hdf5.write_table_hdf5(CELIAS_TABLE, str(CELIAS_PATH), \n",
    "#                           serialize_meta=True, overwrite=True)"
   ]
  },
  {
   "cell_type": "markdown",
   "id": "2cc39892",
   "metadata": {},
   "source": [
    "Pulling from the CELIUS_TABLE from the saved h5 file"
   ]
  },
  {
   "cell_type": "code",
   "execution_count": 12,
   "id": "5f567a0e",
   "metadata": {},
   "outputs": [],
   "source": [
    "CELIAS_TABLE = misc.hdf5.read_table_hdf5(str(CELIAS_PATH))"
   ]
  },
  {
   "cell_type": "code",
   "execution_count": 13,
   "id": "6bee3756",
   "metadata": {},
   "outputs": [
    {
     "data": {
      "text/html": [
       "<div><i>Table length=1053766</i>\n",
       "<table id=\"table140461103257424\" class=\"table-striped table-bordered table-condensed\">\n",
       "<thead><tr><th>YY</th><th>MON</th><th>DY</th><th>DOY:HH:MM:SS</th><th>SPEED</th><th>Np</th><th>Vth</th><th>N/S</th><th>V_He</th><th>GSE_X</th><th>GSE_Y</th><th>GSE_Z</th><th>RANGE</th><th>HGLAT</th><th>HGLONG</th><th>CRN(E)</th></tr></thead>\n",
       "<thead><tr><th></th><th></th><th></th><th></th><th>km / s</th><th>1 / cm3</th><th>km / s</th><th>deg</th><th>km / s</th><th>Re</th><th>Re</th><th>Re</th><th>Mkm</th><th>deg</th><th>deg</th><th>#</th></tr></thead>\n",
       "<thead><tr><th>int64</th><th>bytes3</th><th>int64</th><th>bytes12</th><th>int64</th><th>float64</th><th>int64</th><th>float64</th><th>int64</th><th>float64</th><th>float64</th><th>float64</th><th>float64</th><th>float64</th><th>float64</th><th>int64</th></tr></thead>\n",
       "<tr><td>13</td><td>Jan</td><td>1</td><td>001:00:00:09</td><td>352</td><td>4.23</td><td>18</td><td>-1.6</td><td>354</td><td>257.2</td><td>2.9</td><td>-19.3</td><td>145.5</td><td>-3.1</td><td>327.0</td><td>2132</td></tr>\n",
       "<tr><td>13</td><td>Jan</td><td>1</td><td>001:00:04:57</td><td>353</td><td>4.0</td><td>18</td><td>-1.2</td><td>354</td><td>257.2</td><td>2.9</td><td>-19.3</td><td>145.5</td><td>-3.1</td><td>327.0</td><td>2132</td></tr>\n",
       "<tr><td>13</td><td>Jan</td><td>1</td><td>001:00:09:57</td><td>354</td><td>3.86</td><td>20</td><td>-1.6</td><td>357</td><td>257.2</td><td>2.9</td><td>-19.3</td><td>145.5</td><td>-3.1</td><td>327.0</td><td>2132</td></tr>\n",
       "<tr><td>13</td><td>Jan</td><td>1</td><td>001:00:15:00</td><td>355</td><td>3.78</td><td>20</td><td>-1.5</td><td>358</td><td>257.2</td><td>2.9</td><td>-19.3</td><td>145.5</td><td>-3.1</td><td>326.9</td><td>2132</td></tr>\n",
       "<tr><td>13</td><td>Jan</td><td>1</td><td>001:00:20:02</td><td>355</td><td>3.74</td><td>20</td><td>-1.5</td><td>358</td><td>257.2</td><td>2.8</td><td>-19.3</td><td>145.5</td><td>-3.1</td><td>326.8</td><td>2132</td></tr>\n",
       "<tr><td>13</td><td>Jan</td><td>1</td><td>001:00:25:04</td><td>356</td><td>3.68</td><td>20</td><td>-1.2</td><td>358</td><td>257.2</td><td>2.8</td><td>-19.3</td><td>145.5</td><td>-3.1</td><td>326.8</td><td>2132</td></tr>\n",
       "<tr><td>13</td><td>Jan</td><td>1</td><td>001:00:30:05</td><td>355</td><td>3.69</td><td>20</td><td>-1.2</td><td>358</td><td>257.2</td><td>2.8</td><td>-19.3</td><td>145.5</td><td>-3.1</td><td>326.7</td><td>2132</td></tr>\n",
       "<tr><td>13</td><td>Jan</td><td>1</td><td>001:00:35:11</td><td>355</td><td>3.84</td><td>20</td><td>-1.3</td><td>357</td><td>257.2</td><td>2.8</td><td>-19.3</td><td>145.5</td><td>-3.1</td><td>326.7</td><td>2132</td></tr>\n",
       "<tr><td>13</td><td>Jan</td><td>1</td><td>001:00:40:11</td><td>360</td><td>3.66</td><td>20</td><td>-1.3</td><td>363</td><td>257.2</td><td>2.8</td><td>-19.3</td><td>145.5</td><td>-3.1</td><td>326.6</td><td>2132</td></tr>\n",
       "<tr><td>13</td><td>Jan</td><td>1</td><td>001:00:45:12</td><td>356</td><td>3.75</td><td>20</td><td>-0.9</td><td>358</td><td>257.2</td><td>2.8</td><td>-19.3</td><td>145.5</td><td>-3.1</td><td>326.6</td><td>2132</td></tr>\n",
       "<tr><td>...</td><td>...</td><td>...</td><td>...</td><td>...</td><td>...</td><td>...</td><td>...</td><td>...</td><td>...</td><td>...</td><td>...</td><td>...</td><td>...</td><td>...</td><td>...</td></tr>\n",
       "<tr><td>24</td><td>Jan</td><td>22</td><td>022:23:09:56</td><td>418</td><td>13.14</td><td>37</td><td>-2.1</td><td>431</td><td>208.4</td><td>100.5</td><td>0.9</td><td>145.9</td><td>-5.2</td><td>297.9</td><td>2280</td></tr>\n",
       "<tr><td>24</td><td>Jan</td><td>22</td><td>022:23:14:58</td><td>410</td><td>12.53</td><td>39</td><td>-0.8</td><td>425</td><td>208.4</td><td>100.5</td><td>0.9</td><td>145.9</td><td>-5.2</td><td>297.8</td><td>2280</td></tr>\n",
       "<tr><td>24</td><td>Jan</td><td>22</td><td>022:23:20:02</td><td>402</td><td>12.15</td><td>41</td><td>0.3</td><td>419</td><td>208.4</td><td>100.5</td><td>0.9</td><td>145.9</td><td>-5.2</td><td>297.8</td><td>2280</td></tr>\n",
       "<tr><td>24</td><td>Jan</td><td>22</td><td>022:23:25:02</td><td>399</td><td>13.47</td><td>40</td><td>1.5</td><td>415</td><td>208.4</td><td>100.5</td><td>0.9</td><td>145.9</td><td>-5.2</td><td>297.8</td><td>2280</td></tr>\n",
       "<tr><td>24</td><td>Jan</td><td>22</td><td>022:23:30:05</td><td>401</td><td>14.25</td><td>39</td><td>1.9</td><td>416</td><td>208.4</td><td>100.5</td><td>0.9</td><td>145.9</td><td>-5.2</td><td>297.7</td><td>2280</td></tr>\n",
       "<tr><td>24</td><td>Jan</td><td>22</td><td>022:23:35:06</td><td>406</td><td>12.97</td><td>39</td><td>0.6</td><td>421</td><td>208.4</td><td>100.5</td><td>0.9</td><td>145.9</td><td>-5.2</td><td>297.7</td><td>2280</td></tr>\n",
       "<tr><td>24</td><td>Jan</td><td>22</td><td>022:23:40:08</td><td>402</td><td>11.62</td><td>40</td><td>0.3</td><td>419</td><td>208.4</td><td>100.6</td><td>0.9</td><td>145.9</td><td>-5.2</td><td>297.5</td><td>2280</td></tr>\n",
       "<tr><td>24</td><td>Jan</td><td>22</td><td>022:23:45:12</td><td>399</td><td>11.31</td><td>40</td><td>0.3</td><td>415</td><td>208.4</td><td>100.6</td><td>0.9</td><td>145.9</td><td>-5.2</td><td>297.5</td><td>2280</td></tr>\n",
       "<tr><td>24</td><td>Jan</td><td>22</td><td>022:23:50:15</td><td>400</td><td>11.87</td><td>38</td><td>0.9</td><td>414</td><td>208.4</td><td>100.6</td><td>0.9</td><td>145.9</td><td>-5.2</td><td>297.5</td><td>2280</td></tr>\n",
       "<tr><td>24</td><td>Jan</td><td>22</td><td>022:23:55:15</td><td>400</td><td>12.24</td><td>37</td><td>1.1</td><td>414</td><td>208.4</td><td>100.6</td><td>0.9</td><td>145.9</td><td>-5.2</td><td>297.5</td><td>2280</td></tr>\n",
       "</table></div>"
      ],
      "text/plain": [
       "<Table length=1053766>\n",
       "  YY   MON     DY  DOY:HH:MM:SS SPEED     Np    Vth     N/S   ...  GSE_X   GSE_Y   GSE_Z   RANGE   HGLAT   HGLONG CRN(E)\n",
       "                                km / s 1 / cm3 km / s   deg   ...    Re      Re      Re     Mkm     deg     deg     #   \n",
       "int64 bytes3 int64   bytes12    int64  float64 int64  float64 ... float64 float64 float64 float64 float64 float64 int64 \n",
       "----- ------ ----- ------------ ------ ------- ------ ------- ... ------- ------- ------- ------- ------- ------- ------\n",
       "   13    Jan     1 001:00:00:09    352    4.23     18    -1.6 ...   257.2     2.9   -19.3   145.5    -3.1   327.0   2132\n",
       "   13    Jan     1 001:00:04:57    353     4.0     18    -1.2 ...   257.2     2.9   -19.3   145.5    -3.1   327.0   2132\n",
       "   13    Jan     1 001:00:09:57    354    3.86     20    -1.6 ...   257.2     2.9   -19.3   145.5    -3.1   327.0   2132\n",
       "   13    Jan     1 001:00:15:00    355    3.78     20    -1.5 ...   257.2     2.9   -19.3   145.5    -3.1   326.9   2132\n",
       "   13    Jan     1 001:00:20:02    355    3.74     20    -1.5 ...   257.2     2.8   -19.3   145.5    -3.1   326.8   2132\n",
       "   13    Jan     1 001:00:25:04    356    3.68     20    -1.2 ...   257.2     2.8   -19.3   145.5    -3.1   326.8   2132\n",
       "   13    Jan     1 001:00:30:05    355    3.69     20    -1.2 ...   257.2     2.8   -19.3   145.5    -3.1   326.7   2132\n",
       "   13    Jan     1 001:00:35:11    355    3.84     20    -1.3 ...   257.2     2.8   -19.3   145.5    -3.1   326.7   2132\n",
       "   13    Jan     1 001:00:40:11    360    3.66     20    -1.3 ...   257.2     2.8   -19.3   145.5    -3.1   326.6   2132\n",
       "   13    Jan     1 001:00:45:12    356    3.75     20    -0.9 ...   257.2     2.8   -19.3   145.5    -3.1   326.6   2132\n",
       "  ...    ...   ...          ...    ...     ...    ...     ... ...     ...     ...     ...     ...     ...     ...    ...\n",
       "   24    Jan    22 022:23:09:56    418   13.14     37    -2.1 ...   208.4   100.5     0.9   145.9    -5.2   297.9   2280\n",
       "   24    Jan    22 022:23:14:58    410   12.53     39    -0.8 ...   208.4   100.5     0.9   145.9    -5.2   297.8   2280\n",
       "   24    Jan    22 022:23:20:02    402   12.15     41     0.3 ...   208.4   100.5     0.9   145.9    -5.2   297.8   2280\n",
       "   24    Jan    22 022:23:25:02    399   13.47     40     1.5 ...   208.4   100.5     0.9   145.9    -5.2   297.8   2280\n",
       "   24    Jan    22 022:23:30:05    401   14.25     39     1.9 ...   208.4   100.5     0.9   145.9    -5.2   297.7   2280\n",
       "   24    Jan    22 022:23:35:06    406   12.97     39     0.6 ...   208.4   100.5     0.9   145.9    -5.2   297.7   2280\n",
       "   24    Jan    22 022:23:40:08    402   11.62     40     0.3 ...   208.4   100.6     0.9   145.9    -5.2   297.5   2280\n",
       "   24    Jan    22 022:23:45:12    399   11.31     40     0.3 ...   208.4   100.6     0.9   145.9    -5.2   297.5   2280\n",
       "   24    Jan    22 022:23:50:15    400   11.87     38     0.9 ...   208.4   100.6     0.9   145.9    -5.2   297.5   2280\n",
       "   24    Jan    22 022:23:55:15    400   12.24     37     1.1 ...   208.4   100.6     0.9   145.9    -5.2   297.5   2280"
      ]
     },
     "execution_count": 13,
     "metadata": {},
     "output_type": "execute_result"
    }
   ],
   "source": [
    "CELIAS_TABLE"
   ]
  },
  {
   "cell_type": "code",
   "execution_count": 14,
   "id": "2b753558",
   "metadata": {},
   "outputs": [
    {
     "data": {
      "text/html": [
       "<div><i>Table length=1256837</i>\n",
       "<table id=\"table140461103251856\" class=\"table-striped table-bordered table-condensed\">\n",
       "<thead><tr><th>year</th><th>month</th><th>dom</th><th>hhmm</th><th>mjd</th><th>secs</th><th>destat</th><th>de1</th><th>de4</th><th>pstat</th><th>p1</th><th>p3</th><th>p5</th><th>p6</th><th>p7</th><th>anis_idx</th><th>time</th></tr></thead>\n",
       "<thead><tr><th>int64</th><th>int64</th><th>int64</th><th>int64</th><th>int64</th><th>int64</th><th>int64</th><th>float64</th><th>float64</th><th>int64</th><th>float64</th><th>float64</th><th>float64</th><th>float64</th><th>float64</th><th>float64</th><th>float64</th></tr></thead>\n",
       "<tr><td>2012</td><td>1</td><td>8</td><td>5</td><td>55934</td><td>300</td><td>0</td><td>767.0</td><td>24.0</td><td>0</td><td>1970.0</td><td>19.0</td><td>2.59</td><td>0.831</td><td>0.126</td><td>-1.0</td><td>442368366.1839997</td></tr>\n",
       "<tr><td>2012</td><td>1</td><td>8</td><td>10</td><td>55934</td><td>600</td><td>0</td><td>830.0</td><td>23.2</td><td>0</td><td>2050.0</td><td>18.3</td><td>2.94</td><td>0.792</td><td>0.223</td><td>-1.0</td><td>442368666.1840001</td></tr>\n",
       "<tr><td>2012</td><td>1</td><td>8</td><td>15</td><td>55934</td><td>900</td><td>0</td><td>664.0</td><td>18.6</td><td>0</td><td>1990.0</td><td>19.0</td><td>2.66</td><td>0.728</td><td>0.221</td><td>-1.0</td><td>442368966.1839998</td></tr>\n",
       "<tr><td>2012</td><td>1</td><td>8</td><td>20</td><td>55934</td><td>1200</td><td>0</td><td>644.0</td><td>25.7</td><td>0</td><td>2060.0</td><td>19.8</td><td>2.66</td><td>0.79</td><td>0.137</td><td>-1.0</td><td>442369266.18400013</td></tr>\n",
       "<tr><td>2012</td><td>1</td><td>8</td><td>25</td><td>55934</td><td>1500</td><td>0</td><td>714.0</td><td>24.0</td><td>0</td><td>1950.0</td><td>20.5</td><td>2.8</td><td>0.862</td><td>0.169</td><td>-1.0</td><td>442369566.18399984</td></tr>\n",
       "<tr><td>2012</td><td>1</td><td>8</td><td>30</td><td>55934</td><td>1800</td><td>0</td><td>878.0</td><td>27.2</td><td>0</td><td>2050.0</td><td>18.0</td><td>2.66</td><td>0.665</td><td>0.19</td><td>-1.0</td><td>442369866.1840002</td></tr>\n",
       "<tr><td>2012</td><td>1</td><td>8</td><td>35</td><td>55934</td><td>2100</td><td>0</td><td>594.0</td><td>20.0</td><td>0</td><td>2070.0</td><td>18.0</td><td>2.61</td><td>0.563</td><td>0.152</td><td>-1.0</td><td>442370166.1839999</td></tr>\n",
       "<tr><td>2012</td><td>1</td><td>8</td><td>40</td><td>55934</td><td>2400</td><td>0</td><td>685.0</td><td>21.1</td><td>0</td><td>1820.0</td><td>19.0</td><td>2.56</td><td>0.769</td><td>0.211</td><td>-1.0</td><td>442370466.18400025</td></tr>\n",
       "<tr><td>2012</td><td>1</td><td>8</td><td>45</td><td>55934</td><td>2700</td><td>0</td><td>848.0</td><td>24.5</td><td>0</td><td>2000.0</td><td>18.1</td><td>3.02</td><td>0.686</td><td>0.105</td><td>-1.0</td><td>442370766.18399996</td></tr>\n",
       "<tr><td>2012</td><td>1</td><td>8</td><td>50</td><td>55934</td><td>3000</td><td>0</td><td>726.0</td><td>26.7</td><td>0</td><td>1960.0</td><td>18.5</td><td>2.97</td><td>0.756</td><td>0.16</td><td>-1.0</td><td>442371066.1839997</td></tr>\n",
       "<tr><td>...</td><td>...</td><td>...</td><td>...</td><td>...</td><td>...</td><td>...</td><td>...</td><td>...</td><td>...</td><td>...</td><td>...</td><td>...</td><td>...</td><td>...</td><td>...</td><td>...</td></tr>\n",
       "<tr><td>2024</td><td>1</td><td>24</td><td>1900</td><td>60333</td><td>68400</td><td>0</td><td>7450.0</td><td>28.2</td><td>0</td><td>14500.0</td><td>2810.0</td><td>501.0</td><td>132.0</td><td>37.3</td><td>-1.0</td><td>822510069.1839999</td></tr>\n",
       "<tr><td>2024</td><td>1</td><td>24</td><td>1905</td><td>60333</td><td>68700</td><td>0</td><td>7280.0</td><td>29.6</td><td>0</td><td>14900.0</td><td>3170.0</td><td>468.0</td><td>132.0</td><td>35.5</td><td>-1.0</td><td>822510369.1840003</td></tr>\n",
       "<tr><td>2024</td><td>1</td><td>24</td><td>1910</td><td>60333</td><td>69000</td><td>0</td><td>7260.0</td><td>27.6</td><td>0</td><td>16000.0</td><td>3000.0</td><td>437.0</td><td>130.0</td><td>35.5</td><td>-1.0</td><td>822510669.1839999</td></tr>\n",
       "<tr><td>2024</td><td>1</td><td>24</td><td>1915</td><td>60333</td><td>69300</td><td>0</td><td>7200.0</td><td>31.0</td><td>0</td><td>14600.0</td><td>2760.0</td><td>446.0</td><td>130.0</td><td>35.2</td><td>-1.0</td><td>822510969.1840003</td></tr>\n",
       "<tr><td>2024</td><td>1</td><td>24</td><td>1920</td><td>60333</td><td>69600</td><td>0</td><td>7240.0</td><td>29.0</td><td>0</td><td>14000.0</td><td>2610.0</td><td>429.0</td><td>133.0</td><td>33.5</td><td>-1.0</td><td>822511269.184</td></tr>\n",
       "<tr><td>2024</td><td>1</td><td>24</td><td>1925</td><td>60333</td><td>69900</td><td>0</td><td>7910.0</td><td>29.1</td><td>0</td><td>14400.0</td><td>2660.0</td><td>415.0</td><td>129.0</td><td>33.4</td><td>-1.0</td><td>822511569.1840004</td></tr>\n",
       "<tr><td>2024</td><td>1</td><td>24</td><td>1930</td><td>60333</td><td>70200</td><td>0</td><td>7050.0</td><td>31.2</td><td>0</td><td>14100.0</td><td>2580.0</td><td>407.0</td><td>127.0</td><td>33.4</td><td>-1.0</td><td>822511869.184</td></tr>\n",
       "<tr><td>2024</td><td>1</td><td>24</td><td>1935</td><td>60333</td><td>70500</td><td>0</td><td>6830.0</td><td>25.2</td><td>0</td><td>14100.0</td><td>2540.0</td><td>411.0</td><td>120.0</td><td>30.3</td><td>-1.0</td><td>822512169.1839998</td></tr>\n",
       "<tr><td>2024</td><td>1</td><td>24</td><td>1940</td><td>60333</td><td>70800</td><td>0</td><td>7810.0</td><td>29.6</td><td>0</td><td>13600.0</td><td>2480.0</td><td>405.0</td><td>128.0</td><td>33.2</td><td>-1.0</td><td>822512469.1840001</td></tr>\n",
       "<tr><td>2024</td><td>1</td><td>24</td><td>1945</td><td>60333</td><td>71100</td><td>0</td><td>7690.0</td><td>31.8</td><td>0</td><td>14000.0</td><td>2530.0</td><td>395.0</td><td>127.0</td><td>33.1</td><td>-1.0</td><td>822512769.1839999</td></tr>\n",
       "<tr><td>2024</td><td>1</td><td>24</td><td>1950</td><td>60333</td><td>71400</td><td>0</td><td>6940.0</td><td>25.2</td><td>0</td><td>14200.0</td><td>2620.0</td><td>403.0</td><td>118.0</td><td>29.7</td><td>-1.0</td><td>822513069.1840003</td></tr>\n",
       "</table></div>"
      ],
      "text/plain": [
       "<Table length=1256837>\n",
       " year month  dom   hhmm  mjd   secs destat ...    p1      p3      p5      p6      p7   anis_idx        time       \n",
       "int64 int64 int64 int64 int64 int64 int64  ... float64 float64 float64 float64 float64 float64       float64      \n",
       "----- ----- ----- ----- ----- ----- ------ ... ------- ------- ------- ------- ------- -------- ------------------\n",
       " 2012     1     8     5 55934   300      0 ...  1970.0    19.0    2.59   0.831   0.126     -1.0  442368366.1839997\n",
       " 2012     1     8    10 55934   600      0 ...  2050.0    18.3    2.94   0.792   0.223     -1.0  442368666.1840001\n",
       " 2012     1     8    15 55934   900      0 ...  1990.0    19.0    2.66   0.728   0.221     -1.0  442368966.1839998\n",
       " 2012     1     8    20 55934  1200      0 ...  2060.0    19.8    2.66    0.79   0.137     -1.0 442369266.18400013\n",
       " 2012     1     8    25 55934  1500      0 ...  1950.0    20.5     2.8   0.862   0.169     -1.0 442369566.18399984\n",
       " 2012     1     8    30 55934  1800      0 ...  2050.0    18.0    2.66   0.665    0.19     -1.0  442369866.1840002\n",
       " 2012     1     8    35 55934  2100      0 ...  2070.0    18.0    2.61   0.563   0.152     -1.0  442370166.1839999\n",
       " 2012     1     8    40 55934  2400      0 ...  1820.0    19.0    2.56   0.769   0.211     -1.0 442370466.18400025\n",
       " 2012     1     8    45 55934  2700      0 ...  2000.0    18.1    3.02   0.686   0.105     -1.0 442370766.18399996\n",
       " 2012     1     8    50 55934  3000      0 ...  1960.0    18.5    2.97   0.756    0.16     -1.0  442371066.1839997\n",
       "  ...   ...   ...   ...   ...   ...    ... ...     ...     ...     ...     ...     ...      ...                ...\n",
       " 2024     1    24  1900 60333 68400      0 ... 14500.0  2810.0   501.0   132.0    37.3     -1.0  822510069.1839999\n",
       " 2024     1    24  1905 60333 68700      0 ... 14900.0  3170.0   468.0   132.0    35.5     -1.0  822510369.1840003\n",
       " 2024     1    24  1910 60333 69000      0 ... 16000.0  3000.0   437.0   130.0    35.5     -1.0  822510669.1839999\n",
       " 2024     1    24  1915 60333 69300      0 ... 14600.0  2760.0   446.0   130.0    35.2     -1.0  822510969.1840003\n",
       " 2024     1    24  1920 60333 69600      0 ... 14000.0  2610.0   429.0   133.0    33.5     -1.0      822511269.184\n",
       " 2024     1    24  1925 60333 69900      0 ... 14400.0  2660.0   415.0   129.0    33.4     -1.0  822511569.1840004\n",
       " 2024     1    24  1930 60333 70200      0 ... 14100.0  2580.0   407.0   127.0    33.4     -1.0      822511869.184\n",
       " 2024     1    24  1935 60333 70500      0 ... 14100.0  2540.0   411.0   120.0    30.3     -1.0  822512169.1839998\n",
       " 2024     1    24  1940 60333 70800      0 ... 13600.0  2480.0   405.0   128.0    33.2     -1.0  822512469.1840001\n",
       " 2024     1    24  1945 60333 71100      0 ... 14000.0  2530.0   395.0   127.0    33.1     -1.0  822512769.1839999\n",
       " 2024     1    24  1950 60333 71400      0 ... 14200.0  2620.0   403.0   118.0    29.7     -1.0  822513069.1840003"
      ]
     },
     "execution_count": 14,
     "metadata": {},
     "output_type": "execute_result"
    }
   ],
   "source": [
    "ACE_TABLE"
   ]
  },
  {
   "cell_type": "code",
   "execution_count": 15,
   "id": "c58edf09",
   "metadata": {},
   "outputs": [
    {
     "data": {
      "text/html": [
       "<div><i>Table length=2717700</i>\n",
       "<table id=\"table140461084809376\" class=\"table-striped table-bordered table-condensed\">\n",
       "<thead><tr><th>year</th><th>month</th><th>dom</th><th>hhmm</th><th>mjd</th><th>secs</th><th>short</th><th>long</th><th>ratio</th><th>time</th><th>satellite</th></tr></thead>\n",
       "<thead><tr><th>int64</th><th>int64</th><th>int64</th><th>int64</th><th>int64</th><th>int64</th><th>float64</th><th>float64</th><th>float64</th><th>float64</th><th>int64</th></tr></thead>\n",
       "<tr><td>2013</td><td>5</td><td>3</td><td>5</td><td>56415</td><td>300</td><td>7.4e-09</td><td>8.33e-07</td><td>0.00889</td><td>483926767.1839997</td><td>15</td></tr>\n",
       "<tr><td>2013</td><td>5</td><td>3</td><td>10</td><td>56415</td><td>600</td><td>6.83e-09</td><td>8.35e-07</td><td>0.00817</td><td>483927067.1840001</td><td>15</td></tr>\n",
       "<tr><td>2013</td><td>5</td><td>3</td><td>15</td><td>56415</td><td>900</td><td>6.98e-09</td><td>8.36e-07</td><td>0.00835</td><td>483927367.1839998</td><td>15</td></tr>\n",
       "<tr><td>2013</td><td>5</td><td>3</td><td>20</td><td>56415</td><td>1200</td><td>8.16e-09</td><td>8.23e-07</td><td>0.00991</td><td>483927667.18400013</td><td>15</td></tr>\n",
       "<tr><td>2013</td><td>5</td><td>3</td><td>25</td><td>56415</td><td>1500</td><td>5.59e-09</td><td>8.12e-07</td><td>0.00688</td><td>483927967.18399984</td><td>15</td></tr>\n",
       "<tr><td>2013</td><td>5</td><td>3</td><td>30</td><td>56415</td><td>1800</td><td>2.91e-08</td><td>9.94e-07</td><td>0.0251</td><td>483928267.1840002</td><td>15</td></tr>\n",
       "<tr><td>2013</td><td>5</td><td>3</td><td>35</td><td>56415</td><td>2100</td><td>6.87e-08</td><td>1.6e-06</td><td>0.0419</td><td>483928567.1839999</td><td>15</td></tr>\n",
       "<tr><td>2013</td><td>5</td><td>3</td><td>40</td><td>56415</td><td>2400</td><td>1.45e-08</td><td>1.02e-06</td><td>0.0141</td><td>483928867.18400025</td><td>15</td></tr>\n",
       "<tr><td>2013</td><td>5</td><td>3</td><td>45</td><td>56415</td><td>2700</td><td>9.55e-09</td><td>8.92e-07</td><td>0.0107</td><td>483929167.18399996</td><td>15</td></tr>\n",
       "<tr><td>2013</td><td>5</td><td>3</td><td>50</td><td>56415</td><td>3000</td><td>2.77e-08</td><td>1.11e-06</td><td>0.025</td><td>483929467.1839997</td><td>15</td></tr>\n",
       "<tr><td>...</td><td>...</td><td>...</td><td>...</td><td>...</td><td>...</td><td>...</td><td>...</td><td>...</td><td>...</td><td>...</td></tr>\n",
       "<tr><td>2024</td><td>1</td><td>24</td><td>1942</td><td>60333</td><td>70920</td><td>4.5724516439804574e-07</td><td>4.489880666369572e-06</td><td>0.10183904615170207</td><td>822512589.184</td><td>16</td></tr>\n",
       "<tr><td>2024</td><td>1</td><td>24</td><td>1943</td><td>60333</td><td>70980</td><td>6.440980087063508e-07</td><td>5.8990108300349675e-06</td><td>0.10918745994276007</td><td>822512649.184</td><td>16</td></tr>\n",
       "<tr><td>2024</td><td>1</td><td>24</td><td>1944</td><td>60333</td><td>71040</td><td>4.977205207978841e-07</td><td>5.4057882152847014e-06</td><td>0.0920717758403103</td><td>822512709.184</td><td>16</td></tr>\n",
       "<tr><td>2024</td><td>1</td><td>24</td><td>1945</td><td>60333</td><td>71100</td><td>4.4761054596165195e-07</td><td>4.883966084889835e-06</td><td>0.09164898735609227</td><td>822512769.184</td><td>16</td></tr>\n",
       "<tr><td>2024</td><td>1</td><td>24</td><td>1946</td><td>60333</td><td>71160</td><td>3.792694940329966e-07</td><td>4.495657321967883e-06</td><td>0.08436352392334455</td><td>822512829.184</td><td>16</td></tr>\n",
       "<tr><td>2024</td><td>1</td><td>24</td><td>1947</td><td>60333</td><td>71220</td><td>2.997342392063729e-07</td><td>4.029009687656071e-06</td><td>0.0743940229592119</td><td>822512889.184</td><td>16</td></tr>\n",
       "<tr><td>2024</td><td>1</td><td>24</td><td>1948</td><td>60333</td><td>71280</td><td>2.3612192023847456e-07</td><td>3.578151336114388e-06</td><td>0.06598991994980452</td><td>822512949.184</td><td>16</td></tr>\n",
       "<tr><td>2024</td><td>1</td><td>24</td><td>1949</td><td>60333</td><td>71340</td><td>1.9874930501373456e-07</td><td>3.3139956485683797e-06</td><td>0.05997271152108866</td><td>822513009.184</td><td>16</td></tr>\n",
       "<tr><td>2024</td><td>1</td><td>24</td><td>1950</td><td>60333</td><td>71400</td><td>1.6594358953625488e-07</td><td>3.0518160656356486e-06</td><td>0.054375357481346524</td><td>822513069.184</td><td>16</td></tr>\n",
       "<tr><td>2024</td><td>1</td><td>24</td><td>1951</td><td>60333</td><td>71460</td><td>1.4324984931590734e-07</td><td>2.8472236408561002e-06</td><td>0.050312117130649814</td><td>822513129.184</td><td>16</td></tr>\n",
       "<tr><td>2024</td><td>1</td><td>24</td><td>1952</td><td>60333</td><td>71520</td><td>1.2550482608730817e-07</td><td>2.667386070243083e-06</td><td>0.04705161636983083</td><td>822513189.184</td><td>16</td></tr>\n",
       "</table></div>"
      ],
      "text/plain": [
       "<Table length=2717700>\n",
       " year month  dom   hhmm  mjd  ...          long                 ratio                time        satellite\n",
       "int64 int64 int64 int64 int64 ...        float64               float64             float64         int64  \n",
       "----- ----- ----- ----- ----- ... ---------------------- -------------------- ------------------ ---------\n",
       " 2013     5     3     5 56415 ...               8.33e-07              0.00889  483926767.1839997        15\n",
       " 2013     5     3    10 56415 ...               8.35e-07              0.00817  483927067.1840001        15\n",
       " 2013     5     3    15 56415 ...               8.36e-07              0.00835  483927367.1839998        15\n",
       " 2013     5     3    20 56415 ...               8.23e-07              0.00991 483927667.18400013        15\n",
       " 2013     5     3    25 56415 ...               8.12e-07              0.00688 483927967.18399984        15\n",
       " 2013     5     3    30 56415 ...               9.94e-07               0.0251  483928267.1840002        15\n",
       " 2013     5     3    35 56415 ...                1.6e-06               0.0419  483928567.1839999        15\n",
       " 2013     5     3    40 56415 ...               1.02e-06               0.0141 483928867.18400025        15\n",
       " 2013     5     3    45 56415 ...               8.92e-07               0.0107 483929167.18399996        15\n",
       " 2013     5     3    50 56415 ...               1.11e-06                0.025  483929467.1839997        15\n",
       "  ...   ...   ...   ...   ... ...                    ...                  ...                ...       ...\n",
       " 2024     1    24  1942 60333 ...  4.489880666369572e-06  0.10183904615170207      822512589.184        16\n",
       " 2024     1    24  1943 60333 ... 5.8990108300349675e-06  0.10918745994276007      822512649.184        16\n",
       " 2024     1    24  1944 60333 ... 5.4057882152847014e-06   0.0920717758403103      822512709.184        16\n",
       " 2024     1    24  1945 60333 ...  4.883966084889835e-06  0.09164898735609227      822512769.184        16\n",
       " 2024     1    24  1946 60333 ...  4.495657321967883e-06  0.08436352392334455      822512829.184        16\n",
       " 2024     1    24  1947 60333 ...  4.029009687656071e-06   0.0743940229592119      822512889.184        16\n",
       " 2024     1    24  1948 60333 ...  3.578151336114388e-06  0.06598991994980452      822512949.184        16\n",
       " 2024     1    24  1949 60333 ... 3.3139956485683797e-06  0.05997271152108866      822513009.184        16\n",
       " 2024     1    24  1950 60333 ... 3.0518160656356486e-06 0.054375357481346524      822513069.184        16\n",
       " 2024     1    24  1951 60333 ... 2.8472236408561002e-06 0.050312117130649814      822513129.184        16\n",
       " 2024     1    24  1952 60333 ...  2.667386070243083e-06  0.04705161636983083      822513189.184        16"
      ]
     },
     "execution_count": 15,
     "metadata": {},
     "output_type": "execute_result"
    }
   ],
   "source": [
    "GOES_TABLE"
   ]
  }
 ],
 "metadata": {
  "kernelspec": {
   "display_name": "Python [conda env:root] *",
   "language": "python",
   "name": "conda-root-py"
  },
  "language_info": {
   "codemirror_mode": {
    "name": "ipython",
    "version": 3
   },
   "file_extension": ".py",
   "mimetype": "text/x-python",
   "name": "python",
   "nbconvert_exporter": "python",
   "pygments_lexer": "ipython3",
   "version": "3.10.8"
  }
 },
 "nbformat": 4,
 "nbformat_minor": 5
}
