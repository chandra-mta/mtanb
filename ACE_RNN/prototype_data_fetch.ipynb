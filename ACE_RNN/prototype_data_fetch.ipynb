{
 "cells": [
  {
   "cell_type": "markdown",
   "id": "17563f23",
   "metadata": {},
   "source": [
    "This Notebook serves as a starting point for formatting and inputting data sets necessary for the ACE_RNN"
   ]
  },
  {
   "cell_type": "code",
   "execution_count": 40,
   "id": "0b552dc8",
   "metadata": {},
   "outputs": [],
   "source": [
    "import sys\n",
    "import os\n",
    "import numpy as np\n",
    "from astropy.table import Table, vstack\n",
    "from astropy.io import misc, ascii\n",
    "from pathlib import Path\n",
    "import h5py\n",
    "import requests\n",
    "import zipfile\n",
    "import io"
   ]
  },
  {
   "cell_type": "code",
   "execution_count": 7,
   "id": "ebffb1f3",
   "metadata": {},
   "outputs": [],
   "source": [
    "#Format data around h5py library and astropy table\n",
    "ARC_DIR = Path(\"/proj/sot/ska/data/arc3\")\n",
    "ACE_H5_FILE = h5py.File(ARC_DIR.joinpath(\"ACE.h5\"))\n",
    "GOES_H5_FILE = h5py.File(ARC_DIR.joinpath(\"GOES_X.h5\"))"
   ]
  },
  {
   "cell_type": "code",
   "execution_count": 8,
   "id": "356d0a13",
   "metadata": {},
   "outputs": [],
   "source": [
    "ACE_TABLE = misc.hdf5.read_table_hdf5(ACE_H5_FILE)\n",
    "GOES_TABLE = misc.hdf5.read_table_hdf5(GOES_H5_FILE)"
   ]
  },
  {
   "cell_type": "code",
   "execution_count": 9,
   "id": "3308c32f",
   "metadata": {},
   "outputs": [],
   "source": [
    "#Data Directories for set fetched online\n",
    "DATA_DIR = Path(\"/data/mta4/ACE_RNN/Data\")\n",
    "CELIAS_PATH = DATA_DIR.joinpath(\"CELIAS.h5\")"
   ]
  },
  {
   "cell_type": "code",
   "execution_count": 10,
   "id": "2ad7c8e4",
   "metadata": {},
   "outputs": [],
   "source": [
    "#Web Links for fetching Data\n",
    "#mtof = f\"https://l1.umd.edu/data/{this_year}_CELIAS_Proton_Monitor_5min.zip\"\n",
    "CELIAS_LINK = f\"https://l1.umd.edu/data\""
   ]
  },
  {
   "cell_type": "code",
   "execution_count": 11,
   "id": "30b5be76",
   "metadata": {},
   "outputs": [],
   "source": [
    "#\n",
    "#-- Function to fetch CELIAS Data\n",
    "#\n",
    "def pull_celias(start,stop):\n",
    "    for year in range(start,stop+1):\n",
    "        fetch_link = f\"{CELIAS_LINK}/{year}_CELIAS_Proton_Monitor_5min.zip\"\n",
    "        r = requests.get(fetch_link, stream=True)\n",
    "        z = zipfile.ZipFile(io.BytesIO(r.content))\n",
    "        z.extractall(DATA_DIR)"
   ]
  },
  {
   "cell_type": "markdown",
   "id": "28fb6993",
   "metadata": {},
   "source": [
    "Pulling only since 2013 even though 1996 is available, in order to match with current ACE and GOES timeframes. Can be adjusted. Note that this data fetch was already run and is here for reference"
   ]
  },
  {
   "cell_type": "code",
   "execution_count": 12,
   "id": "0e820d13",
   "metadata": {},
   "outputs": [],
   "source": [
    "#pull_celias(2013,2024)"
   ]
  },
  {
   "cell_type": "code",
   "execution_count": 56,
   "id": "d998e9c7",
   "metadata": {},
   "outputs": [],
   "source": [
    "CELIAS_UNITS = [None, None, None, None, 'km/s', 'cm-3', 'km/s', 'deg',\n",
    "                'km/s', 'Re', 'Re', 'Re', 'Mkm', 'deg','deg','#']\n",
    "\n",
    "CELIAS_COLNAMES = ['YY',\n",
    " 'MON',\n",
    " 'DY',\n",
    " 'DOY:HH:MM:SS',\n",
    " 'SPEED',\n",
    " 'Np',\n",
    " 'Vth',\n",
    " 'N/S',\n",
    " 'V_He',\n",
    " 'GSE_X',\n",
    " 'GSE_Y',\n",
    " 'GSE_Z',\n",
    " 'RANGE',\n",
    " 'HGLAT',\n",
    " 'HGLONG',\n",
    " 'CRN(E)']\n",
    "\n",
    "CELIAS_DTYPE = [np.dtype('int64'),\n",
    " np.dtype('<U3'),\n",
    " np.dtype('int64'),\n",
    " np.dtype('<U12'),\n",
    " np.dtype('int64'),\n",
    " np.dtype('float64'),\n",
    " np.dtype('int64'),\n",
    " np.dtype('float64'),\n",
    " np.dtype('int64'),\n",
    " np.dtype('float64'),\n",
    " np.dtype('float64'),\n",
    " np.dtype('float64'),\n",
    " np.dtype('float64'),\n",
    " np.dtype('float64'),\n",
    " np.dtype('float64'),\n",
    " np.dtype('int64')]"
   ]
  },
  {
   "cell_type": "code",
   "execution_count": 65,
   "id": "e703fa14",
   "metadata": {},
   "outputs": [],
   "source": [
    "#\n",
    "# -- Function converting CELIAS textfiles to Astropy fits tables\n",
    "#\n",
    "def convert_celias(start,stop):\n",
    "    celias_table = Table(names = CELIAS_COLNAMES, units = CELIAS_UNITS, dtype = CELIAS_DTYPE)\n",
    "    for year in range(start,stop+1):\n",
    "        subtable = ascii.read(DATA_DIR.joinpath(f\"{year}_CELIAS_Proton_Monitor_5min.txt\"),\n",
    "                         header_start=20)\n",
    "        celias_table = vstack([celias_table, subtable])\n",
    "    return celias_table"
   ]
  },
  {
   "cell_type": "markdown",
   "id": "3802aadd",
   "metadata": {},
   "source": [
    "Using all text formatting. Note that this data fetch was already run and is here for reference."
   ]
  },
  {
   "cell_type": "code",
   "execution_count": 70,
   "id": "8b642882",
   "metadata": {},
   "outputs": [],
   "source": [
    "#CELIAS_TABLE = convert_celias(2013,2024)"
   ]
  },
  {
   "cell_type": "code",
   "execution_count": 69,
   "id": "7b071ec3",
   "metadata": {},
   "outputs": [
    {
     "data": {
      "text/html": [
       "<div><i>Table length=1053766</i>\n",
       "<table id=\"table140483848464576\" class=\"table-striped table-bordered table-condensed\">\n",
       "<thead><tr><th>YY</th><th>MON</th><th>DY</th><th>DOY:HH:MM:SS</th><th>SPEED</th><th>Np</th><th>Vth</th><th>N/S</th><th>V_He</th><th>GSE_X</th><th>GSE_Y</th><th>GSE_Z</th><th>RANGE</th><th>HGLAT</th><th>HGLONG</th><th>CRN(E)</th></tr></thead>\n",
       "<thead><tr><th></th><th></th><th></th><th></th><th>km / s</th><th>1 / cm3</th><th>km / s</th><th>deg</th><th>km / s</th><th>Re</th><th>Re</th><th>Re</th><th>Mkm</th><th>deg</th><th>deg</th><th>#</th></tr></thead>\n",
       "<thead><tr><th>int64</th><th>str3</th><th>int64</th><th>str12</th><th>int64</th><th>float64</th><th>int64</th><th>float64</th><th>int64</th><th>float64</th><th>float64</th><th>float64</th><th>float64</th><th>float64</th><th>float64</th><th>int64</th></tr></thead>\n",
       "<tr><td>13</td><td>Jan</td><td>1</td><td>001:00:00:09</td><td>352</td><td>4.23</td><td>18</td><td>-1.6</td><td>354</td><td>257.2</td><td>2.9</td><td>-19.3</td><td>145.5</td><td>-3.1</td><td>327.0</td><td>2132</td></tr>\n",
       "<tr><td>13</td><td>Jan</td><td>1</td><td>001:00:04:57</td><td>353</td><td>4.0</td><td>18</td><td>-1.2</td><td>354</td><td>257.2</td><td>2.9</td><td>-19.3</td><td>145.5</td><td>-3.1</td><td>327.0</td><td>2132</td></tr>\n",
       "<tr><td>13</td><td>Jan</td><td>1</td><td>001:00:09:57</td><td>354</td><td>3.86</td><td>20</td><td>-1.6</td><td>357</td><td>257.2</td><td>2.9</td><td>-19.3</td><td>145.5</td><td>-3.1</td><td>327.0</td><td>2132</td></tr>\n",
       "<tr><td>13</td><td>Jan</td><td>1</td><td>001:00:15:00</td><td>355</td><td>3.78</td><td>20</td><td>-1.5</td><td>358</td><td>257.2</td><td>2.9</td><td>-19.3</td><td>145.5</td><td>-3.1</td><td>326.9</td><td>2132</td></tr>\n",
       "<tr><td>13</td><td>Jan</td><td>1</td><td>001:00:20:02</td><td>355</td><td>3.74</td><td>20</td><td>-1.5</td><td>358</td><td>257.2</td><td>2.8</td><td>-19.3</td><td>145.5</td><td>-3.1</td><td>326.8</td><td>2132</td></tr>\n",
       "<tr><td>13</td><td>Jan</td><td>1</td><td>001:00:25:04</td><td>356</td><td>3.68</td><td>20</td><td>-1.2</td><td>358</td><td>257.2</td><td>2.8</td><td>-19.3</td><td>145.5</td><td>-3.1</td><td>326.8</td><td>2132</td></tr>\n",
       "<tr><td>13</td><td>Jan</td><td>1</td><td>001:00:30:05</td><td>355</td><td>3.69</td><td>20</td><td>-1.2</td><td>358</td><td>257.2</td><td>2.8</td><td>-19.3</td><td>145.5</td><td>-3.1</td><td>326.7</td><td>2132</td></tr>\n",
       "<tr><td>13</td><td>Jan</td><td>1</td><td>001:00:35:11</td><td>355</td><td>3.84</td><td>20</td><td>-1.3</td><td>357</td><td>257.2</td><td>2.8</td><td>-19.3</td><td>145.5</td><td>-3.1</td><td>326.7</td><td>2132</td></tr>\n",
       "<tr><td>13</td><td>Jan</td><td>1</td><td>001:00:40:11</td><td>360</td><td>3.66</td><td>20</td><td>-1.3</td><td>363</td><td>257.2</td><td>2.8</td><td>-19.3</td><td>145.5</td><td>-3.1</td><td>326.6</td><td>2132</td></tr>\n",
       "<tr><td>13</td><td>Jan</td><td>1</td><td>001:00:45:12</td><td>356</td><td>3.75</td><td>20</td><td>-0.9</td><td>358</td><td>257.2</td><td>2.8</td><td>-19.3</td><td>145.5</td><td>-3.1</td><td>326.6</td><td>2132</td></tr>\n",
       "<tr><td>...</td><td>...</td><td>...</td><td>...</td><td>...</td><td>...</td><td>...</td><td>...</td><td>...</td><td>...</td><td>...</td><td>...</td><td>...</td><td>...</td><td>...</td><td>...</td></tr>\n",
       "<tr><td>24</td><td>Jan</td><td>22</td><td>022:23:09:56</td><td>418</td><td>13.14</td><td>37</td><td>-2.1</td><td>431</td><td>208.4</td><td>100.5</td><td>0.9</td><td>145.9</td><td>-5.2</td><td>297.9</td><td>2280</td></tr>\n",
       "<tr><td>24</td><td>Jan</td><td>22</td><td>022:23:14:58</td><td>410</td><td>12.53</td><td>39</td><td>-0.8</td><td>425</td><td>208.4</td><td>100.5</td><td>0.9</td><td>145.9</td><td>-5.2</td><td>297.8</td><td>2280</td></tr>\n",
       "<tr><td>24</td><td>Jan</td><td>22</td><td>022:23:20:02</td><td>402</td><td>12.15</td><td>41</td><td>0.3</td><td>419</td><td>208.4</td><td>100.5</td><td>0.9</td><td>145.9</td><td>-5.2</td><td>297.8</td><td>2280</td></tr>\n",
       "<tr><td>24</td><td>Jan</td><td>22</td><td>022:23:25:02</td><td>399</td><td>13.47</td><td>40</td><td>1.5</td><td>415</td><td>208.4</td><td>100.5</td><td>0.9</td><td>145.9</td><td>-5.2</td><td>297.8</td><td>2280</td></tr>\n",
       "<tr><td>24</td><td>Jan</td><td>22</td><td>022:23:30:05</td><td>401</td><td>14.25</td><td>39</td><td>1.9</td><td>416</td><td>208.4</td><td>100.5</td><td>0.9</td><td>145.9</td><td>-5.2</td><td>297.7</td><td>2280</td></tr>\n",
       "<tr><td>24</td><td>Jan</td><td>22</td><td>022:23:35:06</td><td>406</td><td>12.97</td><td>39</td><td>0.6</td><td>421</td><td>208.4</td><td>100.5</td><td>0.9</td><td>145.9</td><td>-5.2</td><td>297.7</td><td>2280</td></tr>\n",
       "<tr><td>24</td><td>Jan</td><td>22</td><td>022:23:40:08</td><td>402</td><td>11.62</td><td>40</td><td>0.3</td><td>419</td><td>208.4</td><td>100.6</td><td>0.9</td><td>145.9</td><td>-5.2</td><td>297.5</td><td>2280</td></tr>\n",
       "<tr><td>24</td><td>Jan</td><td>22</td><td>022:23:45:12</td><td>399</td><td>11.31</td><td>40</td><td>0.3</td><td>415</td><td>208.4</td><td>100.6</td><td>0.9</td><td>145.9</td><td>-5.2</td><td>297.5</td><td>2280</td></tr>\n",
       "<tr><td>24</td><td>Jan</td><td>22</td><td>022:23:50:15</td><td>400</td><td>11.87</td><td>38</td><td>0.9</td><td>414</td><td>208.4</td><td>100.6</td><td>0.9</td><td>145.9</td><td>-5.2</td><td>297.5</td><td>2280</td></tr>\n",
       "<tr><td>24</td><td>Jan</td><td>22</td><td>022:23:55:15</td><td>400</td><td>12.24</td><td>37</td><td>1.1</td><td>414</td><td>208.4</td><td>100.6</td><td>0.9</td><td>145.9</td><td>-5.2</td><td>297.5</td><td>2280</td></tr>\n",
       "</table></div>"
      ],
      "text/plain": [
       "<Table length=1053766>\n",
       "  YY  MON    DY  DOY:HH:MM:SS SPEED     Np    Vth     N/S   ...  GSE_X   GSE_Y   GSE_Z   RANGE   HGLAT   HGLONG CRN(E)\n",
       "                              km / s 1 / cm3 km / s   deg   ...    Re      Re      Re     Mkm     deg     deg     #   \n",
       "int64 str3 int64    str12     int64  float64 int64  float64 ... float64 float64 float64 float64 float64 float64 int64 \n",
       "----- ---- ----- ------------ ------ ------- ------ ------- ... ------- ------- ------- ------- ------- ------- ------\n",
       "   13  Jan     1 001:00:00:09    352    4.23     18    -1.6 ...   257.2     2.9   -19.3   145.5    -3.1   327.0   2132\n",
       "   13  Jan     1 001:00:04:57    353     4.0     18    -1.2 ...   257.2     2.9   -19.3   145.5    -3.1   327.0   2132\n",
       "   13  Jan     1 001:00:09:57    354    3.86     20    -1.6 ...   257.2     2.9   -19.3   145.5    -3.1   327.0   2132\n",
       "   13  Jan     1 001:00:15:00    355    3.78     20    -1.5 ...   257.2     2.9   -19.3   145.5    -3.1   326.9   2132\n",
       "   13  Jan     1 001:00:20:02    355    3.74     20    -1.5 ...   257.2     2.8   -19.3   145.5    -3.1   326.8   2132\n",
       "   13  Jan     1 001:00:25:04    356    3.68     20    -1.2 ...   257.2     2.8   -19.3   145.5    -3.1   326.8   2132\n",
       "   13  Jan     1 001:00:30:05    355    3.69     20    -1.2 ...   257.2     2.8   -19.3   145.5    -3.1   326.7   2132\n",
       "   13  Jan     1 001:00:35:11    355    3.84     20    -1.3 ...   257.2     2.8   -19.3   145.5    -3.1   326.7   2132\n",
       "   13  Jan     1 001:00:40:11    360    3.66     20    -1.3 ...   257.2     2.8   -19.3   145.5    -3.1   326.6   2132\n",
       "   13  Jan     1 001:00:45:12    356    3.75     20    -0.9 ...   257.2     2.8   -19.3   145.5    -3.1   326.6   2132\n",
       "  ...  ...   ...          ...    ...     ...    ...     ... ...     ...     ...     ...     ...     ...     ...    ...\n",
       "   24  Jan    22 022:23:09:56    418   13.14     37    -2.1 ...   208.4   100.5     0.9   145.9    -5.2   297.9   2280\n",
       "   24  Jan    22 022:23:14:58    410   12.53     39    -0.8 ...   208.4   100.5     0.9   145.9    -5.2   297.8   2280\n",
       "   24  Jan    22 022:23:20:02    402   12.15     41     0.3 ...   208.4   100.5     0.9   145.9    -5.2   297.8   2280\n",
       "   24  Jan    22 022:23:25:02    399   13.47     40     1.5 ...   208.4   100.5     0.9   145.9    -5.2   297.8   2280\n",
       "   24  Jan    22 022:23:30:05    401   14.25     39     1.9 ...   208.4   100.5     0.9   145.9    -5.2   297.7   2280\n",
       "   24  Jan    22 022:23:35:06    406   12.97     39     0.6 ...   208.4   100.5     0.9   145.9    -5.2   297.7   2280\n",
       "   24  Jan    22 022:23:40:08    402   11.62     40     0.3 ...   208.4   100.6     0.9   145.9    -5.2   297.5   2280\n",
       "   24  Jan    22 022:23:45:12    399   11.31     40     0.3 ...   208.4   100.6     0.9   145.9    -5.2   297.5   2280\n",
       "   24  Jan    22 022:23:50:15    400   11.87     38     0.9 ...   208.4   100.6     0.9   145.9    -5.2   297.5   2280\n",
       "   24  Jan    22 022:23:55:15    400   12.24     37     1.1 ...   208.4   100.6     0.9   145.9    -5.2   297.5   2280"
      ]
     },
     "execution_count": 69,
     "metadata": {},
     "output_type": "execute_result"
    }
   ],
   "source": [
    "CELIAS_TABLE"
   ]
  },
  {
   "cell_type": "markdown",
   "id": "5d863ce2",
   "metadata": {},
   "source": [
    "Saving astropy table to a .h5 file for better storage methods."
   ]
  },
  {
   "cell_type": "code",
   "execution_count": 77,
   "id": "8243416b",
   "metadata": {},
   "outputs": [],
   "source": [
    "#misc.hdf5.write_table_hdf5(CELIAS_TABLE, str(DATA_DIR.joinpath('CELIUS.h5')), \n",
    "#                           serialize_meta=True, overwrite=True)"
   ]
  },
  {
   "cell_type": "markdown",
   "id": "2cc39892",
   "metadata": {},
   "source": [
    "Pulling from the CELIUS_TABLE from the saved h5 file"
   ]
  },
  {
   "cell_type": "code",
   "execution_count": null,
   "id": "5f567a0e",
   "metadata": {},
   "outputs": [],
   "source": [
    "CELIAS_TABLE = misc.hdf5.read_table_hdf5(str(DATA_DIR.joinpath('CELIUS.h5')))"
   ]
  }
 ],
 "metadata": {
  "kernelspec": {
   "display_name": "Python [conda env:root] *",
   "language": "python",
   "name": "conda-root-py"
  },
  "language_info": {
   "codemirror_mode": {
    "name": "ipython",
    "version": 3
   },
   "file_extension": ".py",
   "mimetype": "text/x-python",
   "name": "python",
   "nbconvert_exporter": "python",
   "pygments_lexer": "ipython3",
   "version": "3.10.8"
  }
 },
 "nbformat": 4,
 "nbformat_minor": 5
}
