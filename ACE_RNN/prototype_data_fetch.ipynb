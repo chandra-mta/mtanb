{
 "cells": [
  {
   "cell_type": "markdown",
   "id": "17563f23",
   "metadata": {},
   "source": [
    "This Notebook serves as a starting point for formatting and inputting data sets necessary for the ACE_RNN"
   ]
  },
  {
   "cell_type": "code",
   "execution_count": 69,
   "id": "0b552dc8",
   "metadata": {},
   "outputs": [],
   "source": [
    "import sys\n",
    "import os\n",
    "import numpy as np\n",
    "from astropy.table import Table\n",
    "from astropy.io import misc, ascii\n",
    "from pathlib import Path\n",
    "import h5py\n",
    "import requests\n",
    "import zipfile\n",
    "import io"
   ]
  },
  {
   "cell_type": "code",
   "execution_count": 16,
   "id": "ebffb1f3",
   "metadata": {},
   "outputs": [],
   "source": [
    "#Format data around h5py library and astropy table\n",
    "ARC_DIR = Path(\"/proj/sot/ska/data/arc3\")\n",
    "ACE_H5_FILE = h5py.File(ARC_DIR.joinpath(\"ACE.h5\"))\n",
    "GOES_H5_FILE = h5py.File(ARC_DIR.joinpath(\"GOES_X.h5\"))"
   ]
  },
  {
   "cell_type": "code",
   "execution_count": 20,
   "id": "356d0a13",
   "metadata": {},
   "outputs": [],
   "source": [
    "ACE_TABLE = misc.hdf5.read_table_hdf5(ACE_H5_FILE)\n",
    "GOES_TABLE = misc.hdf5.read_table_hdf5(GOES_H5_FILE)"
   ]
  },
  {
   "cell_type": "code",
   "execution_count": 44,
   "id": "3308c32f",
   "metadata": {},
   "outputs": [],
   "source": [
    "#Data Directories for set fetched online\n",
    "DATA_DIR = Path(\"/data/mta4/ACE_RNN/Data\")\n",
    "CELIAS_PATH = DATA_DIR.joinpath(\"CELIAS.h5\")"
   ]
  },
  {
   "cell_type": "code",
   "execution_count": 50,
   "id": "2ad7c8e4",
   "metadata": {},
   "outputs": [],
   "source": [
    "#Web Links for fetching Data\n",
    "#mtof = f\"https://l1.umd.edu/data/{this_year}_CELIAS_Proton_Monitor_5min.zip\"\n",
    "CELIAS_LINK = f\"https://l1.umd.edu/data\""
   ]
  },
  {
   "cell_type": "code",
   "execution_count": 61,
   "id": "30b5be76",
   "metadata": {},
   "outputs": [],
   "source": [
    "#\n",
    "#-- Method to fetch CELIAS Data\n",
    "#\n",
    "def pull_celias(start,stop):\n",
    "    for year in range(start,stop+1):\n",
    "        fetch_link = f\"{CELIAS_LINK}/{year}_CELIAS_Proton_Monitor_5min.zip\"\n",
    "        r = requests.get(fetch_link, stream=True)\n",
    "        z = zipfile.ZipFile(io.BytesIO(r.content))\n",
    "        z.extractall(DATA_DIR)"
   ]
  },
  {
   "cell_type": "markdown",
   "id": "28fb6993",
   "metadata": {},
   "source": [
    "Pulling onyl since 2013 even thoguh 1996 is available int order to match with current ACE and GOES timeframes. Can be adjusted. Note that this data fetch was already run and is here for reference"
   ]
  },
  {
   "cell_type": "code",
   "execution_count": 64,
   "id": "0e820d13",
   "metadata": {},
   "outputs": [],
   "source": [
    "#pull_celias(2013,2024)"
   ]
  },
  {
   "cell_type": "code",
   "execution_count": 74,
   "id": "d998e9c7",
   "metadata": {},
   "outputs": [],
   "source": [
    "#\n",
    "# -- CELIAS textfiles to Astropy fits tables\n",
    "#"
   ]
  },
  {
   "cell_type": "code",
   "execution_count": 112,
   "id": "68fccd57",
   "metadata": {},
   "outputs": [],
   "source": [
    "CELIAS_2024 = ascii.read(DATA_DIR.joinpath(\"2024_CELIAS_Proton_Monitor_5min.txt\"),\n",
    "                         header_start=20)"
   ]
  },
  {
   "cell_type": "code",
   "execution_count": 113,
   "id": "7954db91",
   "metadata": {},
   "outputs": [],
   "source": [
    "CELIAS_2024['SPEED'].unit = 'km / s'"
   ]
  },
  {
   "cell_type": "code",
   "execution_count": 114,
   "id": "f431bcab",
   "metadata": {},
   "outputs": [
    {
     "data": {
      "text/html": [
       "<div><i>Table length=6274</i>\n",
       "<table id=\"table139839360949104\" class=\"table-striped table-bordered table-condensed\">\n",
       "<thead><tr><th>YY</th><th>MON</th><th>DY</th><th>DOY:HH:MM:SS</th><th>SPEED</th><th>Np</th><th>Vth</th><th>N/S</th><th>V_He</th><th>GSE_X</th><th>GSE_Y</th><th>GSE_Z</th><th>RANGE</th><th>HGLAT</th><th>HGLONG</th><th>CRN(E)</th></tr></thead>\n",
       "<thead><tr><th></th><th></th><th></th><th></th><th>km / s</th><th></th><th></th><th></th><th></th><th></th><th></th><th></th><th></th><th></th><th></th><th></th></tr></thead>\n",
       "<thead><tr><th>int64</th><th>str3</th><th>int64</th><th>str12</th><th>int64</th><th>float64</th><th>int64</th><th>float64</th><th>int64</th><th>float64</th><th>float64</th><th>float64</th><th>float64</th><th>float64</th><th>float64</th><th>int64</th></tr></thead>\n",
       "<tr><td>24</td><td>Jan</td><td>1</td><td>001:00:00:08</td><td>300</td><td>7.38</td><td>18</td><td>0.9</td><td>301</td><td>194.2</td><td>50.8</td><td>12.6</td><td>145.9</td><td>-2.9</td><td>227.2</td><td>2279</td></tr>\n",
       "<tr><td>24</td><td>Jan</td><td>1</td><td>001:00:04:55</td><td>301</td><td>7.19</td><td>18</td><td>0.5</td><td>301</td><td>194.2</td><td>50.8</td><td>12.6</td><td>145.9</td><td>-2.9</td><td>227.2</td><td>2279</td></tr>\n",
       "<tr><td>24</td><td>Jan</td><td>1</td><td>001:00:10:00</td><td>301</td><td>7.19</td><td>17</td><td>0.6</td><td>302</td><td>194.2</td><td>50.9</td><td>12.6</td><td>145.9</td><td>-2.9</td><td>227.1</td><td>2279</td></tr>\n",
       "<tr><td>24</td><td>Jan</td><td>1</td><td>001:00:15:00</td><td>301</td><td>7.71</td><td>18</td><td>1.2</td><td>302</td><td>194.2</td><td>50.9</td><td>12.6</td><td>145.9</td><td>-2.9</td><td>227.1</td><td>2279</td></tr>\n",
       "<tr><td>24</td><td>Jan</td><td>1</td><td>001:00:20:02</td><td>301</td><td>7.56</td><td>18</td><td>0.9</td><td>302</td><td>194.2</td><td>50.9</td><td>12.6</td><td>145.9</td><td>-2.9</td><td>227.0</td><td>2279</td></tr>\n",
       "<tr><td>24</td><td>Jan</td><td>1</td><td>001:00:25:05</td><td>302</td><td>7.55</td><td>18</td><td>0.5</td><td>303</td><td>194.2</td><td>50.9</td><td>12.6</td><td>145.9</td><td>-2.9</td><td>227.0</td><td>2279</td></tr>\n",
       "<tr><td>24</td><td>Jan</td><td>1</td><td>001:00:30:07</td><td>303</td><td>8.27</td><td>19</td><td>1.2</td><td>304</td><td>194.2</td><td>50.9</td><td>12.6</td><td>145.9</td><td>-2.9</td><td>226.9</td><td>2279</td></tr>\n",
       "<tr><td>24</td><td>Jan</td><td>1</td><td>001:00:35:08</td><td>310</td><td>6.98</td><td>19</td><td>-0.3</td><td>311</td><td>194.2</td><td>50.9</td><td>12.6</td><td>145.9</td><td>-2.9</td><td>226.9</td><td>2279</td></tr>\n",
       "<tr><td>24</td><td>Jan</td><td>1</td><td>001:00:40:10</td><td>309</td><td>6.12</td><td>19</td><td>-1.4</td><td>311</td><td>194.2</td><td>50.9</td><td>12.6</td><td>145.9</td><td>-2.9</td><td>226.8</td><td>2279</td></tr>\n",
       "<tr><td>24</td><td>Jan</td><td>1</td><td>001:00:45:14</td><td>314</td><td>6.23</td><td>21</td><td>-1.2</td><td>316</td><td>194.2</td><td>50.9</td><td>12.6</td><td>145.9</td><td>-2.9</td><td>226.8</td><td>2279</td></tr>\n",
       "<tr><td>24</td><td>Jan</td><td>1</td><td>001:00:50:15</td><td>318</td><td>5.65</td><td>22</td><td>-0.8</td><td>321</td><td>194.2</td><td>50.9</td><td>12.6</td><td>145.9</td><td>-2.9</td><td>226.8</td><td>2279</td></tr>\n",
       "<tr><td>24</td><td>Jan</td><td>1</td><td>001:00:55:17</td><td>318</td><td>6.29</td><td>22</td><td>-0.5</td><td>321</td><td>194.2</td><td>50.9</td><td>12.6</td><td>145.9</td><td>-2.9</td><td>226.8</td><td>2279</td></tr>\n",
       "<tr><td>24</td><td>Jan</td><td>1</td><td>001:01:00:20</td><td>316</td><td>7.01</td><td>21</td><td>-0.6</td><td>319</td><td>194.2</td><td>51.0</td><td>12.6</td><td>145.9</td><td>-2.9</td><td>226.7</td><td>2279</td></tr>\n",
       "<tr><td>...</td><td>...</td><td>...</td><td>...</td><td>...</td><td>...</td><td>...</td><td>...</td><td>...</td><td>...</td><td>...</td><td>...</td><td>...</td><td>...</td><td>...</td><td>...</td></tr>\n",
       "<tr><td>24</td><td>Jan</td><td>22</td><td>022:22:54:50</td><td>407</td><td>11.81</td><td>42</td><td>-0.1</td><td>426</td><td>208.3</td><td>100.5</td><td>0.9</td><td>145.9</td><td>-5.2</td><td>298.0</td><td>2280</td></tr>\n",
       "<tr><td>24</td><td>Jan</td><td>22</td><td>022:22:59:51</td><td>405</td><td>12.33</td><td>44</td><td>0.1</td><td>425</td><td>208.3</td><td>100.5</td><td>0.9</td><td>145.9</td><td>-5.2</td><td>298.0</td><td>2280</td></tr>\n",
       "<tr><td>24</td><td>Jan</td><td>22</td><td>022:23:04:53</td><td>415</td><td>13.06</td><td>39</td><td>-1.9</td><td>430</td><td>208.4</td><td>100.5</td><td>0.9</td><td>145.9</td><td>-5.2</td><td>297.9</td><td>2280</td></tr>\n",
       "<tr><td>24</td><td>Jan</td><td>22</td><td>022:23:09:56</td><td>418</td><td>13.14</td><td>37</td><td>-2.1</td><td>431</td><td>208.4</td><td>100.5</td><td>0.9</td><td>145.9</td><td>-5.2</td><td>297.9</td><td>2280</td></tr>\n",
       "<tr><td>24</td><td>Jan</td><td>22</td><td>022:23:14:58</td><td>410</td><td>12.53</td><td>39</td><td>-0.8</td><td>425</td><td>208.4</td><td>100.5</td><td>0.9</td><td>145.9</td><td>-5.2</td><td>297.8</td><td>2280</td></tr>\n",
       "<tr><td>24</td><td>Jan</td><td>22</td><td>022:23:20:02</td><td>402</td><td>12.15</td><td>41</td><td>0.3</td><td>419</td><td>208.4</td><td>100.5</td><td>0.9</td><td>145.9</td><td>-5.2</td><td>297.8</td><td>2280</td></tr>\n",
       "<tr><td>24</td><td>Jan</td><td>22</td><td>022:23:25:02</td><td>399</td><td>13.47</td><td>40</td><td>1.5</td><td>415</td><td>208.4</td><td>100.5</td><td>0.9</td><td>145.9</td><td>-5.2</td><td>297.8</td><td>2280</td></tr>\n",
       "<tr><td>24</td><td>Jan</td><td>22</td><td>022:23:30:05</td><td>401</td><td>14.25</td><td>39</td><td>1.9</td><td>416</td><td>208.4</td><td>100.5</td><td>0.9</td><td>145.9</td><td>-5.2</td><td>297.7</td><td>2280</td></tr>\n",
       "<tr><td>24</td><td>Jan</td><td>22</td><td>022:23:35:06</td><td>406</td><td>12.97</td><td>39</td><td>0.6</td><td>421</td><td>208.4</td><td>100.5</td><td>0.9</td><td>145.9</td><td>-5.2</td><td>297.7</td><td>2280</td></tr>\n",
       "<tr><td>24</td><td>Jan</td><td>22</td><td>022:23:40:08</td><td>402</td><td>11.62</td><td>40</td><td>0.3</td><td>419</td><td>208.4</td><td>100.6</td><td>0.9</td><td>145.9</td><td>-5.2</td><td>297.5</td><td>2280</td></tr>\n",
       "<tr><td>24</td><td>Jan</td><td>22</td><td>022:23:45:12</td><td>399</td><td>11.31</td><td>40</td><td>0.3</td><td>415</td><td>208.4</td><td>100.6</td><td>0.9</td><td>145.9</td><td>-5.2</td><td>297.5</td><td>2280</td></tr>\n",
       "<tr><td>24</td><td>Jan</td><td>22</td><td>022:23:50:15</td><td>400</td><td>11.87</td><td>38</td><td>0.9</td><td>414</td><td>208.4</td><td>100.6</td><td>0.9</td><td>145.9</td><td>-5.2</td><td>297.5</td><td>2280</td></tr>\n",
       "<tr><td>24</td><td>Jan</td><td>22</td><td>022:23:55:15</td><td>400</td><td>12.24</td><td>37</td><td>1.1</td><td>414</td><td>208.4</td><td>100.6</td><td>0.9</td><td>145.9</td><td>-5.2</td><td>297.5</td><td>2280</td></tr>\n",
       "</table></div>"
      ],
      "text/plain": [
       "<Table length=6274>\n",
       "  YY  MON    DY  DOY:HH:MM:SS SPEED     Np    Vth    N/S    V_He  GSE_X   GSE_Y   GSE_Z   RANGE   HGLAT   HGLONG CRN(E)\n",
       "                              km / s                                                                                   \n",
       "int64 str3 int64    str12     int64  float64 int64 float64 int64 float64 float64 float64 float64 float64 float64 int64 \n",
       "----- ---- ----- ------------ ------ ------- ----- ------- ----- ------- ------- ------- ------- ------- ------- ------\n",
       "   24  Jan     1 001:00:00:08    300    7.38    18     0.9   301   194.2    50.8    12.6   145.9    -2.9   227.2   2279\n",
       "   24  Jan     1 001:00:04:55    301    7.19    18     0.5   301   194.2    50.8    12.6   145.9    -2.9   227.2   2279\n",
       "   24  Jan     1 001:00:10:00    301    7.19    17     0.6   302   194.2    50.9    12.6   145.9    -2.9   227.1   2279\n",
       "   24  Jan     1 001:00:15:00    301    7.71    18     1.2   302   194.2    50.9    12.6   145.9    -2.9   227.1   2279\n",
       "   24  Jan     1 001:00:20:02    301    7.56    18     0.9   302   194.2    50.9    12.6   145.9    -2.9   227.0   2279\n",
       "   24  Jan     1 001:00:25:05    302    7.55    18     0.5   303   194.2    50.9    12.6   145.9    -2.9   227.0   2279\n",
       "   24  Jan     1 001:00:30:07    303    8.27    19     1.2   304   194.2    50.9    12.6   145.9    -2.9   226.9   2279\n",
       "   24  Jan     1 001:00:35:08    310    6.98    19    -0.3   311   194.2    50.9    12.6   145.9    -2.9   226.9   2279\n",
       "   24  Jan     1 001:00:40:10    309    6.12    19    -1.4   311   194.2    50.9    12.6   145.9    -2.9   226.8   2279\n",
       "   24  Jan     1 001:00:45:14    314    6.23    21    -1.2   316   194.2    50.9    12.6   145.9    -2.9   226.8   2279\n",
       "   24  Jan     1 001:00:50:15    318    5.65    22    -0.8   321   194.2    50.9    12.6   145.9    -2.9   226.8   2279\n",
       "   24  Jan     1 001:00:55:17    318    6.29    22    -0.5   321   194.2    50.9    12.6   145.9    -2.9   226.8   2279\n",
       "   24  Jan     1 001:01:00:20    316    7.01    21    -0.6   319   194.2    51.0    12.6   145.9    -2.9   226.7   2279\n",
       "  ...  ...   ...          ...    ...     ...   ...     ...   ...     ...     ...     ...     ...     ...     ...    ...\n",
       "   24  Jan    22 022:22:54:50    407   11.81    42    -0.1   426   208.3   100.5     0.9   145.9    -5.2   298.0   2280\n",
       "   24  Jan    22 022:22:59:51    405   12.33    44     0.1   425   208.3   100.5     0.9   145.9    -5.2   298.0   2280\n",
       "   24  Jan    22 022:23:04:53    415   13.06    39    -1.9   430   208.4   100.5     0.9   145.9    -5.2   297.9   2280\n",
       "   24  Jan    22 022:23:09:56    418   13.14    37    -2.1   431   208.4   100.5     0.9   145.9    -5.2   297.9   2280\n",
       "   24  Jan    22 022:23:14:58    410   12.53    39    -0.8   425   208.4   100.5     0.9   145.9    -5.2   297.8   2280\n",
       "   24  Jan    22 022:23:20:02    402   12.15    41     0.3   419   208.4   100.5     0.9   145.9    -5.2   297.8   2280\n",
       "   24  Jan    22 022:23:25:02    399   13.47    40     1.5   415   208.4   100.5     0.9   145.9    -5.2   297.8   2280\n",
       "   24  Jan    22 022:23:30:05    401   14.25    39     1.9   416   208.4   100.5     0.9   145.9    -5.2   297.7   2280\n",
       "   24  Jan    22 022:23:35:06    406   12.97    39     0.6   421   208.4   100.5     0.9   145.9    -5.2   297.7   2280\n",
       "   24  Jan    22 022:23:40:08    402   11.62    40     0.3   419   208.4   100.6     0.9   145.9    -5.2   297.5   2280\n",
       "   24  Jan    22 022:23:45:12    399   11.31    40     0.3   415   208.4   100.6     0.9   145.9    -5.2   297.5   2280\n",
       "   24  Jan    22 022:23:50:15    400   11.87    38     0.9   414   208.4   100.6     0.9   145.9    -5.2   297.5   2280\n",
       "   24  Jan    22 022:23:55:15    400   12.24    37     1.1   414   208.4   100.6     0.9   145.9    -5.2   297.5   2280"
      ]
     },
     "execution_count": 114,
     "metadata": {},
     "output_type": "execute_result"
    }
   ],
   "source": [
    "CELIAS_2024"
   ]
  },
  {
   "cell_type": "code",
   "execution_count": 73,
   "id": "9580b4d8",
   "metadata": {},
   "outputs": [
    {
     "data": {
      "text/html": [
       "<div><i>Table length=1256786</i>\n",
       "<table id=\"table139841148500288\" class=\"table-striped table-bordered table-condensed\">\n",
       "<thead><tr><th>year</th><th>month</th><th>dom</th><th>hhmm</th><th>mjd</th><th>secs</th><th>destat</th><th>de1</th><th>de4</th><th>pstat</th><th>p1</th><th>p3</th><th>p5</th><th>p6</th><th>p7</th><th>anis_idx</th><th>time</th></tr></thead>\n",
       "<thead><tr><th>int64</th><th>int64</th><th>int64</th><th>int64</th><th>int64</th><th>int64</th><th>int64</th><th>float64</th><th>float64</th><th>int64</th><th>float64</th><th>float64</th><th>float64</th><th>float64</th><th>float64</th><th>float64</th><th>float64</th></tr></thead>\n",
       "<tr><td>2012</td><td>1</td><td>8</td><td>5</td><td>55934</td><td>300</td><td>0</td><td>767.0</td><td>24.0</td><td>0</td><td>1970.0</td><td>19.0</td><td>2.59</td><td>0.831</td><td>0.126</td><td>-1.0</td><td>442368366.1839997</td></tr>\n",
       "<tr><td>2012</td><td>1</td><td>8</td><td>10</td><td>55934</td><td>600</td><td>0</td><td>830.0</td><td>23.2</td><td>0</td><td>2050.0</td><td>18.3</td><td>2.94</td><td>0.792</td><td>0.223</td><td>-1.0</td><td>442368666.1840001</td></tr>\n",
       "<tr><td>2012</td><td>1</td><td>8</td><td>15</td><td>55934</td><td>900</td><td>0</td><td>664.0</td><td>18.6</td><td>0</td><td>1990.0</td><td>19.0</td><td>2.66</td><td>0.728</td><td>0.221</td><td>-1.0</td><td>442368966.1839998</td></tr>\n",
       "<tr><td>2012</td><td>1</td><td>8</td><td>20</td><td>55934</td><td>1200</td><td>0</td><td>644.0</td><td>25.7</td><td>0</td><td>2060.0</td><td>19.8</td><td>2.66</td><td>0.79</td><td>0.137</td><td>-1.0</td><td>442369266.18400013</td></tr>\n",
       "<tr><td>2012</td><td>1</td><td>8</td><td>25</td><td>55934</td><td>1500</td><td>0</td><td>714.0</td><td>24.0</td><td>0</td><td>1950.0</td><td>20.5</td><td>2.8</td><td>0.862</td><td>0.169</td><td>-1.0</td><td>442369566.18399984</td></tr>\n",
       "<tr><td>2012</td><td>1</td><td>8</td><td>30</td><td>55934</td><td>1800</td><td>0</td><td>878.0</td><td>27.2</td><td>0</td><td>2050.0</td><td>18.0</td><td>2.66</td><td>0.665</td><td>0.19</td><td>-1.0</td><td>442369866.1840002</td></tr>\n",
       "<tr><td>2012</td><td>1</td><td>8</td><td>35</td><td>55934</td><td>2100</td><td>0</td><td>594.0</td><td>20.0</td><td>0</td><td>2070.0</td><td>18.0</td><td>2.61</td><td>0.563</td><td>0.152</td><td>-1.0</td><td>442370166.1839999</td></tr>\n",
       "<tr><td>2012</td><td>1</td><td>8</td><td>40</td><td>55934</td><td>2400</td><td>0</td><td>685.0</td><td>21.1</td><td>0</td><td>1820.0</td><td>19.0</td><td>2.56</td><td>0.769</td><td>0.211</td><td>-1.0</td><td>442370466.18400025</td></tr>\n",
       "<tr><td>2012</td><td>1</td><td>8</td><td>45</td><td>55934</td><td>2700</td><td>0</td><td>848.0</td><td>24.5</td><td>0</td><td>2000.0</td><td>18.1</td><td>3.02</td><td>0.686</td><td>0.105</td><td>-1.0</td><td>442370766.18399996</td></tr>\n",
       "<tr><td>2012</td><td>1</td><td>8</td><td>50</td><td>55934</td><td>3000</td><td>0</td><td>726.0</td><td>26.7</td><td>0</td><td>1960.0</td><td>18.5</td><td>2.97</td><td>0.756</td><td>0.16</td><td>-1.0</td><td>442371066.1839997</td></tr>\n",
       "<tr><td>2012</td><td>1</td><td>8</td><td>55</td><td>55934</td><td>3300</td><td>0</td><td>644.0</td><td>25.7</td><td>0</td><td>2060.0</td><td>20.8</td><td>2.66</td><td>0.582</td><td>0.0843</td><td>-1.0</td><td>442371366.1840001</td></tr>\n",
       "<tr><td>2012</td><td>1</td><td>8</td><td>100</td><td>55934</td><td>3600</td><td>0</td><td>691.0</td><td>17.6</td><td>0</td><td>1920.0</td><td>18.4</td><td>2.75</td><td>0.499</td><td>0.158</td><td>-1.0</td><td>442371666.1839998</td></tr>\n",
       "<tr><td>2012</td><td>1</td><td>8</td><td>105</td><td>55934</td><td>3900</td><td>0</td><td>711.0</td><td>20.9</td><td>0</td><td>2030.0</td><td>17.8</td><td>2.63</td><td>0.668</td><td>0.116</td><td>-1.0</td><td>442371966.18400013</td></tr>\n",
       "<tr><td>...</td><td>...</td><td>...</td><td>...</td><td>...</td><td>...</td><td>...</td><td>...</td><td>...</td><td>...</td><td>...</td><td>...</td><td>...</td><td>...</td><td>...</td><td>...</td><td>...</td></tr>\n",
       "<tr><td>2024</td><td>1</td><td>24</td><td>1420</td><td>60333</td><td>51600</td><td>0</td><td>10500.0</td><td>33.8</td><td>0</td><td>16500.0</td><td>3430.0</td><td>535.0</td><td>189.0</td><td>42.8</td><td>-1.0</td><td>822493269.1839998</td></tr>\n",
       "<tr><td>2024</td><td>1</td><td>24</td><td>1425</td><td>60333</td><td>51900</td><td>0</td><td>9820.0</td><td>35.1</td><td>0</td><td>16700.0</td><td>3380.0</td><td>544.0</td><td>190.0</td><td>41.6</td><td>-1.0</td><td>822493569.1840001</td></tr>\n",
       "<tr><td>2024</td><td>1</td><td>24</td><td>1430</td><td>60333</td><td>52200</td><td>0</td><td>10000.0</td><td>33.3</td><td>0</td><td>16100.0</td><td>3370.0</td><td>533.0</td><td>186.0</td><td>42.0</td><td>-1.0</td><td>822493869.1839999</td></tr>\n",
       "<tr><td>2024</td><td>1</td><td>24</td><td>1435</td><td>60333</td><td>52500</td><td>0</td><td>10200.0</td><td>34.4</td><td>0</td><td>16100.0</td><td>3240.0</td><td>525.0</td><td>199.0</td><td>43.2</td><td>-1.0</td><td>822494169.1840003</td></tr>\n",
       "<tr><td>2024</td><td>1</td><td>24</td><td>1440</td><td>60333</td><td>52800</td><td>0</td><td>9850.0</td><td>32.6</td><td>0</td><td>16100.0</td><td>3260.0</td><td>517.0</td><td>185.0</td><td>41.1</td><td>-1.0</td><td>822494469.1839999</td></tr>\n",
       "<tr><td>2024</td><td>1</td><td>24</td><td>1445</td><td>60333</td><td>53100</td><td>0</td><td>10200.0</td><td>33.8</td><td>0</td><td>15700.0</td><td>3150.0</td><td>502.0</td><td>195.0</td><td>42.7</td><td>-1.0</td><td>822494769.1840003</td></tr>\n",
       "<tr><td>2024</td><td>1</td><td>24</td><td>1450</td><td>60333</td><td>53400</td><td>0</td><td>10100.0</td><td>36.2</td><td>0</td><td>15200.0</td><td>3130.0</td><td>504.0</td><td>197.0</td><td>41.2</td><td>-1.0</td><td>822495069.184</td></tr>\n",
       "<tr><td>2024</td><td>1</td><td>24</td><td>1455</td><td>60333</td><td>53700</td><td>0</td><td>10400.0</td><td>31.1</td><td>0</td><td>15800.0</td><td>3130.0</td><td>499.0</td><td>204.0</td><td>41.7</td><td>-1.0</td><td>822495369.1840004</td></tr>\n",
       "<tr><td>2024</td><td>1</td><td>24</td><td>1500</td><td>60333</td><td>54000</td><td>0</td><td>8970.0</td><td>28.9</td><td>0</td><td>15800.0</td><td>3140.0</td><td>492.0</td><td>178.0</td><td>36.9</td><td>-1.0</td><td>822495669.184</td></tr>\n",
       "<tr><td>2024</td><td>1</td><td>24</td><td>1505</td><td>60333</td><td>54300</td><td>0</td><td>9960.0</td><td>37.9</td><td>0</td><td>15300.0</td><td>3150.0</td><td>512.0</td><td>201.0</td><td>42.3</td><td>-1.0</td><td>822495969.1839998</td></tr>\n",
       "<tr><td>2024</td><td>1</td><td>24</td><td>1510</td><td>60333</td><td>54600</td><td>0</td><td>9650.0</td><td>34.0</td><td>0</td><td>15600.0</td><td>3130.0</td><td>496.0</td><td>191.0</td><td>39.9</td><td>-1.0</td><td>822496269.1840001</td></tr>\n",
       "<tr><td>2024</td><td>1</td><td>24</td><td>1515</td><td>60333</td><td>54900</td><td>0</td><td>9170.0</td><td>29.9</td><td>0</td><td>15600.0</td><td>3090.0</td><td>497.0</td><td>189.0</td><td>38.9</td><td>-1.0</td><td>822496569.1839999</td></tr>\n",
       "<tr><td>2024</td><td>1</td><td>24</td><td>1520</td><td>60333</td><td>55200</td><td>0</td><td>9590.0</td><td>30.7</td><td>0</td><td>15400.0</td><td>3090.0</td><td>497.0</td><td>189.0</td><td>40.1</td><td>-1.0</td><td>822496869.1840003</td></tr>\n",
       "<tr><td>2024</td><td>1</td><td>24</td><td>1525</td><td>60333</td><td>55500</td><td>0</td><td>9380.0</td><td>29.3</td><td>0</td><td>15200.0</td><td>3120.0</td><td>507.0</td><td>184.0</td><td>37.7</td><td>-1.0</td><td>822497169.1839999</td></tr>\n",
       "</table></div>"
      ],
      "text/plain": [
       "<Table length=1256786>\n",
       " year month  dom   hhmm  mjd   secs destat   de1     de4   pstat    p1      p3      p5      p6      p7   anis_idx        time       \n",
       "int64 int64 int64 int64 int64 int64 int64  float64 float64 int64 float64 float64 float64 float64 float64 float64       float64      \n",
       "----- ----- ----- ----- ----- ----- ------ ------- ------- ----- ------- ------- ------- ------- ------- -------- ------------------\n",
       " 2012     1     8     5 55934   300      0   767.0    24.0     0  1970.0    19.0    2.59   0.831   0.126     -1.0  442368366.1839997\n",
       " 2012     1     8    10 55934   600      0   830.0    23.2     0  2050.0    18.3    2.94   0.792   0.223     -1.0  442368666.1840001\n",
       " 2012     1     8    15 55934   900      0   664.0    18.6     0  1990.0    19.0    2.66   0.728   0.221     -1.0  442368966.1839998\n",
       " 2012     1     8    20 55934  1200      0   644.0    25.7     0  2060.0    19.8    2.66    0.79   0.137     -1.0 442369266.18400013\n",
       " 2012     1     8    25 55934  1500      0   714.0    24.0     0  1950.0    20.5     2.8   0.862   0.169     -1.0 442369566.18399984\n",
       " 2012     1     8    30 55934  1800      0   878.0    27.2     0  2050.0    18.0    2.66   0.665    0.19     -1.0  442369866.1840002\n",
       " 2012     1     8    35 55934  2100      0   594.0    20.0     0  2070.0    18.0    2.61   0.563   0.152     -1.0  442370166.1839999\n",
       " 2012     1     8    40 55934  2400      0   685.0    21.1     0  1820.0    19.0    2.56   0.769   0.211     -1.0 442370466.18400025\n",
       " 2012     1     8    45 55934  2700      0   848.0    24.5     0  2000.0    18.1    3.02   0.686   0.105     -1.0 442370766.18399996\n",
       " 2012     1     8    50 55934  3000      0   726.0    26.7     0  1960.0    18.5    2.97   0.756    0.16     -1.0  442371066.1839997\n",
       " 2012     1     8    55 55934  3300      0   644.0    25.7     0  2060.0    20.8    2.66   0.582  0.0843     -1.0  442371366.1840001\n",
       " 2012     1     8   100 55934  3600      0   691.0    17.6     0  1920.0    18.4    2.75   0.499   0.158     -1.0  442371666.1839998\n",
       " 2012     1     8   105 55934  3900      0   711.0    20.9     0  2030.0    17.8    2.63   0.668   0.116     -1.0 442371966.18400013\n",
       "  ...   ...   ...   ...   ...   ...    ...     ...     ...   ...     ...     ...     ...     ...     ...      ...                ...\n",
       " 2024     1    24  1420 60333 51600      0 10500.0    33.8     0 16500.0  3430.0   535.0   189.0    42.8     -1.0  822493269.1839998\n",
       " 2024     1    24  1425 60333 51900      0  9820.0    35.1     0 16700.0  3380.0   544.0   190.0    41.6     -1.0  822493569.1840001\n",
       " 2024     1    24  1430 60333 52200      0 10000.0    33.3     0 16100.0  3370.0   533.0   186.0    42.0     -1.0  822493869.1839999\n",
       " 2024     1    24  1435 60333 52500      0 10200.0    34.4     0 16100.0  3240.0   525.0   199.0    43.2     -1.0  822494169.1840003\n",
       " 2024     1    24  1440 60333 52800      0  9850.0    32.6     0 16100.0  3260.0   517.0   185.0    41.1     -1.0  822494469.1839999\n",
       " 2024     1    24  1445 60333 53100      0 10200.0    33.8     0 15700.0  3150.0   502.0   195.0    42.7     -1.0  822494769.1840003\n",
       " 2024     1    24  1450 60333 53400      0 10100.0    36.2     0 15200.0  3130.0   504.0   197.0    41.2     -1.0      822495069.184\n",
       " 2024     1    24  1455 60333 53700      0 10400.0    31.1     0 15800.0  3130.0   499.0   204.0    41.7     -1.0  822495369.1840004\n",
       " 2024     1    24  1500 60333 54000      0  8970.0    28.9     0 15800.0  3140.0   492.0   178.0    36.9     -1.0      822495669.184\n",
       " 2024     1    24  1505 60333 54300      0  9960.0    37.9     0 15300.0  3150.0   512.0   201.0    42.3     -1.0  822495969.1839998\n",
       " 2024     1    24  1510 60333 54600      0  9650.0    34.0     0 15600.0  3130.0   496.0   191.0    39.9     -1.0  822496269.1840001\n",
       " 2024     1    24  1515 60333 54900      0  9170.0    29.9     0 15600.0  3090.0   497.0   189.0    38.9     -1.0  822496569.1839999\n",
       " 2024     1    24  1520 60333 55200      0  9590.0    30.7     0 15400.0  3090.0   497.0   189.0    40.1     -1.0  822496869.1840003\n",
       " 2024     1    24  1525 60333 55500      0  9380.0    29.3     0 15200.0  3120.0   507.0   184.0    37.7     -1.0  822497169.1839999"
      ]
     },
     "execution_count": 73,
     "metadata": {},
     "output_type": "execute_result"
    }
   ],
   "source": [
    "ACE_TABLE"
   ]
  },
  {
   "cell_type": "code",
   "execution_count": 28,
   "id": "1dfce09a",
   "metadata": {},
   "outputs": [],
   "source": [
    "#try out writing to an h5 file\n",
    "\n",
    "test_array = np.random.rand(100,4)"
   ]
  },
  {
   "cell_type": "code",
   "execution_count": 36,
   "id": "655c5afe",
   "metadata": {},
   "outputs": [],
   "source": [
    "test_table = Table(test_array, names=['time_frac','val1','val2','val3'])"
   ]
  },
  {
   "cell_type": "code",
   "execution_count": 39,
   "id": "cf0c2332",
   "metadata": {},
   "outputs": [
    {
     "ename": "OSError",
     "evalue": "File ./test.h5 already exists. If you mean to replace it then use the argument \"overwrite=True\".",
     "output_type": "error",
     "traceback": [
      "\u001b[0;31m---------------------------------------------------------------------------\u001b[0m",
      "\u001b[0;31mOSError\u001b[0m                                   Traceback (most recent call last)",
      "Cell \u001b[0;32mIn[39], line 1\u001b[0m\n\u001b[0;32m----> 1\u001b[0m \u001b[43mastropy\u001b[49m\u001b[38;5;241;43m.\u001b[39;49m\u001b[43mio\u001b[49m\u001b[38;5;241;43m.\u001b[39;49m\u001b[43mmisc\u001b[49m\u001b[38;5;241;43m.\u001b[39;49m\u001b[43mhdf5\u001b[49m\u001b[38;5;241;43m.\u001b[39;49m\u001b[43mwrite_table_hdf5\u001b[49m\u001b[43m(\u001b[49m\u001b[43mtest_table\u001b[49m\u001b[43m,\u001b[49m\u001b[38;5;124;43m'\u001b[39;49m\u001b[38;5;124;43m./test.h5\u001b[39;49m\u001b[38;5;124;43m'\u001b[39;49m\u001b[43m)\u001b[49m\n",
      "File \u001b[0;32m/proj/sot/ska3/flight/lib/python3.10/site-packages/astropy/io/misc/hdf5.py:299\u001b[0m, in \u001b[0;36mwrite_table_hdf5\u001b[0;34m(table, output, path, compression, append, overwrite, serialize_meta, **create_dataset_kwargs)\u001b[0m\n\u001b[1;32m    297\u001b[0m         os\u001b[38;5;241m.\u001b[39mremove(output)\n\u001b[1;32m    298\u001b[0m     \u001b[38;5;28;01melse\u001b[39;00m:\n\u001b[0;32m--> 299\u001b[0m         \u001b[38;5;28;01mraise\u001b[39;00m \u001b[38;5;167;01mOSError\u001b[39;00m(NOT_OVERWRITING_MSG\u001b[38;5;241m.\u001b[39mformat(output))\n\u001b[1;32m    301\u001b[0m \u001b[38;5;66;03m# Open the file for appending or writing\u001b[39;00m\n\u001b[1;32m    302\u001b[0m f \u001b[38;5;241m=\u001b[39m h5py\u001b[38;5;241m.\u001b[39mFile(output, \u001b[38;5;124m\"\u001b[39m\u001b[38;5;124ma\u001b[39m\u001b[38;5;124m\"\u001b[39m \u001b[38;5;28;01mif\u001b[39;00m append \u001b[38;5;28;01melse\u001b[39;00m \u001b[38;5;124m\"\u001b[39m\u001b[38;5;124mw\u001b[39m\u001b[38;5;124m\"\u001b[39m)\n",
      "\u001b[0;31mOSError\u001b[0m: File ./test.h5 already exists. If you mean to replace it then use the argument \"overwrite=True\"."
     ]
    }
   ],
   "source": [
    "misc.hdf5.write_table_hdf5(test_table,'./test.h5')"
   ]
  },
  {
   "cell_type": "code",
   "execution_count": 41,
   "id": "c8a4e40d",
   "metadata": {},
   "outputs": [],
   "source": [
    "pull_table = misc.hdf5.read_table_hdf5(\"./test.h5\")"
   ]
  },
  {
   "cell_type": "code",
   "execution_count": 42,
   "id": "f61801aa",
   "metadata": {},
   "outputs": [
    {
     "data": {
      "text/html": [
       "<div><i>Table length=100</i>\n",
       "<table id=\"table139840063358768\" class=\"table-striped table-bordered table-condensed\">\n",
       "<thead><tr><th>time_frac</th><th>val1</th><th>val2</th><th>val3</th></tr></thead>\n",
       "<thead><tr><th>float64</th><th>float64</th><th>float64</th><th>float64</th></tr></thead>\n",
       "<tr><td>0.2328581352437361</td><td>0.9216367710272351</td><td>0.4116790625441731</td><td>0.3993153453194147</td></tr>\n",
       "<tr><td>0.2339234471822711</td><td>0.36152490067477017</td><td>0.321371932091044</td><td>0.40428448810190265</td></tr>\n",
       "<tr><td>0.5333765212537173</td><td>0.7177114485273823</td><td>0.42047042069576357</td><td>0.6842642186652845</td></tr>\n",
       "<tr><td>0.5675338741008029</td><td>0.64090680395659</td><td>0.11590406767447126</td><td>0.5261274997694191</td></tr>\n",
       "<tr><td>0.6167150983219097</td><td>0.19425611701087842</td><td>0.863131426367121</td><td>0.02854961770676412</td></tr>\n",
       "<tr><td>0.9973079286585181</td><td>0.4105638106599806</td><td>0.009258300371353334</td><td>0.24787988493505897</td></tr>\n",
       "<tr><td>0.6711082363806673</td><td>0.8658798762759182</td><td>0.9806857450573593</td><td>0.18724875996418977</td></tr>\n",
       "<tr><td>0.5851902737051563</td><td>0.45049987517548173</td><td>0.16755025940592472</td><td>0.3675378697135052</td></tr>\n",
       "<tr><td>0.514520559911257</td><td>0.22179389460712629</td><td>0.9346307560302893</td><td>0.055316011318566005</td></tr>\n",
       "<tr><td>0.7345976424193935</td><td>0.23188818100177344</td><td>0.8309389992137579</td><td>0.6508222408171644</td></tr>\n",
       "<tr><td>0.4124974583162966</td><td>0.5600978937630819</td><td>0.279134617387255</td><td>0.5535427214196872</td></tr>\n",
       "<tr><td>0.8940663788800419</td><td>0.7485588071235806</td><td>0.7319946875864968</td><td>0.007403879343170994</td></tr>\n",
       "<tr><td>0.7418347153685518</td><td>0.2233180098924955</td><td>0.8800270199112047</td><td>0.7107770183650559</td></tr>\n",
       "<tr><td>...</td><td>...</td><td>...</td><td>...</td></tr>\n",
       "<tr><td>0.6037849541587252</td><td>0.5561898768442931</td><td>0.40282570891153635</td><td>0.5643769098553046</td></tr>\n",
       "<tr><td>0.7818430571753442</td><td>0.8843575580939319</td><td>0.14697690734273716</td><td>0.35964685480467995</td></tr>\n",
       "<tr><td>0.6599255615543045</td><td>0.5873437961378113</td><td>0.6787128382630249</td><td>0.4649078196658182</td></tr>\n",
       "<tr><td>0.8258042782688321</td><td>0.5823040715774066</td><td>0.29994106555111066</td><td>0.9596923672501226</td></tr>\n",
       "<tr><td>0.6708633140527379</td><td>0.1070647417318954</td><td>0.2778952920776282</td><td>0.7377766642198749</td></tr>\n",
       "<tr><td>0.4630265769012314</td><td>0.39216218986194706</td><td>0.2410039058397182</td><td>0.6572123537934058</td></tr>\n",
       "<tr><td>0.5846599547742273</td><td>0.48829397966868004</td><td>0.5669006558641899</td><td>0.5449958815894229</td></tr>\n",
       "<tr><td>0.15611627456421218</td><td>0.7674495088591909</td><td>0.7374601088562445</td><td>0.025635421987079132</td></tr>\n",
       "<tr><td>0.24329555122117075</td><td>0.010386816684314404</td><td>0.5116647247400152</td><td>0.8864161317814454</td></tr>\n",
       "<tr><td>0.8501493343638528</td><td>0.8166868852902412</td><td>0.7162478244059058</td><td>0.13123155797073083</td></tr>\n",
       "<tr><td>0.7323722477081903</td><td>0.27574105490251233</td><td>0.6528111170632991</td><td>0.3285322228390355</td></tr>\n",
       "<tr><td>0.3459201914260449</td><td>0.7577097699034848</td><td>0.6637188471194758</td><td>0.7388814970369568</td></tr>\n",
       "<tr><td>0.7182543868357263</td><td>0.06204354035895976</td><td>0.005489288215849597</td><td>0.014125078744925967</td></tr>\n",
       "<tr><td>0.24863772646279725</td><td>0.8491401136372771</td><td>0.8417380359583463</td><td>0.43059175519616444</td></tr>\n",
       "</table></div>"
      ],
      "text/plain": [
       "<Table length=100>\n",
       "     time_frac              val1                 val2                 val3        \n",
       "      float64             float64              float64              float64       \n",
       "------------------- -------------------- -------------------- --------------------\n",
       " 0.2328581352437361   0.9216367710272351   0.4116790625441731   0.3993153453194147\n",
       " 0.2339234471822711  0.36152490067477017    0.321371932091044  0.40428448810190265\n",
       " 0.5333765212537173   0.7177114485273823  0.42047042069576357   0.6842642186652845\n",
       " 0.5675338741008029     0.64090680395659  0.11590406767447126   0.5261274997694191\n",
       " 0.6167150983219097  0.19425611701087842    0.863131426367121  0.02854961770676412\n",
       " 0.9973079286585181   0.4105638106599806 0.009258300371353334  0.24787988493505897\n",
       " 0.6711082363806673   0.8658798762759182   0.9806857450573593  0.18724875996418977\n",
       " 0.5851902737051563  0.45049987517548173  0.16755025940592472   0.3675378697135052\n",
       "  0.514520559911257  0.22179389460712629   0.9346307560302893 0.055316011318566005\n",
       " 0.7345976424193935  0.23188818100177344   0.8309389992137579   0.6508222408171644\n",
       " 0.4124974583162966   0.5600978937630819    0.279134617387255   0.5535427214196872\n",
       " 0.8940663788800419   0.7485588071235806   0.7319946875864968 0.007403879343170994\n",
       " 0.7418347153685518   0.2233180098924955   0.8800270199112047   0.7107770183650559\n",
       "                ...                  ...                  ...                  ...\n",
       " 0.6037849541587252   0.5561898768442931  0.40282570891153635   0.5643769098553046\n",
       " 0.7818430571753442   0.8843575580939319  0.14697690734273716  0.35964685480467995\n",
       " 0.6599255615543045   0.5873437961378113   0.6787128382630249   0.4649078196658182\n",
       " 0.8258042782688321   0.5823040715774066  0.29994106555111066   0.9596923672501226\n",
       " 0.6708633140527379   0.1070647417318954   0.2778952920776282   0.7377766642198749\n",
       " 0.4630265769012314  0.39216218986194706   0.2410039058397182   0.6572123537934058\n",
       " 0.5846599547742273  0.48829397966868004   0.5669006558641899   0.5449958815894229\n",
       "0.15611627456421218   0.7674495088591909   0.7374601088562445 0.025635421987079132\n",
       "0.24329555122117075 0.010386816684314404   0.5116647247400152   0.8864161317814454\n",
       " 0.8501493343638528   0.8166868852902412   0.7162478244059058  0.13123155797073083\n",
       " 0.7323722477081903  0.27574105490251233   0.6528111170632991   0.3285322228390355\n",
       " 0.3459201914260449   0.7577097699034848   0.6637188471194758   0.7388814970369568\n",
       " 0.7182543868357263  0.06204354035895976 0.005489288215849597 0.014125078744925967\n",
       "0.24863772646279725   0.8491401136372771   0.8417380359583463  0.43059175519616444"
      ]
     },
     "execution_count": 42,
     "metadata": {},
     "output_type": "execute_result"
    }
   ],
   "source": [
    "pull_table"
   ]
  },
  {
   "cell_type": "code",
   "execution_count": null,
   "id": "8614a98e",
   "metadata": {},
   "outputs": [],
   "source": []
  }
 ],
 "metadata": {
  "kernelspec": {
   "display_name": "Python [conda env:root] *",
   "language": "python",
   "name": "conda-root-py"
  },
  "language_info": {
   "codemirror_mode": {
    "name": "ipython",
    "version": 3
   },
   "file_extension": ".py",
   "mimetype": "text/x-python",
   "name": "python",
   "nbconvert_exporter": "python",
   "pygments_lexer": "ipython3",
   "version": "3.10.8"
  }
 },
 "nbformat": 4,
 "nbformat_minor": 5
}
