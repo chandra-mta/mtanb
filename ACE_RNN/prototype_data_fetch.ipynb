{
 "cells": [
  {
   "cell_type": "markdown",
   "id": "17563f23",
   "metadata": {},
   "source": [
    "This Notebook serves as a starting point for formatting and inputting data sets necessary for the ACE_RNN"
   ]
  },
  {
   "cell_type": "code",
   "execution_count": 1,
   "id": "0b552dc8",
   "metadata": {},
   "outputs": [],
   "source": [
    "import sys\n",
    "import os\n",
    "import numpy as np\n",
    "from astropy.table import Table, vstack\n",
    "from astropy.io import misc, ascii\n",
    "from pathlib import Path\n",
    "import h5py\n",
    "import requests\n",
    "import zipfile\n",
    "import io\n",
    "import urllib.request\n",
    "from datetime import datetime\n",
    "from tqdm.notebook import tqdm"
   ]
  },
  {
   "cell_type": "code",
   "execution_count": 2,
   "id": "ebffb1f3",
   "metadata": {},
   "outputs": [],
   "source": [
    "#Format data around h5py library and astropy table\n",
    "ARC_DIR = Path(\"/proj/sot/ska/data/arc3\")\n",
    "ACE_H5_FILE = h5py.File(ARC_DIR.joinpath(\"ACE.h5\"))\n",
    "GOES_H5_FILE = h5py.File(ARC_DIR.joinpath(\"GOES_X.h5\"))"
   ]
  },
  {
   "cell_type": "code",
   "execution_count": 3,
   "id": "356d0a13",
   "metadata": {},
   "outputs": [],
   "source": [
    "ACE_TABLE = misc.hdf5.read_table_hdf5(ACE_H5_FILE)\n",
    "GOES_TABLE = misc.hdf5.read_table_hdf5(GOES_H5_FILE)"
   ]
  },
  {
   "cell_type": "code",
   "execution_count": 4,
   "id": "30ddae7d",
   "metadata": {},
   "outputs": [
    {
     "data": {
      "text/html": [
       "<div><i>Table length=2729333</i>\n",
       "<table id=\"table139866410731216\" class=\"table-striped table-bordered table-condensed\">\n",
       "<thead><tr><th>year</th><th>month</th><th>dom</th><th>hhmm</th><th>mjd</th><th>secs</th><th>short</th><th>long</th><th>ratio</th><th>time</th><th>satellite</th></tr></thead>\n",
       "<thead><tr><th>int64</th><th>int64</th><th>int64</th><th>int64</th><th>int64</th><th>int64</th><th>float64</th><th>float64</th><th>float64</th><th>float64</th><th>int64</th></tr></thead>\n",
       "<tr><td>2013</td><td>5</td><td>3</td><td>5</td><td>56415</td><td>300</td><td>7.4e-09</td><td>8.33e-07</td><td>0.00889</td><td>483926767.1839997</td><td>15</td></tr>\n",
       "<tr><td>2013</td><td>5</td><td>3</td><td>10</td><td>56415</td><td>600</td><td>6.83e-09</td><td>8.35e-07</td><td>0.00817</td><td>483927067.1840001</td><td>15</td></tr>\n",
       "<tr><td>2013</td><td>5</td><td>3</td><td>15</td><td>56415</td><td>900</td><td>6.98e-09</td><td>8.36e-07</td><td>0.00835</td><td>483927367.1839998</td><td>15</td></tr>\n",
       "<tr><td>2013</td><td>5</td><td>3</td><td>20</td><td>56415</td><td>1200</td><td>8.16e-09</td><td>8.23e-07</td><td>0.00991</td><td>483927667.18400013</td><td>15</td></tr>\n",
       "<tr><td>2013</td><td>5</td><td>3</td><td>25</td><td>56415</td><td>1500</td><td>5.59e-09</td><td>8.12e-07</td><td>0.00688</td><td>483927967.18399984</td><td>15</td></tr>\n",
       "<tr><td>2013</td><td>5</td><td>3</td><td>30</td><td>56415</td><td>1800</td><td>2.91e-08</td><td>9.94e-07</td><td>0.0251</td><td>483928267.1840002</td><td>15</td></tr>\n",
       "<tr><td>2013</td><td>5</td><td>3</td><td>35</td><td>56415</td><td>2100</td><td>6.87e-08</td><td>1.6e-06</td><td>0.0419</td><td>483928567.1839999</td><td>15</td></tr>\n",
       "<tr><td>2013</td><td>5</td><td>3</td><td>40</td><td>56415</td><td>2400</td><td>1.45e-08</td><td>1.02e-06</td><td>0.0141</td><td>483928867.18400025</td><td>15</td></tr>\n",
       "<tr><td>2013</td><td>5</td><td>3</td><td>45</td><td>56415</td><td>2700</td><td>9.55e-09</td><td>8.92e-07</td><td>0.0107</td><td>483929167.18399996</td><td>15</td></tr>\n",
       "<tr><td>2013</td><td>5</td><td>3</td><td>50</td><td>56415</td><td>3000</td><td>2.77e-08</td><td>1.11e-06</td><td>0.025</td><td>483929467.1839997</td><td>15</td></tr>\n",
       "<tr><td>2013</td><td>5</td><td>3</td><td>55</td><td>56415</td><td>3300</td><td>2.16e-08</td><td>1.1e-06</td><td>0.0195</td><td>483929767.1840001</td><td>15</td></tr>\n",
       "<tr><td>2013</td><td>5</td><td>3</td><td>100</td><td>56415</td><td>3600</td><td>1.11e-08</td><td>9.98e-07</td><td>0.0111</td><td>483930067.1839998</td><td>15</td></tr>\n",
       "<tr><td>2013</td><td>5</td><td>3</td><td>105</td><td>56415</td><td>3900</td><td>6.85e-09</td><td>9.28e-07</td><td>0.00734</td><td>483930367.18400013</td><td>15</td></tr>\n",
       "<tr><td>2013</td><td>5</td><td>3</td><td>110</td><td>56415</td><td>4200</td><td>8.36e-09</td><td>9e-07</td><td>0.00922</td><td>483930667.18399984</td><td>15</td></tr>\n",
       "<tr><td>...</td><td>...</td><td>...</td><td>...</td><td>...</td><td>...</td><td>...</td><td>...</td><td>...</td><td>...</td><td>...</td></tr>\n",
       "<tr><td>2024</td><td>2</td><td>1</td><td>2131</td><td>60341</td><td>77460</td><td>1.7607067803737664e-08</td><td>8.078604878392071e-07</td><td>0.021794688648322773</td><td>823210329.184</td><td>16</td></tr>\n",
       "<tr><td>2024</td><td>2</td><td>1</td><td>2132</td><td>60341</td><td>77520</td><td>1.6632505150937504e-08</td><td>8.11805477951566e-07</td><td>0.020488288885296035</td><td>823210389.184</td><td>16</td></tr>\n",
       "<tr><td>2024</td><td>2</td><td>1</td><td>2133</td><td>60341</td><td>77580</td><td>1.700715657193541e-08</td><td>8.214529430006223e-07</td><td>0.020703750247471602</td><td>823210449.184</td><td>16</td></tr>\n",
       "<tr><td>2024</td><td>2</td><td>1</td><td>2134</td><td>60341</td><td>77640</td><td>1.87031918841285e-08</td><td>8.357039291695401e-07</td><td>0.02238016506960106</td><td>823210509.184</td><td>16</td></tr>\n",
       "<tr><td>2024</td><td>2</td><td>1</td><td>2135</td><td>60341</td><td>77700</td><td>1.7157402609768724e-08</td><td>8.342610158251773e-07</td><td>0.020565988682568533</td><td>823210569.184</td><td>16</td></tr>\n",
       "<tr><td>2024</td><td>2</td><td>1</td><td>2136</td><td>60341</td><td>77760</td><td>1.836761853724056e-08</td><td>8.325049520863104e-07</td><td>0.022063074209000368</td><td>823210629.184</td><td>16</td></tr>\n",
       "<tr><td>2024</td><td>2</td><td>1</td><td>2137</td><td>60341</td><td>77820</td><td>1.616807487891947e-08</td><td>8.259683568212495e-07</td><td>0.019574690416885372</td><td>823210689.184</td><td>16</td></tr>\n",
       "<tr><td>2024</td><td>2</td><td>1</td><td>2138</td><td>60341</td><td>77880</td><td>1.6212730713505152e-08</td><td>8.144258458742115e-07</td><td>0.01990694523711029</td><td>823210749.184</td><td>16</td></tr>\n",
       "<tr><td>2024</td><td>2</td><td>1</td><td>2139</td><td>60341</td><td>77940</td><td>1.6652107248660286e-08</td><td>8.068743682088098e-07</td><td>0.020637794314406717</td><td>823210809.184</td><td>16</td></tr>\n",
       "<tr><td>2024</td><td>2</td><td>1</td><td>2140</td><td>60341</td><td>78000</td><td>1.682433037331066e-08</td><td>7.993784834070539e-07</td><td>0.021046764108039535</td><td>823210869.184</td><td>16</td></tr>\n",
       "<tr><td>2024</td><td>2</td><td>1</td><td>2141</td><td>60341</td><td>78060</td><td>1.7631561988196154e-08</td><td>7.941874287098472e-07</td><td>0.022200756837511926</td><td>823210929.184</td><td>16</td></tr>\n",
       "<tr><td>2024</td><td>2</td><td>1</td><td>2142</td><td>60341</td><td>78120</td><td>1.6120958790111217e-08</td><td>7.888194204497267e-07</td><td>0.020436817821904325</td><td>823210989.184</td><td>16</td></tr>\n",
       "<tr><td>2024</td><td>2</td><td>1</td><td>2143</td><td>60341</td><td>78180</td><td>1.6001186153857816e-08</td><td>7.892701319178741e-07</td><td>0.020273396276856436</td><td>823211049.184</td><td>16</td></tr>\n",
       "<tr><td>2024</td><td>2</td><td>1</td><td>2144</td><td>60341</td><td>78240</td><td>1.7111496219968103e-08</td><td>7.87919645972579e-07</td><td>0.021717311286033873</td><td>823211109.184</td><td>16</td></tr>\n",
       "<tr><td>2024</td><td>2</td><td>1</td><td>2145</td><td>60341</td><td>78300</td><td>1.6227701848947618e-08</td><td>7.876485597080318e-07</td><td>0.020602718876249777</td><td>823211169.184</td><td>16</td></tr>\n",
       "</table></div>"
      ],
      "text/plain": [
       "<Table length=2729333>\n",
       " year month  dom   hhmm  mjd   secs         short                   long                ratio                time        satellite\n",
       "int64 int64 int64 int64 int64 int64        float64                float64              float64             float64         int64  \n",
       "----- ----- ----- ----- ----- ----- ---------------------- --------------------- -------------------- ------------------ ---------\n",
       " 2013     5     3     5 56415   300                7.4e-09              8.33e-07              0.00889  483926767.1839997        15\n",
       " 2013     5     3    10 56415   600               6.83e-09              8.35e-07              0.00817  483927067.1840001        15\n",
       " 2013     5     3    15 56415   900               6.98e-09              8.36e-07              0.00835  483927367.1839998        15\n",
       " 2013     5     3    20 56415  1200               8.16e-09              8.23e-07              0.00991 483927667.18400013        15\n",
       " 2013     5     3    25 56415  1500               5.59e-09              8.12e-07              0.00688 483927967.18399984        15\n",
       " 2013     5     3    30 56415  1800               2.91e-08              9.94e-07               0.0251  483928267.1840002        15\n",
       " 2013     5     3    35 56415  2100               6.87e-08               1.6e-06               0.0419  483928567.1839999        15\n",
       " 2013     5     3    40 56415  2400               1.45e-08              1.02e-06               0.0141 483928867.18400025        15\n",
       " 2013     5     3    45 56415  2700               9.55e-09              8.92e-07               0.0107 483929167.18399996        15\n",
       " 2013     5     3    50 56415  3000               2.77e-08              1.11e-06                0.025  483929467.1839997        15\n",
       " 2013     5     3    55 56415  3300               2.16e-08               1.1e-06               0.0195  483929767.1840001        15\n",
       " 2013     5     3   100 56415  3600               1.11e-08              9.98e-07               0.0111  483930067.1839998        15\n",
       " 2013     5     3   105 56415  3900               6.85e-09              9.28e-07              0.00734 483930367.18400013        15\n",
       " 2013     5     3   110 56415  4200               8.36e-09                 9e-07              0.00922 483930667.18399984        15\n",
       "  ...   ...   ...   ...   ...   ...                    ...                   ...                  ...                ...       ...\n",
       " 2024     2     1  2131 60341 77460 1.7607067803737664e-08 8.078604878392071e-07 0.021794688648322773      823210329.184        16\n",
       " 2024     2     1  2132 60341 77520 1.6632505150937504e-08  8.11805477951566e-07 0.020488288885296035      823210389.184        16\n",
       " 2024     2     1  2133 60341 77580  1.700715657193541e-08 8.214529430006223e-07 0.020703750247471602      823210449.184        16\n",
       " 2024     2     1  2134 60341 77640   1.87031918841285e-08 8.357039291695401e-07  0.02238016506960106      823210509.184        16\n",
       " 2024     2     1  2135 60341 77700 1.7157402609768724e-08 8.342610158251773e-07 0.020565988682568533      823210569.184        16\n",
       " 2024     2     1  2136 60341 77760  1.836761853724056e-08 8.325049520863104e-07 0.022063074209000368      823210629.184        16\n",
       " 2024     2     1  2137 60341 77820  1.616807487891947e-08 8.259683568212495e-07 0.019574690416885372      823210689.184        16\n",
       " 2024     2     1  2138 60341 77880 1.6212730713505152e-08 8.144258458742115e-07  0.01990694523711029      823210749.184        16\n",
       " 2024     2     1  2139 60341 77940 1.6652107248660286e-08 8.068743682088098e-07 0.020637794314406717      823210809.184        16\n",
       " 2024     2     1  2140 60341 78000  1.682433037331066e-08 7.993784834070539e-07 0.021046764108039535      823210869.184        16\n",
       " 2024     2     1  2141 60341 78060 1.7631561988196154e-08 7.941874287098472e-07 0.022200756837511926      823210929.184        16\n",
       " 2024     2     1  2142 60341 78120 1.6120958790111217e-08 7.888194204497267e-07 0.020436817821904325      823210989.184        16\n",
       " 2024     2     1  2143 60341 78180 1.6001186153857816e-08 7.892701319178741e-07 0.020273396276856436      823211049.184        16\n",
       " 2024     2     1  2144 60341 78240 1.7111496219968103e-08  7.87919645972579e-07 0.021717311286033873      823211109.184        16\n",
       " 2024     2     1  2145 60341 78300 1.6227701848947618e-08 7.876485597080318e-07 0.020602718876249777      823211169.184        16"
      ]
     },
     "execution_count": 4,
     "metadata": {},
     "output_type": "execute_result"
    }
   ],
   "source": [
    "GOES_TABLE"
   ]
  },
  {
   "cell_type": "code",
   "execution_count": 2,
   "id": "3308c32f",
   "metadata": {},
   "outputs": [],
   "source": [
    "#Data Directories for set fetched online\n",
    "DATA_DIR = Path(\"/data/mta4/ACE_RNN/Data\")\n",
    "CELIAS_PATH = DATA_DIR.joinpath(\"CELIAS.h5\")"
   ]
  },
  {
   "cell_type": "code",
   "execution_count": 3,
   "id": "2ad7c8e4",
   "metadata": {},
   "outputs": [],
   "source": [
    "#Web Links for fetching Data\n",
    "#mtof = f\"https://l1.umd.edu/data/{this_year}_CELIAS_Proton_Monitor_5min.zip\"\n",
    "CELIAS_LINK = f\"https://l1.umd.edu/data\""
   ]
  },
  {
   "cell_type": "code",
   "execution_count": 5,
   "id": "30b5be76",
   "metadata": {},
   "outputs": [],
   "source": [
    "#\n",
    "#-- Function to fetch CELIAS Data\n",
    "#\n",
    "def pull_celias(start,stop):\n",
    "    for year in tqdm(range(start,stop+1)):\n",
    "        fetch_link = f\"{CELIAS_LINK}/{year}_CELIAS_Proton_Monitor_5min.zip\"\n",
    "        r = requests.get(fetch_link, stream=True)\n",
    "        z = zipfile.ZipFile(io.BytesIO(r.content))\n",
    "        z.extractall(DATA_DIR.joinpath(\"CELIAS_txt\"))"
   ]
  },
  {
   "cell_type": "markdown",
   "id": "28fb6993",
   "metadata": {},
   "source": [
    "Pulling only since 2013 even though 1996 is available, in order to match with current ACE and GOES timeframes. Can be adjusted. Note that this data fetch was already run and is here for reference"
   ]
  },
  {
   "cell_type": "code",
   "execution_count": 6,
   "id": "0e820d13",
   "metadata": {},
   "outputs": [],
   "source": [
    "#pull_celias(1996,2024)"
   ]
  },
  {
   "cell_type": "code",
   "execution_count": 7,
   "id": "d998e9c7",
   "metadata": {},
   "outputs": [
    {
     "name": "stdout",
     "output_type": "stream",
     "text": [
      "The history saving thread hit an unexpected error (OperationalError('disk I/O error')).History will not be written to the database.\n"
     ]
    }
   ],
   "source": [
    "CELIAS_UNITS = [None, None, None, None, 'km/s', 'cm-3', 'km/s', 'deg',\n",
    "                'km/s', 'Re', 'Re', 'Re', 'Mkm', 'deg','deg','#']\n",
    "\n",
    "CELIAS_COLNAMES = ['YY',\n",
    " 'MON',\n",
    " 'DY',\n",
    " 'DOY:HH:MM:SS',\n",
    " 'SPEED',\n",
    " 'Np',\n",
    " 'Vth',\n",
    " 'N/S',\n",
    " 'V_He',\n",
    " 'GSE_X',\n",
    " 'GSE_Y',\n",
    " 'GSE_Z',\n",
    " 'RANGE',\n",
    " 'HGLAT',\n",
    " 'HGLONG',\n",
    " 'CRN(E)']\n",
    "\n",
    "CELIAS_DTYPE = [np.dtype('int64'),\n",
    " np.dtype('<U3'),\n",
    " np.dtype('int64'),\n",
    " np.dtype('<U12'),\n",
    " np.dtype('int64'),\n",
    " np.dtype('float64'),\n",
    " np.dtype('int64'),\n",
    " np.dtype('float64'),\n",
    " np.dtype('int64'),\n",
    " np.dtype('float64'),\n",
    " np.dtype('float64'),\n",
    " np.dtype('float64'),\n",
    " np.dtype('float64'),\n",
    " np.dtype('float64'),\n",
    " np.dtype('float64'),\n",
    " np.dtype('int64')]"
   ]
  },
  {
   "cell_type": "code",
   "execution_count": 8,
   "id": "e703fa14",
   "metadata": {},
   "outputs": [],
   "source": [
    "#\n",
    "# -- Function converting CELIAS textfiles to Astropy fits tables\n",
    "#\n",
    "def convert_celias(start,stop):\n",
    "    celias_table = Table(names = CELIAS_COLNAMES, units = CELIAS_UNITS, dtype = CELIAS_DTYPE)\n",
    "    for year in tqdm(range(start,stop+1)):\n",
    "        subtable = ascii.read(DATA_DIR.joinpath(\"CELIAS_txt\", f\"{year}_CELIAS_Proton_Monitor_5min.txt\"),\n",
    "                         header_start=20)\n",
    "        celias_table = vstack([celias_table, subtable])\n",
    "    return celias_table"
   ]
  },
  {
   "cell_type": "markdown",
   "id": "3802aadd",
   "metadata": {},
   "source": [
    "Using all text formatting. Note that this data fetch was already run and is here for reference."
   ]
  },
  {
   "cell_type": "code",
   "execution_count": 9,
   "id": "8b642882",
   "metadata": {},
   "outputs": [],
   "source": [
    "#CELIAS_TABLE = convert_celias(1996,2024)"
   ]
  },
  {
   "cell_type": "markdown",
   "id": "75542f3c",
   "metadata": {},
   "source": [
    "Reformat date information into a singular ordered time column in a datetime stirng format"
   ]
  },
  {
   "cell_type": "code",
   "execution_count": 18,
   "id": "3bb7afde",
   "metadata": {},
   "outputs": [
    {
     "data": {
      "text/html": [
       "<div><i>Table length=2704837</i>\n",
       "<table id=\"table140633250883776\" class=\"table-striped table-bordered table-condensed\">\n",
       "<thead><tr><th>YY</th><th>MON</th><th>DY</th><th>DOY:HH:MM:SS</th><th>SPEED</th><th>Np</th><th>Vth</th><th>N/S</th><th>V_He</th><th>GSE_X</th><th>GSE_Y</th><th>GSE_Z</th><th>RANGE</th><th>HGLAT</th><th>HGLONG</th><th>CRN(E)</th></tr></thead>\n",
       "<thead><tr><th></th><th></th><th></th><th></th><th>km / s</th><th>1 / cm3</th><th>km / s</th><th>deg</th><th>km / s</th><th>Re</th><th>Re</th><th>Re</th><th>Mkm</th><th>deg</th><th>deg</th><th>#</th></tr></thead>\n",
       "<thead><tr><th>int64</th><th>str3</th><th>int64</th><th>str12</th><th>int64</th><th>float64</th><th>int64</th><th>float64</th><th>int64</th><th>float64</th><th>float64</th><th>float64</th><th>float64</th><th>float64</th><th>float64</th><th>int64</th></tr></thead>\n",
       "<tr><td>96</td><td>Jan</td><td>20</td><td>020:20:18:00</td><td>446</td><td>10.14</td><td>44</td><td>1.9</td><td>466</td><td>211.2</td><td>-100.2</td><td>-10.9</td><td>145.9</td><td>-5.1</td><td>309.7</td><td>1905</td></tr>\n",
       "<tr><td>96</td><td>Jan</td><td>20</td><td>020:20:23:04</td><td>445</td><td>10.16</td><td>44</td><td>1.5</td><td>465</td><td>211.2</td><td>-100.2</td><td>-10.9</td><td>145.9</td><td>-5.1</td><td>309.6</td><td>1905</td></tr>\n",
       "<tr><td>96</td><td>Jan</td><td>20</td><td>020:20:28:04</td><td>448</td><td>10.06</td><td>44</td><td>1.5</td><td>468</td><td>211.2</td><td>-100.2</td><td>-10.9</td><td>145.9</td><td>-5.1</td><td>309.6</td><td>1905</td></tr>\n",
       "<tr><td>96</td><td>Jan</td><td>20</td><td>020:20:33:07</td><td>450</td><td>10.65</td><td>44</td><td>1.4</td><td>470</td><td>211.2</td><td>-100.3</td><td>-10.9</td><td>145.9</td><td>-5.1</td><td>309.5</td><td>1905</td></tr>\n",
       "<tr><td>96</td><td>Jan</td><td>20</td><td>020:20:38:08</td><td>449</td><td>10.56</td><td>43</td><td>1.6</td><td>468</td><td>211.2</td><td>-100.3</td><td>-10.9</td><td>145.9</td><td>-5.1</td><td>309.5</td><td>1905</td></tr>\n",
       "<tr><td>96</td><td>Jan</td><td>20</td><td>020:20:43:10</td><td>448</td><td>10.78</td><td>43</td><td>1.6</td><td>468</td><td>211.2</td><td>-100.3</td><td>-10.9</td><td>145.9</td><td>-5.1</td><td>309.4</td><td>1905</td></tr>\n",
       "<tr><td>96</td><td>Jan</td><td>20</td><td>020:20:48:13</td><td>446</td><td>10.53</td><td>42</td><td>1.5</td><td>465</td><td>211.2</td><td>-100.3</td><td>-10.9</td><td>145.9</td><td>-5.1</td><td>309.4</td><td>1905</td></tr>\n",
       "<tr><td>96</td><td>Jan</td><td>20</td><td>020:20:53:16</td><td>448</td><td>8.92</td><td>44</td><td>1.7</td><td>469</td><td>211.2</td><td>-100.3</td><td>-10.9</td><td>145.9</td><td>-5.1</td><td>309.4</td><td>1905</td></tr>\n",
       "<tr><td>96</td><td>Jan</td><td>20</td><td>020:20:58:16</td><td>446</td><td>7.87</td><td>43</td><td>2.1</td><td>466</td><td>211.2</td><td>-100.3</td><td>-10.9</td><td>145.9</td><td>-5.1</td><td>309.4</td><td>1905</td></tr>\n",
       "<tr><td>96</td><td>Jan</td><td>20</td><td>020:21:03:19</td><td>442</td><td>8.81</td><td>44</td><td>2.0</td><td>464</td><td>211.2</td><td>-100.3</td><td>-10.9</td><td>145.9</td><td>-5.1</td><td>309.3</td><td>1905</td></tr>\n",
       "<tr><td>96</td><td>Jan</td><td>20</td><td>020:21:08:21</td><td>443</td><td>8.88</td><td>44</td><td>2.1</td><td>464</td><td>211.2</td><td>-100.3</td><td>-10.9</td><td>145.9</td><td>-5.1</td><td>309.3</td><td>1905</td></tr>\n",
       "<tr><td>96</td><td>Jan</td><td>20</td><td>020:21:13:22</td><td>444</td><td>9.1</td><td>44</td><td>2.0</td><td>465</td><td>211.2</td><td>-100.3</td><td>-10.9</td><td>145.9</td><td>-5.1</td><td>309.2</td><td>1905</td></tr>\n",
       "<tr><td>96</td><td>Jan</td><td>20</td><td>020:21:18:23</td><td>443</td><td>8.42</td><td>44</td><td>1.9</td><td>464</td><td>211.2</td><td>-100.3</td><td>-10.9</td><td>145.9</td><td>-5.1</td><td>309.2</td><td>1905</td></tr>\n",
       "<tr><td>...</td><td>...</td><td>...</td><td>...</td><td>...</td><td>...</td><td>...</td><td>...</td><td>...</td><td>...</td><td>...</td><td>...</td><td>...</td><td>...</td><td>...</td><td>...</td></tr>\n",
       "<tr><td>24</td><td>Jan</td><td>23</td><td>023:22:58:19</td><td>452</td><td>5.59</td><td>19</td><td>-1.0</td><td>453</td><td>209.4</td><td>101.2</td><td>0.3</td><td>145.9</td><td>-5.3</td><td>284.9</td><td>2280</td></tr>\n",
       "<tr><td>24</td><td>Jan</td><td>23</td><td>023:23:03:21</td><td>452</td><td>5.94</td><td>19</td><td>-1.0</td><td>454</td><td>209.4</td><td>101.2</td><td>0.3</td><td>145.9</td><td>-5.3</td><td>284.8</td><td>2280</td></tr>\n",
       "<tr><td>24</td><td>Jan</td><td>23</td><td>023:23:08:25</td><td>449</td><td>5.37</td><td>22</td><td>-0.6</td><td>452</td><td>209.4</td><td>101.2</td><td>0.3</td><td>145.9</td><td>-5.3</td><td>284.8</td><td>2280</td></tr>\n",
       "<tr><td>24</td><td>Jan</td><td>23</td><td>023:23:13:25</td><td>449</td><td>5.45</td><td>24</td><td>-0.8</td><td>454</td><td>209.4</td><td>101.2</td><td>0.3</td><td>145.9</td><td>-5.3</td><td>284.6</td><td>2280</td></tr>\n",
       "<tr><td>24</td><td>Jan</td><td>23</td><td>023:23:18:28</td><td>452</td><td>7.13</td><td>22</td><td>-1.0</td><td>455</td><td>209.4</td><td>101.2</td><td>0.3</td><td>145.9</td><td>-5.3</td><td>284.6</td><td>2280</td></tr>\n",
       "<tr><td>24</td><td>Jan</td><td>23</td><td>023:23:23:29</td><td>454</td><td>7.93</td><td>19</td><td>-1.1</td><td>456</td><td>209.4</td><td>101.2</td><td>0.3</td><td>145.9</td><td>-5.3</td><td>284.6</td><td>2280</td></tr>\n",
       "<tr><td>24</td><td>Jan</td><td>23</td><td>023:23:28:33</td><td>459</td><td>9.55</td><td>15</td><td>-1.4</td><td>458</td><td>209.4</td><td>101.2</td><td>0.3</td><td>145.9</td><td>-5.3</td><td>284.6</td><td>2280</td></tr>\n",
       "<tr><td>24</td><td>Jan</td><td>23</td><td>023:23:33:35</td><td>458</td><td>9.04</td><td>15</td><td>-1.8</td><td>457</td><td>209.4</td><td>101.2</td><td>0.3</td><td>145.9</td><td>-5.3</td><td>284.5</td><td>2280</td></tr>\n",
       "<tr><td>24</td><td>Jan</td><td>23</td><td>023:23:38:38</td><td>458</td><td>9.09</td><td>16</td><td>-1.9</td><td>457</td><td>209.4</td><td>101.2</td><td>0.3</td><td>145.9</td><td>-5.3</td><td>284.5</td><td>2280</td></tr>\n",
       "<tr><td>24</td><td>Jan</td><td>23</td><td>023:23:43:38</td><td>456</td><td>8.55</td><td>16</td><td>-1.7</td><td>457</td><td>209.4</td><td>101.2</td><td>0.3</td><td>145.9</td><td>-5.3</td><td>284.4</td><td>2280</td></tr>\n",
       "<tr><td>24</td><td>Jan</td><td>23</td><td>023:23:48:41</td><td>456</td><td>8.31</td><td>17</td><td>-1.4</td><td>456</td><td>209.4</td><td>101.2</td><td>0.3</td><td>145.9</td><td>-5.3</td><td>284.4</td><td>2280</td></tr>\n",
       "<tr><td>24</td><td>Jan</td><td>23</td><td>023:23:53:43</td><td>457</td><td>9.25</td><td>17</td><td>-1.5</td><td>457</td><td>209.4</td><td>101.2</td><td>0.3</td><td>145.9</td><td>-5.3</td><td>284.3</td><td>2280</td></tr>\n",
       "<tr><td>24</td><td>Jan</td><td>23</td><td>023:23:58:45</td><td>456</td><td>8.79</td><td>17</td><td>-1.5</td><td>456</td><td>209.4</td><td>101.2</td><td>0.3</td><td>145.9</td><td>-5.3</td><td>284.3</td><td>2280</td></tr>\n",
       "</table></div>"
      ],
      "text/plain": [
       "<Table length=2704837>\n",
       "  YY  MON    DY  DOY:HH:MM:SS SPEED     Np    Vth     N/S    V_He   GSE_X   GSE_Y   GSE_Z   RANGE   HGLAT   HGLONG CRN(E)\n",
       "                              km / s 1 / cm3 km / s   deg   km / s    Re      Re      Re     Mkm     deg     deg     #   \n",
       "int64 str3 int64    str12     int64  float64 int64  float64 int64  float64 float64 float64 float64 float64 float64 int64 \n",
       "----- ---- ----- ------------ ------ ------- ------ ------- ------ ------- ------- ------- ------- ------- ------- ------\n",
       "   96  Jan    20 020:20:18:00    446   10.14     44     1.9    466   211.2  -100.2   -10.9   145.9    -5.1   309.7   1905\n",
       "   96  Jan    20 020:20:23:04    445   10.16     44     1.5    465   211.2  -100.2   -10.9   145.9    -5.1   309.6   1905\n",
       "   96  Jan    20 020:20:28:04    448   10.06     44     1.5    468   211.2  -100.2   -10.9   145.9    -5.1   309.6   1905\n",
       "   96  Jan    20 020:20:33:07    450   10.65     44     1.4    470   211.2  -100.3   -10.9   145.9    -5.1   309.5   1905\n",
       "   96  Jan    20 020:20:38:08    449   10.56     43     1.6    468   211.2  -100.3   -10.9   145.9    -5.1   309.5   1905\n",
       "   96  Jan    20 020:20:43:10    448   10.78     43     1.6    468   211.2  -100.3   -10.9   145.9    -5.1   309.4   1905\n",
       "   96  Jan    20 020:20:48:13    446   10.53     42     1.5    465   211.2  -100.3   -10.9   145.9    -5.1   309.4   1905\n",
       "   96  Jan    20 020:20:53:16    448    8.92     44     1.7    469   211.2  -100.3   -10.9   145.9    -5.1   309.4   1905\n",
       "   96  Jan    20 020:20:58:16    446    7.87     43     2.1    466   211.2  -100.3   -10.9   145.9    -5.1   309.4   1905\n",
       "   96  Jan    20 020:21:03:19    442    8.81     44     2.0    464   211.2  -100.3   -10.9   145.9    -5.1   309.3   1905\n",
       "   96  Jan    20 020:21:08:21    443    8.88     44     2.1    464   211.2  -100.3   -10.9   145.9    -5.1   309.3   1905\n",
       "   96  Jan    20 020:21:13:22    444     9.1     44     2.0    465   211.2  -100.3   -10.9   145.9    -5.1   309.2   1905\n",
       "   96  Jan    20 020:21:18:23    443    8.42     44     1.9    464   211.2  -100.3   -10.9   145.9    -5.1   309.2   1905\n",
       "  ...  ...   ...          ...    ...     ...    ...     ...    ...     ...     ...     ...     ...     ...     ...    ...\n",
       "   24  Jan    23 023:22:58:19    452    5.59     19    -1.0    453   209.4   101.2     0.3   145.9    -5.3   284.9   2280\n",
       "   24  Jan    23 023:23:03:21    452    5.94     19    -1.0    454   209.4   101.2     0.3   145.9    -5.3   284.8   2280\n",
       "   24  Jan    23 023:23:08:25    449    5.37     22    -0.6    452   209.4   101.2     0.3   145.9    -5.3   284.8   2280\n",
       "   24  Jan    23 023:23:13:25    449    5.45     24    -0.8    454   209.4   101.2     0.3   145.9    -5.3   284.6   2280\n",
       "   24  Jan    23 023:23:18:28    452    7.13     22    -1.0    455   209.4   101.2     0.3   145.9    -5.3   284.6   2280\n",
       "   24  Jan    23 023:23:23:29    454    7.93     19    -1.1    456   209.4   101.2     0.3   145.9    -5.3   284.6   2280\n",
       "   24  Jan    23 023:23:28:33    459    9.55     15    -1.4    458   209.4   101.2     0.3   145.9    -5.3   284.6   2280\n",
       "   24  Jan    23 023:23:33:35    458    9.04     15    -1.8    457   209.4   101.2     0.3   145.9    -5.3   284.5   2280\n",
       "   24  Jan    23 023:23:38:38    458    9.09     16    -1.9    457   209.4   101.2     0.3   145.9    -5.3   284.5   2280\n",
       "   24  Jan    23 023:23:43:38    456    8.55     16    -1.7    457   209.4   101.2     0.3   145.9    -5.3   284.4   2280\n",
       "   24  Jan    23 023:23:48:41    456    8.31     17    -1.4    456   209.4   101.2     0.3   145.9    -5.3   284.4   2280\n",
       "   24  Jan    23 023:23:53:43    457    9.25     17    -1.5    457   209.4   101.2     0.3   145.9    -5.3   284.3   2280\n",
       "   24  Jan    23 023:23:58:45    456    8.79     17    -1.5    456   209.4   101.2     0.3   145.9    -5.3   284.3   2280"
      ]
     },
     "execution_count": 18,
     "metadata": {},
     "output_type": "execute_result"
    }
   ],
   "source": [
    "CELIAS_TABLE"
   ]
  },
  {
   "cell_type": "code",
   "execution_count": 21,
   "id": "1f6b6a71",
   "metadata": {},
   "outputs": [],
   "source": [
    "#\n",
    "#--- Function to combined date and time columns into a single datetime column\n",
    "#\n",
    "selection = CELIAS_TABLE[CELIAS_COLNAMES[:4]]"
   ]
  },
  {
   "cell_type": "code",
   "execution_count": 22,
   "id": "59792786",
   "metadata": {},
   "outputs": [
    {
     "data": {
      "text/html": [
       "<div><i>Table length=2704837</i>\n",
       "<table id=\"table140632203773264\" class=\"table-striped table-bordered table-condensed\">\n",
       "<thead><tr><th>YY</th><th>MON</th><th>DY</th><th>DOY:HH:MM:SS</th></tr></thead>\n",
       "<thead><tr><th>int64</th><th>str3</th><th>int64</th><th>str12</th></tr></thead>\n",
       "<tr><td>96</td><td>Jan</td><td>20</td><td>020:20:18:00</td></tr>\n",
       "<tr><td>96</td><td>Jan</td><td>20</td><td>020:20:23:04</td></tr>\n",
       "<tr><td>96</td><td>Jan</td><td>20</td><td>020:20:28:04</td></tr>\n",
       "<tr><td>96</td><td>Jan</td><td>20</td><td>020:20:33:07</td></tr>\n",
       "<tr><td>96</td><td>Jan</td><td>20</td><td>020:20:38:08</td></tr>\n",
       "<tr><td>96</td><td>Jan</td><td>20</td><td>020:20:43:10</td></tr>\n",
       "<tr><td>96</td><td>Jan</td><td>20</td><td>020:20:48:13</td></tr>\n",
       "<tr><td>96</td><td>Jan</td><td>20</td><td>020:20:53:16</td></tr>\n",
       "<tr><td>96</td><td>Jan</td><td>20</td><td>020:20:58:16</td></tr>\n",
       "<tr><td>96</td><td>Jan</td><td>20</td><td>020:21:03:19</td></tr>\n",
       "<tr><td>96</td><td>Jan</td><td>20</td><td>020:21:08:21</td></tr>\n",
       "<tr><td>96</td><td>Jan</td><td>20</td><td>020:21:13:22</td></tr>\n",
       "<tr><td>96</td><td>Jan</td><td>20</td><td>020:21:18:23</td></tr>\n",
       "<tr><td>...</td><td>...</td><td>...</td><td>...</td></tr>\n",
       "<tr><td>24</td><td>Jan</td><td>23</td><td>023:22:53:16</td></tr>\n",
       "<tr><td>24</td><td>Jan</td><td>23</td><td>023:22:58:19</td></tr>\n",
       "<tr><td>24</td><td>Jan</td><td>23</td><td>023:23:03:21</td></tr>\n",
       "<tr><td>24</td><td>Jan</td><td>23</td><td>023:23:08:25</td></tr>\n",
       "<tr><td>24</td><td>Jan</td><td>23</td><td>023:23:13:25</td></tr>\n",
       "<tr><td>24</td><td>Jan</td><td>23</td><td>023:23:18:28</td></tr>\n",
       "<tr><td>24</td><td>Jan</td><td>23</td><td>023:23:23:29</td></tr>\n",
       "<tr><td>24</td><td>Jan</td><td>23</td><td>023:23:28:33</td></tr>\n",
       "<tr><td>24</td><td>Jan</td><td>23</td><td>023:23:33:35</td></tr>\n",
       "<tr><td>24</td><td>Jan</td><td>23</td><td>023:23:38:38</td></tr>\n",
       "<tr><td>24</td><td>Jan</td><td>23</td><td>023:23:43:38</td></tr>\n",
       "<tr><td>24</td><td>Jan</td><td>23</td><td>023:23:48:41</td></tr>\n",
       "<tr><td>24</td><td>Jan</td><td>23</td><td>023:23:53:43</td></tr>\n",
       "<tr><td>24</td><td>Jan</td><td>23</td><td>023:23:58:45</td></tr>\n",
       "</table></div>"
      ],
      "text/plain": [
       "<Table length=2704837>\n",
       "  YY  MON    DY  DOY:HH:MM:SS\n",
       "int64 str3 int64    str12    \n",
       "----- ---- ----- ------------\n",
       "   96  Jan    20 020:20:18:00\n",
       "   96  Jan    20 020:20:23:04\n",
       "   96  Jan    20 020:20:28:04\n",
       "   96  Jan    20 020:20:33:07\n",
       "   96  Jan    20 020:20:38:08\n",
       "   96  Jan    20 020:20:43:10\n",
       "   96  Jan    20 020:20:48:13\n",
       "   96  Jan    20 020:20:53:16\n",
       "   96  Jan    20 020:20:58:16\n",
       "   96  Jan    20 020:21:03:19\n",
       "   96  Jan    20 020:21:08:21\n",
       "   96  Jan    20 020:21:13:22\n",
       "   96  Jan    20 020:21:18:23\n",
       "  ...  ...   ...          ...\n",
       "   24  Jan    23 023:22:53:16\n",
       "   24  Jan    23 023:22:58:19\n",
       "   24  Jan    23 023:23:03:21\n",
       "   24  Jan    23 023:23:08:25\n",
       "   24  Jan    23 023:23:13:25\n",
       "   24  Jan    23 023:23:18:28\n",
       "   24  Jan    23 023:23:23:29\n",
       "   24  Jan    23 023:23:28:33\n",
       "   24  Jan    23 023:23:33:35\n",
       "   24  Jan    23 023:23:38:38\n",
       "   24  Jan    23 023:23:43:38\n",
       "   24  Jan    23 023:23:48:41\n",
       "   24  Jan    23 023:23:53:43\n",
       "   24  Jan    23 023:23:58:45"
      ]
     },
     "execution_count": 22,
     "metadata": {},
     "output_type": "execute_result"
    }
   ],
   "source": [
    "selection"
   ]
  },
  {
   "cell_type": "markdown",
   "id": "5d863ce2",
   "metadata": {},
   "source": [
    "Saving astropy table to a .h5 file for better storage methods."
   ]
  },
  {
   "cell_type": "code",
   "execution_count": 23,
   "id": "8243416b",
   "metadata": {},
   "outputs": [
    {
     "name": "stderr",
     "output_type": "stream",
     "text": [
      "/proj/sot/ska3/flight/lib/python3.10/site-packages/astropy/io/misc/hdf5.py:281: UserWarning: table path was not set via the path= argument; using default path __astropy_table__\n",
      "  warnings.warn(\n"
     ]
    }
   ],
   "source": [
    "#misc.hdf5.write_table_hdf5(CELIAS_TABLE, str(CELIAS_PATH), \n",
    "#                           serialize_meta=True, overwrite=True)"
   ]
  },
  {
   "cell_type": "markdown",
   "id": "2cc39892",
   "metadata": {},
   "source": [
    "Pulling from the CELIUS_TABLE from the saved h5 file"
   ]
  },
  {
   "cell_type": "code",
   "execution_count": 59,
   "id": "5f567a0e",
   "metadata": {},
   "outputs": [],
   "source": [
    "CELIAS_TABLE = misc.hdf5.read_table_hdf5(str(CELIAS_PATH))"
   ]
  },
  {
   "cell_type": "markdown",
   "id": "b0e98678",
   "metadata": {},
   "source": [
    "Table generation for complete list of CME events"
   ]
  },
  {
   "cell_type": "code",
   "execution_count": 3,
   "id": "9f2b404a",
   "metadata": {},
   "outputs": [],
   "source": [
    "CME_LINK = \"https://cdaw.gsfc.nasa.gov/CME_list/UNIVERSAL_ver1/text_ver/univ_all.txt\""
   ]
  },
  {
   "cell_type": "code",
   "execution_count": 9,
   "id": "f368df97",
   "metadata": {},
   "outputs": [
    {
     "name": "stdout",
     "output_type": "stream",
     "text": [
      "--2024-01-24 15:58:07--  https://cdaw.gsfc.nasa.gov/CME_list/UNIVERSAL_ver1/text_ver/univ_all.txt\n",
      "Resolving cdaw.gsfc.nasa.gov (cdaw.gsfc.nasa.gov)... 129.164.179.220, 2001:4d0:2310:150::220\n",
      "Connecting to cdaw.gsfc.nasa.gov (cdaw.gsfc.nasa.gov)|129.164.179.220|:443... connected.\n",
      "HTTP request sent, awaiting response... 200 OK\n",
      "Length: 4066209 (3.9M) [text/plain]\n",
      "Saving to: ‘univ_all.txt’\n",
      "\n",
      "univ_all.txt        100%[===================>]   3.88M  9.22MB/s    in 0.4s    \n",
      "\n",
      "2024-01-24 15:58:08 (9.22 MB/s) - ‘univ_all.txt’ saved [4066209/4066209]\n",
      "\n"
     ]
    }
   ],
   "source": [
    "#! cd /data/mta4/ACE_RNN/Data/CME_txt ; wget https://cdaw.gsfc.nasa.gov/CME_list/UNIVERSAL_ver1/text_ver/univ_all.txt"
   ]
  },
  {
   "cell_type": "code",
   "execution_count": 5,
   "id": "cb19e7af",
   "metadata": {},
   "outputs": [],
   "source": [
    "CME_TEXT_FILE = DATA_DIR.joinpath('CME_txt', 'univ_all.txt')"
   ]
  },
  {
   "cell_type": "markdown",
   "id": "9ed21ce8",
   "metadata": {},
   "source": [
    "Because the text file is formatted too heavily for human readability rather than astropy function readability, will self parse the text file input to generate the data table"
   ]
  },
  {
   "cell_type": "code",
   "execution_count": 6,
   "id": "f11321e8",
   "metadata": {},
   "outputs": [],
   "source": [
    "#\n",
    "#--- Text file parsing for CME_TEXT_FILE\n",
    "#\n",
    "with open(CME_TEXT_FILE,'r') as f:\n",
    "    f.readline()\n",
    "    first_col_info = f.readline()\n",
    "    second_col_info = f.readline()\n",
    "    f.readline()\n",
    "    data = [line.strip().split() for line in f.readlines()]"
   ]
  },
  {
   "cell_type": "code",
   "execution_count": 7,
   "id": "c6dcf250",
   "metadata": {},
   "outputs": [
    {
     "name": "stdout",
     "output_type": "stream",
     "text": [
      " Date       Time     Central  Width  Linear   2nd order speed      Accel     Mass      Kinetic    MPA   Remarks\n",
      "\n",
      "                        PA           Speed  initial final   20R                        Energy                 \n",
      "\n"
     ]
    }
   ],
   "source": [
    "print(first_col_info)\n",
    "print(second_col_info)"
   ]
  },
  {
   "cell_type": "code",
   "execution_count": 8,
   "id": "d01fbb90",
   "metadata": {},
   "outputs": [
    {
     "data": {
      "text/plain": [
       "['Date',\n",
       " 'Time',\n",
       " 'Central',\n",
       " 'Width',\n",
       " 'Linear',\n",
       " '2nd',\n",
       " 'order',\n",
       " 'speed',\n",
       " 'Accel',\n",
       " 'Mass',\n",
       " 'Kinetic',\n",
       " 'MPA',\n",
       " 'Remarks']"
      ]
     },
     "execution_count": 8,
     "metadata": {},
     "output_type": "execute_result"
    }
   ],
   "source": [
    "first_col_info.split()"
   ]
  },
  {
   "cell_type": "code",
   "execution_count": 9,
   "id": "f8a3d1a6",
   "metadata": {},
   "outputs": [],
   "source": [
    "CME_COLNAMES = ['Date',\n",
    " 'Time',\n",
    " 'Central_PA',\n",
    " 'Width',\n",
    " 'Lin_Speed',\n",
    " 'ord2_Speed_Init',\n",
    " 'ord2_Final',\n",
    " 'ord2_Speed_20R',\n",
    " 'Accel',\n",
    " 'Mass',\n",
    " 'KE',\n",
    " 'MPA',\n",
    " 'Remarks']"
   ]
  },
  {
   "cell_type": "code",
   "execution_count": 52,
   "id": "35840b02",
   "metadata": {},
   "outputs": [],
   "source": [
    "#\n",
    "#-- Manual correction to ill-delimited remarks\n",
    "#\n",
    "corrected_data = []\n",
    "for i,ent in enumerate(data):\n",
    "    remark = \" \".join(ent[12:])\n",
    "    if remark == \"\":\n",
    "        remark = \"---\"\n",
    "    values = ent[:12]\n",
    "#\n",
    "#--- TODO: Manual correction to the uncertainty markers listed for \n",
    "#--- acceleration, mass, and kinetic, energy\n",
    "#\n",
    "    values.append(remark)\n",
    "    corrected_data.append(values)"
   ]
  },
  {
   "cell_type": "code",
   "execution_count": 57,
   "id": "c9f9db78",
   "metadata": {},
   "outputs": [
    {
     "ename": "ValueError",
     "evalue": "setting an array element with a sequence. The requested array has an inhomogeneous shape after 1 dimensions. The detected shape was (34557,) + inhomogeneous part.",
     "output_type": "error",
     "traceback": [
      "\u001b[0;31m---------------------------------------------------------------------------\u001b[0m",
      "\u001b[0;31mValueError\u001b[0m                                Traceback (most recent call last)",
      "Cell \u001b[0;32mIn[57], line 1\u001b[0m\n\u001b[0;32m----> 1\u001b[0m np_data \u001b[38;5;241m=\u001b[39m \u001b[43mnp\u001b[49m\u001b[38;5;241;43m.\u001b[39;49m\u001b[43marray\u001b[49m\u001b[43m(\u001b[49m\u001b[43mcorrected_data\u001b[49m\u001b[43m,\u001b[49m\u001b[43mdtype\u001b[49m\u001b[38;5;241;43m=\u001b[39;49m\u001b[38;5;28;43mstr\u001b[39;49m\u001b[43m)\u001b[49m\n",
      "\u001b[0;31mValueError\u001b[0m: setting an array element with a sequence. The requested array has an inhomogeneous shape after 1 dimensions. The detected shape was (34557,) + inhomogeneous part."
     ]
    }
   ],
   "source": [
    "np_data = np.array(corrected_data,dtype=str)"
   ]
  },
  {
   "cell_type": "code",
   "execution_count": 58,
   "id": "62defa7b",
   "metadata": {},
   "outputs": [
    {
     "data": {
      "text/plain": [
       "array([list(['1996/01/11', '00:14:36', '267', '18', '499', '571', '426', '0', '-64.3*', '-------', '-------', '272', 'Only C3']),\n",
       "       list(['1996/01/13', '22:08:30', '265', '16', '290', '278', '303', '372', '2.8*', '-------', '-------', '266', 'Only C3']),\n",
       "       list(['1996/01/15', '07:01:10', '262', '43', '525', '600', '454', '0', '-31.1', '-------', '-------', '272', 'Only C3']),\n",
       "       ...,\n",
       "       list(['2023/08/30', '22:00:05', '143', '263', '634', '596', '671', '664', '3.6*', '-------', '-------', '79', 'Partial Halo']),\n",
       "       list(['2023/08/31', '02:48:05', '292', '34', '492', '502', '483', '479', '-1.0', '-------', '-------', '288', '---']),\n",
       "       list(['2023/08/31', '04:12:05', '296', '112', '750', '538', '945', '846', '17.7', '-------', '-------', '303', '---'])],\n",
       "      dtype=object)"
      ]
     },
     "execution_count": 58,
     "metadata": {},
     "output_type": "execute_result"
    }
   ],
   "source": [
    "np_data"
   ]
  },
  {
   "cell_type": "code",
   "execution_count": 60,
   "id": "583efd99",
   "metadata": {},
   "outputs": [
    {
     "data": {
      "text/html": [
       "<div><i>Table length=1053766</i>\n",
       "<table id=\"table140430154213904\" class=\"table-striped table-bordered table-condensed\">\n",
       "<thead><tr><th>YY</th><th>MON</th><th>DY</th><th>DOY:HH:MM:SS</th><th>SPEED</th><th>Np</th><th>Vth</th><th>N/S</th><th>V_He</th><th>GSE_X</th><th>GSE_Y</th><th>GSE_Z</th><th>RANGE</th><th>HGLAT</th><th>HGLONG</th><th>CRN(E)</th></tr></thead>\n",
       "<thead><tr><th></th><th></th><th></th><th></th><th>km / s</th><th>1 / cm3</th><th>km / s</th><th>deg</th><th>km / s</th><th>Re</th><th>Re</th><th>Re</th><th>Mkm</th><th>deg</th><th>deg</th><th>#</th></tr></thead>\n",
       "<thead><tr><th>int64</th><th>bytes3</th><th>int64</th><th>bytes12</th><th>int64</th><th>float64</th><th>int64</th><th>float64</th><th>int64</th><th>float64</th><th>float64</th><th>float64</th><th>float64</th><th>float64</th><th>float64</th><th>int64</th></tr></thead>\n",
       "<tr><td>13</td><td>Jan</td><td>1</td><td>001:00:00:09</td><td>352</td><td>4.23</td><td>18</td><td>-1.6</td><td>354</td><td>257.2</td><td>2.9</td><td>-19.3</td><td>145.5</td><td>-3.1</td><td>327.0</td><td>2132</td></tr>\n",
       "<tr><td>13</td><td>Jan</td><td>1</td><td>001:00:04:57</td><td>353</td><td>4.0</td><td>18</td><td>-1.2</td><td>354</td><td>257.2</td><td>2.9</td><td>-19.3</td><td>145.5</td><td>-3.1</td><td>327.0</td><td>2132</td></tr>\n",
       "<tr><td>13</td><td>Jan</td><td>1</td><td>001:00:09:57</td><td>354</td><td>3.86</td><td>20</td><td>-1.6</td><td>357</td><td>257.2</td><td>2.9</td><td>-19.3</td><td>145.5</td><td>-3.1</td><td>327.0</td><td>2132</td></tr>\n",
       "<tr><td>13</td><td>Jan</td><td>1</td><td>001:00:15:00</td><td>355</td><td>3.78</td><td>20</td><td>-1.5</td><td>358</td><td>257.2</td><td>2.9</td><td>-19.3</td><td>145.5</td><td>-3.1</td><td>326.9</td><td>2132</td></tr>\n",
       "<tr><td>13</td><td>Jan</td><td>1</td><td>001:00:20:02</td><td>355</td><td>3.74</td><td>20</td><td>-1.5</td><td>358</td><td>257.2</td><td>2.8</td><td>-19.3</td><td>145.5</td><td>-3.1</td><td>326.8</td><td>2132</td></tr>\n",
       "<tr><td>13</td><td>Jan</td><td>1</td><td>001:00:25:04</td><td>356</td><td>3.68</td><td>20</td><td>-1.2</td><td>358</td><td>257.2</td><td>2.8</td><td>-19.3</td><td>145.5</td><td>-3.1</td><td>326.8</td><td>2132</td></tr>\n",
       "<tr><td>13</td><td>Jan</td><td>1</td><td>001:00:30:05</td><td>355</td><td>3.69</td><td>20</td><td>-1.2</td><td>358</td><td>257.2</td><td>2.8</td><td>-19.3</td><td>145.5</td><td>-3.1</td><td>326.7</td><td>2132</td></tr>\n",
       "<tr><td>13</td><td>Jan</td><td>1</td><td>001:00:35:11</td><td>355</td><td>3.84</td><td>20</td><td>-1.3</td><td>357</td><td>257.2</td><td>2.8</td><td>-19.3</td><td>145.5</td><td>-3.1</td><td>326.7</td><td>2132</td></tr>\n",
       "<tr><td>13</td><td>Jan</td><td>1</td><td>001:00:40:11</td><td>360</td><td>3.66</td><td>20</td><td>-1.3</td><td>363</td><td>257.2</td><td>2.8</td><td>-19.3</td><td>145.5</td><td>-3.1</td><td>326.6</td><td>2132</td></tr>\n",
       "<tr><td>13</td><td>Jan</td><td>1</td><td>001:00:45:12</td><td>356</td><td>3.75</td><td>20</td><td>-0.9</td><td>358</td><td>257.2</td><td>2.8</td><td>-19.3</td><td>145.5</td><td>-3.1</td><td>326.6</td><td>2132</td></tr>\n",
       "<tr><td>13</td><td>Jan</td><td>1</td><td>001:00:50:16</td><td>353</td><td>4.22</td><td>17</td><td>-1.5</td><td>354</td><td>257.2</td><td>2.8</td><td>-19.3</td><td>145.5</td><td>-3.1</td><td>326.5</td><td>2132</td></tr>\n",
       "<tr><td>13</td><td>Jan</td><td>1</td><td>001:00:55:17</td><td>351</td><td>3.91</td><td>17</td><td>-0.7</td><td>353</td><td>257.2</td><td>2.8</td><td>-19.3</td><td>145.5</td><td>-3.1</td><td>326.5</td><td>2132</td></tr>\n",
       "<tr><td>13</td><td>Jan</td><td>1</td><td>001:01:00:19</td><td>353</td><td>3.74</td><td>17</td><td>-0.7</td><td>355</td><td>257.2</td><td>2.7</td><td>-19.3</td><td>145.5</td><td>-3.1</td><td>326.4</td><td>2132</td></tr>\n",
       "<tr><td>13</td><td>Jan</td><td>1</td><td>001:01:05:25</td><td>354</td><td>3.66</td><td>19</td><td>-0.7</td><td>356</td><td>257.2</td><td>2.7</td><td>-19.3</td><td>145.5</td><td>-3.1</td><td>326.4</td><td>2132</td></tr>\n",
       "<tr><td>13</td><td>Jan</td><td>1</td><td>001:01:10:24</td><td>354</td><td>3.63</td><td>19</td><td>-0.7</td><td>356</td><td>257.2</td><td>2.7</td><td>-19.3</td><td>145.5</td><td>-3.1</td><td>326.3</td><td>2132</td></tr>\n",
       "<tr><td>13</td><td>Jan</td><td>1</td><td>001:01:15:26</td><td>354</td><td>3.67</td><td>18</td><td>-0.7</td><td>356</td><td>257.2</td><td>2.7</td><td>-19.3</td><td>145.5</td><td>-3.1</td><td>326.3</td><td>2132</td></tr>\n",
       "<tr><td>13</td><td>Jan</td><td>1</td><td>001:01:20:27</td><td>353</td><td>3.81</td><td>16</td><td>-0.7</td><td>354</td><td>257.2</td><td>2.7</td><td>-19.3</td><td>145.5</td><td>-3.1</td><td>326.2</td><td>2132</td></tr>\n",
       "<tr><td>13</td><td>Jan</td><td>1</td><td>001:01:25:31</td><td>354</td><td>3.69</td><td>18</td><td>-0.7</td><td>355</td><td>257.2</td><td>2.7</td><td>-19.3</td><td>145.5</td><td>-3.1</td><td>326.2</td><td>2132</td></tr>\n",
       "<tr><td>...</td><td>...</td><td>...</td><td>...</td><td>...</td><td>...</td><td>...</td><td>...</td><td>...</td><td>...</td><td>...</td><td>...</td><td>...</td><td>...</td><td>...</td><td>...</td></tr>\n",
       "<tr><td>24</td><td>Jan</td><td>22</td><td>022:22:29:38</td><td>405</td><td>12.99</td><td>42</td><td>-1.0</td><td>423</td><td>208.3</td><td>100.5</td><td>0.9</td><td>145.9</td><td>-5.2</td><td>298.3</td><td>2280</td></tr>\n",
       "<tr><td>24</td><td>Jan</td><td>22</td><td>022:22:34:39</td><td>398</td><td>13.45</td><td>42</td><td>1.2</td><td>416</td><td>208.3</td><td>100.5</td><td>0.9</td><td>145.9</td><td>-5.2</td><td>298.2</td><td>2280</td></tr>\n",
       "<tr><td>24</td><td>Jan</td><td>22</td><td>022:22:39:43</td><td>400</td><td>12.15</td><td>46</td><td>0.4</td><td>422</td><td>208.3</td><td>100.5</td><td>0.9</td><td>145.9</td><td>-5.2</td><td>298.2</td><td>2280</td></tr>\n",
       "<tr><td>24</td><td>Jan</td><td>22</td><td>022:22:44:44</td><td>406</td><td>12.84</td><td>45</td><td>-0.2</td><td>427</td><td>208.3</td><td>100.5</td><td>0.9</td><td>145.9</td><td>-5.2</td><td>298.1</td><td>2280</td></tr>\n",
       "<tr><td>24</td><td>Jan</td><td>22</td><td>022:22:49:48</td><td>409</td><td>13.01</td><td>41</td><td>0.6</td><td>427</td><td>208.3</td><td>100.5</td><td>0.9</td><td>145.9</td><td>-5.2</td><td>298.1</td><td>2280</td></tr>\n",
       "<tr><td>24</td><td>Jan</td><td>22</td><td>022:22:54:50</td><td>407</td><td>11.81</td><td>42</td><td>-0.1</td><td>426</td><td>208.3</td><td>100.5</td><td>0.9</td><td>145.9</td><td>-5.2</td><td>298.0</td><td>2280</td></tr>\n",
       "<tr><td>24</td><td>Jan</td><td>22</td><td>022:22:59:51</td><td>405</td><td>12.33</td><td>44</td><td>0.1</td><td>425</td><td>208.3</td><td>100.5</td><td>0.9</td><td>145.9</td><td>-5.2</td><td>298.0</td><td>2280</td></tr>\n",
       "<tr><td>24</td><td>Jan</td><td>22</td><td>022:23:04:53</td><td>415</td><td>13.06</td><td>39</td><td>-1.9</td><td>430</td><td>208.4</td><td>100.5</td><td>0.9</td><td>145.9</td><td>-5.2</td><td>297.9</td><td>2280</td></tr>\n",
       "<tr><td>24</td><td>Jan</td><td>22</td><td>022:23:09:56</td><td>418</td><td>13.14</td><td>37</td><td>-2.1</td><td>431</td><td>208.4</td><td>100.5</td><td>0.9</td><td>145.9</td><td>-5.2</td><td>297.9</td><td>2280</td></tr>\n",
       "<tr><td>24</td><td>Jan</td><td>22</td><td>022:23:14:58</td><td>410</td><td>12.53</td><td>39</td><td>-0.8</td><td>425</td><td>208.4</td><td>100.5</td><td>0.9</td><td>145.9</td><td>-5.2</td><td>297.8</td><td>2280</td></tr>\n",
       "<tr><td>24</td><td>Jan</td><td>22</td><td>022:23:20:02</td><td>402</td><td>12.15</td><td>41</td><td>0.3</td><td>419</td><td>208.4</td><td>100.5</td><td>0.9</td><td>145.9</td><td>-5.2</td><td>297.8</td><td>2280</td></tr>\n",
       "<tr><td>24</td><td>Jan</td><td>22</td><td>022:23:25:02</td><td>399</td><td>13.47</td><td>40</td><td>1.5</td><td>415</td><td>208.4</td><td>100.5</td><td>0.9</td><td>145.9</td><td>-5.2</td><td>297.8</td><td>2280</td></tr>\n",
       "<tr><td>24</td><td>Jan</td><td>22</td><td>022:23:30:05</td><td>401</td><td>14.25</td><td>39</td><td>1.9</td><td>416</td><td>208.4</td><td>100.5</td><td>0.9</td><td>145.9</td><td>-5.2</td><td>297.7</td><td>2280</td></tr>\n",
       "<tr><td>24</td><td>Jan</td><td>22</td><td>022:23:35:06</td><td>406</td><td>12.97</td><td>39</td><td>0.6</td><td>421</td><td>208.4</td><td>100.5</td><td>0.9</td><td>145.9</td><td>-5.2</td><td>297.7</td><td>2280</td></tr>\n",
       "<tr><td>24</td><td>Jan</td><td>22</td><td>022:23:40:08</td><td>402</td><td>11.62</td><td>40</td><td>0.3</td><td>419</td><td>208.4</td><td>100.6</td><td>0.9</td><td>145.9</td><td>-5.2</td><td>297.5</td><td>2280</td></tr>\n",
       "<tr><td>24</td><td>Jan</td><td>22</td><td>022:23:45:12</td><td>399</td><td>11.31</td><td>40</td><td>0.3</td><td>415</td><td>208.4</td><td>100.6</td><td>0.9</td><td>145.9</td><td>-5.2</td><td>297.5</td><td>2280</td></tr>\n",
       "<tr><td>24</td><td>Jan</td><td>22</td><td>022:23:50:15</td><td>400</td><td>11.87</td><td>38</td><td>0.9</td><td>414</td><td>208.4</td><td>100.6</td><td>0.9</td><td>145.9</td><td>-5.2</td><td>297.5</td><td>2280</td></tr>\n",
       "<tr><td>24</td><td>Jan</td><td>22</td><td>022:23:55:15</td><td>400</td><td>12.24</td><td>37</td><td>1.1</td><td>414</td><td>208.4</td><td>100.6</td><td>0.9</td><td>145.9</td><td>-5.2</td><td>297.5</td><td>2280</td></tr>\n",
       "</table></div>"
      ],
      "text/plain": [
       "<Table length=1053766>\n",
       "  YY   MON     DY  DOY:HH:MM:SS SPEED     Np    Vth     N/S    V_He   GSE_X   GSE_Y   GSE_Z   RANGE   HGLAT   HGLONG CRN(E)\n",
       "                                km / s 1 / cm3 km / s   deg   km / s    Re      Re      Re     Mkm     deg     deg     #   \n",
       "int64 bytes3 int64   bytes12    int64  float64 int64  float64 int64  float64 float64 float64 float64 float64 float64 int64 \n",
       "----- ------ ----- ------------ ------ ------- ------ ------- ------ ------- ------- ------- ------- ------- ------- ------\n",
       "   13    Jan     1 001:00:00:09    352    4.23     18    -1.6    354   257.2     2.9   -19.3   145.5    -3.1   327.0   2132\n",
       "   13    Jan     1 001:00:04:57    353     4.0     18    -1.2    354   257.2     2.9   -19.3   145.5    -3.1   327.0   2132\n",
       "   13    Jan     1 001:00:09:57    354    3.86     20    -1.6    357   257.2     2.9   -19.3   145.5    -3.1   327.0   2132\n",
       "   13    Jan     1 001:00:15:00    355    3.78     20    -1.5    358   257.2     2.9   -19.3   145.5    -3.1   326.9   2132\n",
       "   13    Jan     1 001:00:20:02    355    3.74     20    -1.5    358   257.2     2.8   -19.3   145.5    -3.1   326.8   2132\n",
       "   13    Jan     1 001:00:25:04    356    3.68     20    -1.2    358   257.2     2.8   -19.3   145.5    -3.1   326.8   2132\n",
       "   13    Jan     1 001:00:30:05    355    3.69     20    -1.2    358   257.2     2.8   -19.3   145.5    -3.1   326.7   2132\n",
       "   13    Jan     1 001:00:35:11    355    3.84     20    -1.3    357   257.2     2.8   -19.3   145.5    -3.1   326.7   2132\n",
       "   13    Jan     1 001:00:40:11    360    3.66     20    -1.3    363   257.2     2.8   -19.3   145.5    -3.1   326.6   2132\n",
       "   13    Jan     1 001:00:45:12    356    3.75     20    -0.9    358   257.2     2.8   -19.3   145.5    -3.1   326.6   2132\n",
       "   13    Jan     1 001:00:50:16    353    4.22     17    -1.5    354   257.2     2.8   -19.3   145.5    -3.1   326.5   2132\n",
       "   13    Jan     1 001:00:55:17    351    3.91     17    -0.7    353   257.2     2.8   -19.3   145.5    -3.1   326.5   2132\n",
       "   13    Jan     1 001:01:00:19    353    3.74     17    -0.7    355   257.2     2.7   -19.3   145.5    -3.1   326.4   2132\n",
       "   13    Jan     1 001:01:05:25    354    3.66     19    -0.7    356   257.2     2.7   -19.3   145.5    -3.1   326.4   2132\n",
       "   13    Jan     1 001:01:10:24    354    3.63     19    -0.7    356   257.2     2.7   -19.3   145.5    -3.1   326.3   2132\n",
       "   13    Jan     1 001:01:15:26    354    3.67     18    -0.7    356   257.2     2.7   -19.3   145.5    -3.1   326.3   2132\n",
       "   13    Jan     1 001:01:20:27    353    3.81     16    -0.7    354   257.2     2.7   -19.3   145.5    -3.1   326.2   2132\n",
       "   13    Jan     1 001:01:25:31    354    3.69     18    -0.7    355   257.2     2.7   -19.3   145.5    -3.1   326.2   2132\n",
       "  ...    ...   ...          ...    ...     ...    ...     ...    ...     ...     ...     ...     ...     ...     ...    ...\n",
       "   24    Jan    22 022:22:29:38    405   12.99     42    -1.0    423   208.3   100.5     0.9   145.9    -5.2   298.3   2280\n",
       "   24    Jan    22 022:22:34:39    398   13.45     42     1.2    416   208.3   100.5     0.9   145.9    -5.2   298.2   2280\n",
       "   24    Jan    22 022:22:39:43    400   12.15     46     0.4    422   208.3   100.5     0.9   145.9    -5.2   298.2   2280\n",
       "   24    Jan    22 022:22:44:44    406   12.84     45    -0.2    427   208.3   100.5     0.9   145.9    -5.2   298.1   2280\n",
       "   24    Jan    22 022:22:49:48    409   13.01     41     0.6    427   208.3   100.5     0.9   145.9    -5.2   298.1   2280\n",
       "   24    Jan    22 022:22:54:50    407   11.81     42    -0.1    426   208.3   100.5     0.9   145.9    -5.2   298.0   2280\n",
       "   24    Jan    22 022:22:59:51    405   12.33     44     0.1    425   208.3   100.5     0.9   145.9    -5.2   298.0   2280\n",
       "   24    Jan    22 022:23:04:53    415   13.06     39    -1.9    430   208.4   100.5     0.9   145.9    -5.2   297.9   2280\n",
       "   24    Jan    22 022:23:09:56    418   13.14     37    -2.1    431   208.4   100.5     0.9   145.9    -5.2   297.9   2280\n",
       "   24    Jan    22 022:23:14:58    410   12.53     39    -0.8    425   208.4   100.5     0.9   145.9    -5.2   297.8   2280\n",
       "   24    Jan    22 022:23:20:02    402   12.15     41     0.3    419   208.4   100.5     0.9   145.9    -5.2   297.8   2280\n",
       "   24    Jan    22 022:23:25:02    399   13.47     40     1.5    415   208.4   100.5     0.9   145.9    -5.2   297.8   2280\n",
       "   24    Jan    22 022:23:30:05    401   14.25     39     1.9    416   208.4   100.5     0.9   145.9    -5.2   297.7   2280\n",
       "   24    Jan    22 022:23:35:06    406   12.97     39     0.6    421   208.4   100.5     0.9   145.9    -5.2   297.7   2280\n",
       "   24    Jan    22 022:23:40:08    402   11.62     40     0.3    419   208.4   100.6     0.9   145.9    -5.2   297.5   2280\n",
       "   24    Jan    22 022:23:45:12    399   11.31     40     0.3    415   208.4   100.6     0.9   145.9    -5.2   297.5   2280\n",
       "   24    Jan    22 022:23:50:15    400   11.87     38     0.9    414   208.4   100.6     0.9   145.9    -5.2   297.5   2280\n",
       "   24    Jan    22 022:23:55:15    400   12.24     37     1.1    414   208.4   100.6     0.9   145.9    -5.2   297.5   2280"
      ]
     },
     "execution_count": 60,
     "metadata": {},
     "output_type": "execute_result"
    }
   ],
   "source": [
    "CELIAS_TABLE"
   ]
  },
  {
   "cell_type": "code",
   "execution_count": null,
   "id": "79ad4f28",
   "metadata": {},
   "outputs": [],
   "source": []
  }
 ],
 "metadata": {
  "kernelspec": {
   "display_name": "Python [conda env:root] *",
   "language": "python",
   "name": "conda-root-py"
  },
  "language_info": {
   "codemirror_mode": {
    "name": "ipython",
    "version": 3
   },
   "file_extension": ".py",
   "mimetype": "text/x-python",
   "name": "python",
   "nbconvert_exporter": "python",
   "pygments_lexer": "ipython3",
   "version": "3.10.8"
  }
 },
 "nbformat": 4,
 "nbformat_minor": 5
}
